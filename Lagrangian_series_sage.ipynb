{
 "cells": [
  {
   "cell_type": "code",
   "execution_count": 1,
   "metadata": {},
   "outputs": [],
   "source": [
    "%display latex"
   ]
  },
  {
   "cell_type": "code",
   "execution_count": 2,
   "metadata": {},
   "outputs": [
    {
     "data": {
      "text/html": [
       "<html><script type=\"math/tex; mode=display\">\\newcommand{\\Bold}[1]{\\mathbf{#1}}\\left[\\left(\\begin{array}{rr}\n",
       "0 & 1 \\\\\n",
       "1 & 0\n",
       "\\end{array}\\right), \\left(\\begin{array}{rr}\n",
       "0 & i \\\\\n",
       "-i & 0\n",
       "\\end{array}\\right), \\left(\\begin{array}{rr}\n",
       "1 & 0 \\\\\n",
       "0 & -1\n",
       "\\end{array}\\right)\\right]</script></html>"
      ],
      "text/plain": [
       "[\n",
       "[0 1]  [ 0  I]  [ 1  0]\n",
       "[1 0], [-I  0], [ 0 -1]\n",
       "]"
      ]
     },
     "execution_count": 2,
     "metadata": {},
     "output_type": "execute_result"
    }
   ],
   "source": [
    "import numpy as np\n",
    "s1 = matrix(\n",
    "    [\n",
    "        [0, 1],\n",
    "        [1, 0]\n",
    "    ]\n",
    ")\n",
    "s2 = matrix(\n",
    "    [\n",
    "        [0, i],\n",
    "        [-i, 0]\n",
    "    ]\n",
    ")\n",
    "s3 = matrix(\n",
    "    [\n",
    "        [1, 0],\n",
    "        [0, -1]\n",
    "    ]\n",
    ")\n",
    "\n",
    "one = matrix.identity(s1.dimensions()[0])\n",
    "\n",
    "s = [s1, s2, s3]\n",
    "s"
   ]
  },
  {
   "cell_type": "code",
   "execution_count": 3,
   "metadata": {},
   "outputs": [
    {
     "data": {
      "text/html": [
       "<html><script type=\"math/tex; mode=display\">\\newcommand{\\Bold}[1]{\\mathbf{#1}}\\left(\\pi_1\\left(x\\right),\\,\\pi_2\\left(x\\right),\\,\\pi_3\\left(x\\right)\\right)</script></html>"
      ],
      "text/plain": [
       "(pi1(x), pi2(x), pi3(x))"
      ]
     },
     "execution_count": 3,
     "metadata": {},
     "output_type": "execute_result"
    }
   ],
   "source": [
    "# Hack\n",
    "def Id(self, x): return self(x)\n",
    "\n",
    "p = vector([\n",
    "    function(\"pi\"+str(i), latex_name=\"\\\\pi_\"+str(i), conjugate_func=Id)(x) for i  in range(1, 4)\n",
    "])\n",
    "p"
   ]
  },
  {
   "cell_type": "code",
   "execution_count": 4,
   "metadata": {},
   "outputs": [],
   "source": [
    "var(\"e\", latex_name=\"\\\\varepsilon\", domain=\"real\")\n",
    "var(\"d\", latex_name=\"\\\\delta\", domain=\"real\")\n",
    "var(\"mu\", latex_name=\"\\\\mu_I\", domain=\"real\")\n",
    "var(\"a\", latex_name=\"\\\\alpha\", domain=\"real\")\n",
    "\n",
    "pi_s = e * sum([s[i]*p[i] for i in range(len(s))])\n",
    "v = 1/2*d*mu*s3\n",
    "\n",
    "n = 5 # expand up to, not incluing, n"
   ]
  },
  {
   "cell_type": "code",
   "execution_count": 5,
   "metadata": {},
   "outputs": [],
   "source": [
    "def mat_series(mat, x, n):\n",
    "    d = mat.dimensions()\n",
    "    for i in range(0, d[0]):\n",
    "        for j in range(0, d[1]):\n",
    "            mat[i, j] = mat[i, j].series(x, n).truncate()\n",
    "\n",
    "def mat_simp(mat):\n",
    "    d = mat.dimensions()\n",
    "    for i in range(0, d[0]):\n",
    "        for j in range(0, d[1]):\n",
    "            mat[i, j] = mat[i, j].full_simplify()\n",
    "            mat[i, j] = mat[i, j].trig_reduce()\n",
    "\n",
    "def mat_prep(mat, n=n):\n",
    "    mat_series(mat, e, n)\n",
    "    mat_simp(mat)\n",
    "    return mat\n",
    "\n",
    "def print_e(elem):\n",
    "    coeff = elem.coefficients(e)\n",
    "    for i in range(len(coeff)):\n",
    "        print(e^coeff[i][1], \":\")\n",
    "        c = coeff[i][0].coefficients(mu)\n",
    "        for k in c:\n",
    "            s = k[0].full_simplify()*mu**k[1]\n",
    "            s = s.trig_reduce()\n",
    "            pretty_print(s.factor().factor())"
   ]
  },
  {
   "cell_type": "code",
   "execution_count": 6,
   "metadata": {},
   "outputs": [],
   "source": [
    "acom = lambda A1, A2 : A1 * A2 + A2 * A1\n",
    "com = lambda A1, A2 : A1 * A2 - A2 * A1\n",
    "\n",
    "def proj(A):\n",
    "    A1 = A.trace()/2\n",
    "    A = A - one * A1\n",
    "    v = [A1, acom(A, s1)[0, 0]/2, acom(A, s2)[0, 0]/2, acom(A, s3)[0, 0]/2]\n",
    "    v = [a.full_simplify().trig_reduce() for a in v]\n",
    "    return v "
   ]
  },
  {
   "cell_type": "code",
   "execution_count": 7,
   "metadata": {},
   "outputs": [],
   "source": [
    "POW = lambda A, n : matrix.identity(A.dimensions()[0]) if (n == 0) else A * POW(A, n-1)\n",
    "EXP = lambda A, n : sum([POW(A, i)/factorial(i) for i in range(n+1)])"
   ]
  },
  {
   "cell_type": "code",
   "execution_count": 8,
   "metadata": {},
   "outputs": [
    {
     "data": {
      "text/html": [
       "<html><script type=\"math/tex; mode=display\">\\newcommand{\\Bold}[1]{\\mathbf{#1}}\\left(\\begin{array}{rr}\n",
       "-1.00000000000000 & -3.46629141516451 \\times 10^{-16} \\\\\n",
       "3.46629141516451 \\times 10^{-16} & -1.00000000000000\n",
       "\\end{array}\\right)</script></html>"
      ],
      "text/plain": [
       "[    -1.00000000000000 -3.46629141516451e-16]\n",
       "[ 3.46629141516451e-16     -1.00000000000000]"
      ]
     },
     "execution_count": 8,
     "metadata": {},
     "output_type": "execute_result"
    }
   ],
   "source": [
    "m = Matrix([[0, 1], [-1, 0]])\n",
    "POW(m, 3)\n",
    "\n",
    "N(EXP(-pi*m, 100)) # Matrix rep. of i. Should be -one"
   ]
  },
  {
   "cell_type": "code",
   "execution_count": 9,
   "metadata": {},
   "outputs": [],
   "source": [
    "A_a = one*cos(a/2) + I * s1 * sin(a/2)\n",
    "U = lambda n: EXP(I * pi_s/2, n)\n",
    "SIGMA = lambda n: mat_prep(A_a * U(n) * U(n) * A_a)\n",
    "S = mat_prep(SIGMA(n))"
   ]
  },
  {
   "cell_type": "code",
   "execution_count": 10,
   "metadata": {},
   "outputs": [
    {
     "name": "stdout",
     "output_type": "stream",
     "text": [
      "tau_0:\n"
     ]
    },
    {
     "data": {
      "text/html": [
       "<html><script type=\"math/tex; mode=display\">\\newcommand{\\Bold}[1]{\\mathbf{#1}}\\cos\\left({\\alpha}\\right)</script></html>"
      ],
      "text/plain": [
       "cos(a)"
      ]
     },
     "metadata": {},
     "output_type": "display_data"
    },
    {
     "data": {
      "text/html": [
       "<html><script type=\"math/tex; mode=display\">\\newcommand{\\Bold}[1]{\\mathbf{#1}}-\\pi_1\\left(x\\right) \\sin\\left({\\alpha}\\right)</script></html>"
      ],
      "text/plain": [
       "-pi1(x)*sin(a)"
      ]
     },
     "metadata": {},
     "output_type": "display_data"
    },
    {
     "data": {
      "text/html": [
       "<html><script type=\"math/tex; mode=display\">\\newcommand{\\Bold}[1]{\\mathbf{#1}}-\\frac{1}{2} \\, {\\left(\\pi_1\\left(x\\right)^{2} + \\pi_2\\left(x\\right)^{2} + \\pi_3\\left(x\\right)^{2}\\right)} \\cos\\left({\\alpha}\\right)</script></html>"
      ],
      "text/plain": [
       "-1/2*(pi1(x)^2 + pi2(x)^2 + pi3(x)^2)*cos(a)"
      ]
     },
     "metadata": {},
     "output_type": "display_data"
    },
    {
     "data": {
      "text/html": [
       "<html><script type=\"math/tex; mode=display\">\\newcommand{\\Bold}[1]{\\mathbf{#1}}\\frac{1}{6} \\, {\\left(\\pi_1\\left(x\\right)^{2} + \\pi_2\\left(x\\right)^{2} + \\pi_3\\left(x\\right)^{2}\\right)} \\pi_1\\left(x\\right) \\sin\\left({\\alpha}\\right)</script></html>"
      ],
      "text/plain": [
       "1/6*(pi1(x)^2 + pi2(x)^2 + pi3(x)^2)*pi1(x)*sin(a)"
      ]
     },
     "metadata": {},
     "output_type": "display_data"
    },
    {
     "data": {
      "text/html": [
       "<html><script type=\"math/tex; mode=display\">\\newcommand{\\Bold}[1]{\\mathbf{#1}}\\frac{1}{24} \\, {\\left(\\pi_1\\left(x\\right)^{2} + \\pi_2\\left(x\\right)^{2} + \\pi_3\\left(x\\right)^{2}\\right)}^{2} \\cos\\left({\\alpha}\\right)</script></html>"
      ],
      "text/plain": [
       "1/24*(pi1(x)^2 + pi2(x)^2 + pi3(x)^2)^2*cos(a)"
      ]
     },
     "metadata": {},
     "output_type": "display_data"
    },
    {
     "name": "stdout",
     "output_type": "stream",
     "text": [
      "tau_1:\n"
     ]
    },
    {
     "data": {
      "text/html": [
       "<html><script type=\"math/tex; mode=display\">\\newcommand{\\Bold}[1]{\\mathbf{#1}}i \\, \\sin\\left({\\alpha}\\right)</script></html>"
      ],
      "text/plain": [
       "I*sin(a)"
      ]
     },
     "metadata": {},
     "output_type": "display_data"
    },
    {
     "data": {
      "text/html": [
       "<html><script type=\"math/tex; mode=display\">\\newcommand{\\Bold}[1]{\\mathbf{#1}}i \\, \\cos\\left({\\alpha}\\right) \\pi_1\\left(x\\right)</script></html>"
      ],
      "text/plain": [
       "I*cos(a)*pi1(x)"
      ]
     },
     "metadata": {},
     "output_type": "display_data"
    },
    {
     "data": {
      "text/html": [
       "<html><script type=\"math/tex; mode=display\">\\newcommand{\\Bold}[1]{\\mathbf{#1}}-\\frac{1}{2} i \\, {\\left(\\pi_1\\left(x\\right)^{2} + \\pi_2\\left(x\\right)^{2} + \\pi_3\\left(x\\right)^{2}\\right)} \\sin\\left({\\alpha}\\right)</script></html>"
      ],
      "text/plain": [
       "-1/2*I*(pi1(x)^2 + pi2(x)^2 + pi3(x)^2)*sin(a)"
      ]
     },
     "metadata": {},
     "output_type": "display_data"
    },
    {
     "data": {
      "text/html": [
       "<html><script type=\"math/tex; mode=display\">\\newcommand{\\Bold}[1]{\\mathbf{#1}}-\\frac{1}{6} i \\, {\\left(\\pi_1\\left(x\\right)^{2} + \\pi_2\\left(x\\right)^{2} + \\pi_3\\left(x\\right)^{2}\\right)} \\cos\\left({\\alpha}\\right) \\pi_1\\left(x\\right)</script></html>"
      ],
      "text/plain": [
       "-1/6*I*(pi1(x)^2 + pi2(x)^2 + pi3(x)^2)*cos(a)*pi1(x)"
      ]
     },
     "metadata": {},
     "output_type": "display_data"
    },
    {
     "data": {
      "text/html": [
       "<html><script type=\"math/tex; mode=display\">\\newcommand{\\Bold}[1]{\\mathbf{#1}}\\frac{1}{24} i \\, {\\left(\\pi_1\\left(x\\right)^{2} + \\pi_2\\left(x\\right)^{2} + \\pi_3\\left(x\\right)^{2}\\right)}^{2} \\sin\\left({\\alpha}\\right)</script></html>"
      ],
      "text/plain": [
       "1/24*I*(pi1(x)^2 + pi2(x)^2 + pi3(x)^2)^2*sin(a)"
      ]
     },
     "metadata": {},
     "output_type": "display_data"
    },
    {
     "name": "stdout",
     "output_type": "stream",
     "text": [
      "tau_2:\n"
     ]
    },
    {
     "data": {
      "text/html": [
       "<html><script type=\"math/tex; mode=display\">\\newcommand{\\Bold}[1]{\\mathbf{#1}}i \\, \\pi_2\\left(x\\right)</script></html>"
      ],
      "text/plain": [
       "I*pi2(x)"
      ]
     },
     "metadata": {},
     "output_type": "display_data"
    },
    {
     "data": {
      "text/html": [
       "<html><script type=\"math/tex; mode=display\">\\newcommand{\\Bold}[1]{\\mathbf{#1}}-\\frac{1}{6} i \\, {\\left(\\pi_1\\left(x\\right)^{2} + \\pi_2\\left(x\\right)^{2} + \\pi_3\\left(x\\right)^{2}\\right)} \\pi_2\\left(x\\right)</script></html>"
      ],
      "text/plain": [
       "-1/6*I*(pi1(x)^2 + pi2(x)^2 + pi3(x)^2)*pi2(x)"
      ]
     },
     "metadata": {},
     "output_type": "display_data"
    },
    {
     "name": "stdout",
     "output_type": "stream",
     "text": [
      "tau_3:\n"
     ]
    },
    {
     "data": {
      "text/html": [
       "<html><script type=\"math/tex; mode=display\">\\newcommand{\\Bold}[1]{\\mathbf{#1}}i \\, \\pi_3\\left(x\\right)</script></html>"
      ],
      "text/plain": [
       "I*pi3(x)"
      ]
     },
     "metadata": {},
     "output_type": "display_data"
    },
    {
     "data": {
      "text/html": [
       "<html><script type=\"math/tex; mode=display\">\\newcommand{\\Bold}[1]{\\mathbf{#1}}-\\frac{1}{6} i \\, {\\left(\\pi_1\\left(x\\right)^{2} + \\pi_2\\left(x\\right)^{2} + \\pi_3\\left(x\\right)^{2}\\right)} \\pi_3\\left(x\\right)</script></html>"
      ],
      "text/plain": [
       "-1/6*I*(pi1(x)^2 + pi2(x)^2 + pi3(x)^2)*pi3(x)"
      ]
     },
     "metadata": {},
     "output_type": "display_data"
    }
   ],
   "source": [
    "k = proj(S)\n",
    "for i, ki in enumerate(k):\n",
    "    print(\"tau_{}:\".format(i))\n",
    "    c = ki.coefficients(e)\n",
    "    for ci in c:\n",
    "        pretty_print(ci[0].full_simplify().factor())"
   ]
  },
  {
   "cell_type": "code",
   "execution_count": 11,
   "metadata": {},
   "outputs": [],
   "source": [
    "dS = diff(S, x) # nabla_mu Sigma\n",
    "dSct = diff(S.C.T, x)\n",
    "COM = v*S - S*v # [v_mu, Sigma]"
   ]
  },
  {
   "cell_type": "code",
   "execution_count": 12,
   "metadata": {},
   "outputs": [],
   "source": [
    "term1 = mat_prep(dS*(dSct))\n",
    "term2 = I*mat_prep(COM*dSct - dS*(COM.C.T))\n",
    "term3 = mat_prep(COM*COM.C.T)\n",
    "term4 = mat_prep(S + S.C.T)\n",
    "terms_full = [term1, term2, term3, term4]"
   ]
  },
  {
   "cell_type": "code",
   "execution_count": 13,
   "metadata": {},
   "outputs": [
    {
     "name": "stdout",
     "output_type": "stream",
     "text": [
      "term 1:\n",
      "e^2 :\n"
     ]
    },
    {
     "data": {
      "text/html": [
       "<html><script type=\"math/tex; mode=display\">\\newcommand{\\Bold}[1]{\\mathbf{#1}}2 \\, \\frac{\\partial}{\\partial x}\\pi_1\\left(x\\right)^{2} + 2 \\, \\frac{\\partial}{\\partial x}\\pi_2\\left(x\\right)^{2} + 2 \\, \\frac{\\partial}{\\partial x}\\pi_3\\left(x\\right)^{2}</script></html>"
      ],
      "text/plain": [
       "2*diff(pi1(x), x)^2 + 2*diff(pi2(x), x)^2 + 2*diff(pi3(x), x)^2"
      ]
     },
     "metadata": {},
     "output_type": "display_data"
    },
    {
     "name": "stdout",
     "output_type": "stream",
     "text": [
      "e^4 :\n"
     ]
    },
    {
     "data": {
      "text/html": [
       "<html><script type=\"math/tex; mode=display\">\\newcommand{\\Bold}[1]{\\mathbf{#1}}-\\frac{2}{3} \\, \\pi_2\\left(x\\right)^{2} \\frac{\\partial}{\\partial x}\\pi_1\\left(x\\right)^{2} - \\frac{2}{3} \\, \\pi_3\\left(x\\right)^{2} \\frac{\\partial}{\\partial x}\\pi_1\\left(x\\right)^{2} + \\frac{4}{3} \\, \\pi_1\\left(x\\right) \\pi_2\\left(x\\right) \\frac{\\partial}{\\partial x}\\pi_1\\left(x\\right) \\frac{\\partial}{\\partial x}\\pi_2\\left(x\\right) - \\frac{2}{3} \\, \\pi_1\\left(x\\right)^{2} \\frac{\\partial}{\\partial x}\\pi_2\\left(x\\right)^{2} - \\frac{2}{3} \\, \\pi_3\\left(x\\right)^{2} \\frac{\\partial}{\\partial x}\\pi_2\\left(x\\right)^{2} + \\frac{4}{3} \\, \\pi_1\\left(x\\right) \\pi_3\\left(x\\right) \\frac{\\partial}{\\partial x}\\pi_1\\left(x\\right) \\frac{\\partial}{\\partial x}\\pi_3\\left(x\\right) + \\frac{4}{3} \\, \\pi_2\\left(x\\right) \\pi_3\\left(x\\right) \\frac{\\partial}{\\partial x}\\pi_2\\left(x\\right) \\frac{\\partial}{\\partial x}\\pi_3\\left(x\\right) - \\frac{2}{3} \\, \\pi_1\\left(x\\right)^{2} \\frac{\\partial}{\\partial x}\\pi_3\\left(x\\right)^{2} - \\frac{2}{3} \\, \\pi_2\\left(x\\right)^{2} \\frac{\\partial}{\\partial x}\\pi_3\\left(x\\right)^{2}</script></html>"
      ],
      "text/plain": [
       "-2/3*pi2(x)^2*diff(pi1(x), x)^2 - 2/3*pi3(x)^2*diff(pi1(x), x)^2 + 4/3*pi1(x)*pi2(x)*diff(pi1(x), x)*diff(pi2(x), x) - 2/3*pi1(x)^2*diff(pi2(x), x)^2 - 2/3*pi3(x)^2*diff(pi2(x), x)^2 + 4/3*pi1(x)*pi3(x)*diff(pi1(x), x)*diff(pi3(x), x) + 4/3*pi2(x)*pi3(x)*diff(pi2(x), x)*diff(pi3(x), x) - 2/3*pi1(x)^2*diff(pi3(x), x)^2 - 2/3*pi2(x)^2*diff(pi3(x), x)^2"
      ]
     },
     "metadata": {},
     "output_type": "display_data"
    },
    {
     "name": "stdout",
     "output_type": "stream",
     "text": [
      "term 2:\n",
      "e :\n"
     ]
    },
    {
     "data": {
      "text/html": [
       "<html><script type=\"math/tex; mode=display\">\\newcommand{\\Bold}[1]{\\mathbf{#1}}4 \\, {\\delta} {\\mu_I} \\sin\\left({\\alpha}\\right) \\frac{\\partial}{\\partial x}\\pi_2\\left(x\\right)</script></html>"
      ],
      "text/plain": [
       "4*d*mu*sin(a)*diff(pi2(x), x)"
      ]
     },
     "metadata": {},
     "output_type": "display_data"
    },
    {
     "name": "stdout",
     "output_type": "stream",
     "text": [
      "e^2 :\n"
     ]
    },
    {
     "data": {
      "text/html": [
       "<html><script type=\"math/tex; mode=display\">\\newcommand{\\Bold}[1]{\\mathbf{#1}}-4 \\, {\\left(\\pi_2\\left(x\\right) \\frac{\\partial}{\\partial x}\\pi_1\\left(x\\right) - \\pi_1\\left(x\\right) \\frac{\\partial}{\\partial x}\\pi_2\\left(x\\right)\\right)} {\\delta} {\\mu_I} \\cos\\left({\\alpha}\\right)</script></html>"
      ],
      "text/plain": [
       "-4*(pi2(x)*diff(pi1(x), x) - pi1(x)*diff(pi2(x), x))*d*mu*cos(a)"
      ]
     },
     "metadata": {},
     "output_type": "display_data"
    },
    {
     "name": "stdout",
     "output_type": "stream",
     "text": [
      "e^3 :\n"
     ]
    },
    {
     "data": {
      "text/html": [
       "<html><script type=\"math/tex; mode=display\">\\newcommand{\\Bold}[1]{\\mathbf{#1}}\\frac{8}{3} \\, {\\left(\\pi_1\\left(x\\right) \\pi_2\\left(x\\right) \\frac{\\partial}{\\partial x}\\pi_1\\left(x\\right) - \\pi_1\\left(x\\right)^{2} \\frac{\\partial}{\\partial x}\\pi_2\\left(x\\right) - \\pi_3\\left(x\\right)^{2} \\frac{\\partial}{\\partial x}\\pi_2\\left(x\\right) + \\pi_2\\left(x\\right) \\pi_3\\left(x\\right) \\frac{\\partial}{\\partial x}\\pi_3\\left(x\\right)\\right)} {\\delta} {\\mu_I} \\sin\\left({\\alpha}\\right)</script></html>"
      ],
      "text/plain": [
       "8/3*(pi1(x)*pi2(x)*diff(pi1(x), x) - pi1(x)^2*diff(pi2(x), x) - pi3(x)^2*diff(pi2(x), x) + pi2(x)*pi3(x)*diff(pi3(x), x))*d*mu*sin(a)"
      ]
     },
     "metadata": {},
     "output_type": "display_data"
    },
    {
     "name": "stdout",
     "output_type": "stream",
     "text": [
      "e^4 :\n"
     ]
    },
    {
     "data": {
      "text/html": [
       "<html><script type=\"math/tex; mode=display\">\\newcommand{\\Bold}[1]{\\mathbf{#1}}\\frac{4}{3} \\, {\\left(\\pi_1\\left(x\\right)^{2} + \\pi_2\\left(x\\right)^{2} + \\pi_3\\left(x\\right)^{2}\\right)} {\\left(\\pi_2\\left(x\\right) \\frac{\\partial}{\\partial x}\\pi_1\\left(x\\right) - \\pi_1\\left(x\\right) \\frac{\\partial}{\\partial x}\\pi_2\\left(x\\right)\\right)} {\\delta} {\\mu_I} \\cos\\left({\\alpha}\\right)</script></html>"
      ],
      "text/plain": [
       "4/3*(pi1(x)^2 + pi2(x)^2 + pi3(x)^2)*(pi2(x)*diff(pi1(x), x) - pi1(x)*diff(pi2(x), x))*d*mu*cos(a)"
      ]
     },
     "metadata": {},
     "output_type": "display_data"
    },
    {
     "name": "stdout",
     "output_type": "stream",
     "text": [
      "term 3:\n",
      "1 :\n"
     ]
    },
    {
     "data": {
      "text/html": [
       "<html><script type=\"math/tex; mode=display\">\\newcommand{\\Bold}[1]{\\mathbf{#1}}-{\\delta}^{2} {\\mu_I}^{2} {\\left(\\cos\\left(2 \\, {\\alpha}\\right) - 1\\right)}</script></html>"
      ],
      "text/plain": [
       "-d^2*mu^2*(cos(2*a) - 1)"
      ]
     },
     "metadata": {},
     "output_type": "display_data"
    },
    {
     "name": "stdout",
     "output_type": "stream",
     "text": [
      "e :\n"
     ]
    },
    {
     "data": {
      "text/html": [
       "<html><script type=\"math/tex; mode=display\">\\newcommand{\\Bold}[1]{\\mathbf{#1}}2 \\, {\\delta}^{2} {\\mu_I}^{2} \\pi_1\\left(x\\right) \\sin\\left(2 \\, {\\alpha}\\right)</script></html>"
      ],
      "text/plain": [
       "2*d^2*mu^2*pi1(x)*sin(2*a)"
      ]
     },
     "metadata": {},
     "output_type": "display_data"
    },
    {
     "name": "stdout",
     "output_type": "stream",
     "text": [
      "e^2 :\n"
     ]
    },
    {
     "data": {
      "text/html": [
       "<html><script type=\"math/tex; mode=display\">\\newcommand{\\Bold}[1]{\\mathbf{#1}}{\\left(2 \\, \\cos\\left(2 \\, {\\alpha}\\right) \\pi_1\\left(x\\right)^{2} + \\cos\\left(2 \\, {\\alpha}\\right) \\pi_2\\left(x\\right)^{2} + \\cos\\left(2 \\, {\\alpha}\\right) \\pi_3\\left(x\\right)^{2} + \\pi_2\\left(x\\right)^{2} - \\pi_3\\left(x\\right)^{2}\\right)} {\\delta}^{2} {\\mu_I}^{2}</script></html>"
      ],
      "text/plain": [
       "(2*cos(2*a)*pi1(x)^2 + cos(2*a)*pi2(x)^2 + cos(2*a)*pi3(x)^2 + pi2(x)^2 - pi3(x)^2)*d^2*mu^2"
      ]
     },
     "metadata": {},
     "output_type": "display_data"
    },
    {
     "name": "stdout",
     "output_type": "stream",
     "text": [
      "e^3 :\n"
     ]
    },
    {
     "data": {
      "text/html": [
       "<html><script type=\"math/tex; mode=display\">\\newcommand{\\Bold}[1]{\\mathbf{#1}}-\\frac{4}{3} \\, {\\left(\\pi_1\\left(x\\right)^{2} + \\pi_2\\left(x\\right)^{2} + \\pi_3\\left(x\\right)^{2}\\right)} {\\delta}^{2} {\\mu_I}^{2} \\pi_1\\left(x\\right) \\sin\\left(2 \\, {\\alpha}\\right)</script></html>"
      ],
      "text/plain": [
       "-4/3*(pi1(x)^2 + pi2(x)^2 + pi3(x)^2)*d^2*mu^2*pi1(x)*sin(2*a)"
      ]
     },
     "metadata": {},
     "output_type": "display_data"
    },
    {
     "name": "stdout",
     "output_type": "stream",
     "text": [
      "e^4 :\n"
     ]
    },
    {
     "data": {
      "text/html": [
       "<html><script type=\"math/tex; mode=display\">\\newcommand{\\Bold}[1]{\\mathbf{#1}}-\\frac{1}{3} \\, {\\left(2 \\, \\cos\\left(2 \\, {\\alpha}\\right) \\pi_1\\left(x\\right)^{2} + \\cos\\left(2 \\, {\\alpha}\\right) \\pi_2\\left(x\\right)^{2} + \\cos\\left(2 \\, {\\alpha}\\right) \\pi_3\\left(x\\right)^{2} + \\pi_2\\left(x\\right)^{2} - \\pi_3\\left(x\\right)^{2}\\right)} {\\left(\\pi_1\\left(x\\right)^{2} + \\pi_2\\left(x\\right)^{2} + \\pi_3\\left(x\\right)^{2}\\right)} {\\delta}^{2} {\\mu_I}^{2}</script></html>"
      ],
      "text/plain": [
       "-1/3*(2*cos(2*a)*pi1(x)^2 + cos(2*a)*pi2(x)^2 + cos(2*a)*pi3(x)^2 + pi2(x)^2 - pi3(x)^2)*(pi1(x)^2 + pi2(x)^2 + pi3(x)^2)*d^2*mu^2"
      ]
     },
     "metadata": {},
     "output_type": "display_data"
    },
    {
     "name": "stdout",
     "output_type": "stream",
     "text": [
      "term 4:\n",
      "1 :\n"
     ]
    },
    {
     "data": {
      "text/html": [
       "<html><script type=\"math/tex; mode=display\">\\newcommand{\\Bold}[1]{\\mathbf{#1}}4 \\, \\cos\\left({\\alpha}\\right)</script></html>"
      ],
      "text/plain": [
       "4*cos(a)"
      ]
     },
     "metadata": {},
     "output_type": "display_data"
    },
    {
     "name": "stdout",
     "output_type": "stream",
     "text": [
      "e :\n"
     ]
    },
    {
     "data": {
      "text/html": [
       "<html><script type=\"math/tex; mode=display\">\\newcommand{\\Bold}[1]{\\mathbf{#1}}-4 \\, \\pi_1\\left(x\\right) \\sin\\left({\\alpha}\\right)</script></html>"
      ],
      "text/plain": [
       "-4*pi1(x)*sin(a)"
      ]
     },
     "metadata": {},
     "output_type": "display_data"
    },
    {
     "name": "stdout",
     "output_type": "stream",
     "text": [
      "e^2 :\n"
     ]
    },
    {
     "data": {
      "text/html": [
       "<html><script type=\"math/tex; mode=display\">\\newcommand{\\Bold}[1]{\\mathbf{#1}}-2 \\, {\\left(\\pi_1\\left(x\\right)^{2} + \\pi_2\\left(x\\right)^{2} + \\pi_3\\left(x\\right)^{2}\\right)} \\cos\\left({\\alpha}\\right)</script></html>"
      ],
      "text/plain": [
       "-2*(pi1(x)^2 + pi2(x)^2 + pi3(x)^2)*cos(a)"
      ]
     },
     "metadata": {},
     "output_type": "display_data"
    },
    {
     "name": "stdout",
     "output_type": "stream",
     "text": [
      "e^3 :\n"
     ]
    },
    {
     "data": {
      "text/html": [
       "<html><script type=\"math/tex; mode=display\">\\newcommand{\\Bold}[1]{\\mathbf{#1}}\\frac{2}{3} \\, {\\left(\\pi_1\\left(x\\right)^{2} + \\pi_2\\left(x\\right)^{2} + \\pi_3\\left(x\\right)^{2}\\right)} \\pi_1\\left(x\\right) \\sin\\left({\\alpha}\\right)</script></html>"
      ],
      "text/plain": [
       "2/3*(pi1(x)^2 + pi2(x)^2 + pi3(x)^2)*pi1(x)*sin(a)"
      ]
     },
     "metadata": {},
     "output_type": "display_data"
    },
    {
     "name": "stdout",
     "output_type": "stream",
     "text": [
      "e^4 :\n"
     ]
    },
    {
     "data": {
      "text/html": [
       "<html><script type=\"math/tex; mode=display\">\\newcommand{\\Bold}[1]{\\mathbf{#1}}\\frac{1}{6} \\, {\\left(\\pi_1\\left(x\\right)^{2} + \\pi_2\\left(x\\right)^{2} + \\pi_3\\left(x\\right)^{2}\\right)}^{2} \\cos\\left({\\alpha}\\right)</script></html>"
      ],
      "text/plain": [
       "1/6*(pi1(x)^2 + pi2(x)^2 + pi3(x)^2)^2*cos(a)"
      ]
     },
     "metadata": {},
     "output_type": "display_data"
    }
   ],
   "source": [
    "terms = [t.trace().full_simplify() for t in terms_full]\n",
    "\n",
    "for i, t in enumerate(terms):\n",
    "    print(\"term {}:\".format(i+1))\n",
    "    print_e(t)"
   ]
  },
  {
   "cell_type": "code",
   "execution_count": 14,
   "metadata": {},
   "outputs": [],
   "source": [
    "var(\"m\", domain=\"real\")\n",
    "var(\"f\", domain=\"real\")\n",
    "\n",
    "L = 1/4*(term1+term2+term3+m^2*term4).trace().full_simplify().trig_reduce()\n",
    "L_coeff = L.coefficients(e)\n",
    "L_coeff = [c[0].full_simplify().trig_reduce() for c in L_coeff]"
   ]
  },
  {
   "cell_type": "code",
   "execution_count": 15,
   "metadata": {},
   "outputs": [
    {
     "name": "stdout",
     "output_type": "stream",
     "text": [
      "1\n"
     ]
    },
    {
     "data": {
      "text/html": [
       "<html><script type=\"math/tex; mode=display\">\\newcommand{\\Bold}[1]{\\mathbf{#1}}m^{2} \\cos\\left({\\alpha}\\right)</script></html>"
      ],
      "text/plain": [
       "m^2*cos(a)"
      ]
     },
     "metadata": {},
     "output_type": "display_data"
    },
    {
     "data": {
      "text/html": [
       "<html><script type=\"math/tex; mode=display\">\\newcommand{\\Bold}[1]{\\mathbf{#1}}\\frac{1}{2} \\, {\\delta}^{2} {\\mu_I}^{2} \\sin\\left({\\alpha}\\right)^{2}</script></html>"
      ],
      "text/plain": [
       "1/2*d^2*mu^2*sin(a)^2"
      ]
     },
     "metadata": {},
     "output_type": "display_data"
    },
    {
     "name": "stdout",
     "output_type": "stream",
     "text": [
      "e\n"
     ]
    },
    {
     "data": {
      "text/html": [
       "<html><script type=\"math/tex; mode=display\">\\newcommand{\\Bold}[1]{\\mathbf{#1}}-m^{2} \\pi_1\\left(x\\right) \\sin\\left({\\alpha}\\right)</script></html>"
      ],
      "text/plain": [
       "-m^2*pi1(x)*sin(a)"
      ]
     },
     "metadata": {},
     "output_type": "display_data"
    },
    {
     "data": {
      "text/html": [
       "<html><script type=\"math/tex; mode=display\">\\newcommand{\\Bold}[1]{\\mathbf{#1}}{\\delta} {\\mu_I} \\sin\\left({\\alpha}\\right) \\frac{\\partial}{\\partial x}\\pi_2\\left(x\\right)</script></html>"
      ],
      "text/plain": [
       "d*mu*sin(a)*diff(pi2(x), x)"
      ]
     },
     "metadata": {},
     "output_type": "display_data"
    },
    {
     "data": {
      "text/html": [
       "<html><script type=\"math/tex; mode=display\">\\newcommand{\\Bold}[1]{\\mathbf{#1}}{\\delta}^{2} {\\mu_I}^{2} \\cos\\left({\\alpha}\\right) \\pi_1\\left(x\\right) \\sin\\left({\\alpha}\\right)</script></html>"
      ],
      "text/plain": [
       "d^2*mu^2*cos(a)*pi1(x)*sin(a)"
      ]
     },
     "metadata": {},
     "output_type": "display_data"
    },
    {
     "name": "stdout",
     "output_type": "stream",
     "text": [
      "e^2\n"
     ]
    },
    {
     "data": {
      "text/html": [
       "<html><script type=\"math/tex; mode=display\">\\newcommand{\\Bold}[1]{\\mathbf{#1}}-\\frac{1}{2} \\, m^{2} \\cos\\left({\\alpha}\\right) \\pi_1\\left(x\\right)^{2} - \\frac{1}{2} \\, m^{2} \\cos\\left({\\alpha}\\right) \\pi_2\\left(x\\right)^{2} - \\frac{1}{2} \\, m^{2} \\cos\\left({\\alpha}\\right) \\pi_3\\left(x\\right)^{2} + \\frac{1}{2} \\, \\frac{\\partial}{\\partial x}\\pi_1\\left(x\\right)^{2} + \\frac{1}{2} \\, \\frac{\\partial}{\\partial x}\\pi_2\\left(x\\right)^{2} + \\frac{1}{2} \\, \\frac{\\partial}{\\partial x}\\pi_3\\left(x\\right)^{2}</script></html>"
      ],
      "text/plain": [
       "-1/2*m^2*cos(a)*pi1(x)^2 - 1/2*m^2*cos(a)*pi2(x)^2 - 1/2*m^2*cos(a)*pi3(x)^2 + 1/2*diff(pi1(x), x)^2 + 1/2*diff(pi2(x), x)^2 + 1/2*diff(pi3(x), x)^2"
      ]
     },
     "metadata": {},
     "output_type": "display_data"
    },
    {
     "data": {
      "text/html": [
       "<html><script type=\"math/tex; mode=display\">\\newcommand{\\Bold}[1]{\\mathbf{#1}}-{\\left(\\pi_2\\left(x\\right) \\frac{\\partial}{\\partial x}\\pi_1\\left(x\\right) - \\pi_1\\left(x\\right) \\frac{\\partial}{\\partial x}\\pi_2\\left(x\\right)\\right)} {\\delta} {\\mu_I} \\cos\\left({\\alpha}\\right)</script></html>"
      ],
      "text/plain": [
       "-(pi2(x)*diff(pi1(x), x) - pi1(x)*diff(pi2(x), x))*d*mu*cos(a)"
      ]
     },
     "metadata": {},
     "output_type": "display_data"
    },
    {
     "data": {
      "text/html": [
       "<html><script type=\"math/tex; mode=display\">\\newcommand{\\Bold}[1]{\\mathbf{#1}}\\frac{1}{2} \\, {\\left(2 \\, \\cos\\left({\\alpha}\\right)^{2} \\pi_1\\left(x\\right)^{2} + \\cos\\left({\\alpha}\\right)^{2} \\pi_2\\left(x\\right)^{2} + \\cos\\left({\\alpha}\\right)^{2} \\pi_3\\left(x\\right)^{2} - \\pi_1\\left(x\\right)^{2} - \\pi_3\\left(x\\right)^{2}\\right)} {\\delta}^{2} {\\mu_I}^{2}</script></html>"
      ],
      "text/plain": [
       "1/2*(2*cos(a)^2*pi1(x)^2 + cos(a)^2*pi2(x)^2 + cos(a)^2*pi3(x)^2 - pi1(x)^2 - pi3(x)^2)*d^2*mu^2"
      ]
     },
     "metadata": {},
     "output_type": "display_data"
    },
    {
     "name": "stdout",
     "output_type": "stream",
     "text": [
      "e^3\n"
     ]
    },
    {
     "data": {
      "text/html": [
       "<html><script type=\"math/tex; mode=display\">\\newcommand{\\Bold}[1]{\\mathbf{#1}}\\frac{1}{6} \\, {\\left(\\pi_1\\left(x\\right)^{2} + \\pi_2\\left(x\\right)^{2} + \\pi_3\\left(x\\right)^{2}\\right)} m^{2} \\pi_1\\left(x\\right) \\sin\\left({\\alpha}\\right)</script></html>"
      ],
      "text/plain": [
       "1/6*(pi1(x)^2 + pi2(x)^2 + pi3(x)^2)*m^2*pi1(x)*sin(a)"
      ]
     },
     "metadata": {},
     "output_type": "display_data"
    },
    {
     "data": {
      "text/html": [
       "<html><script type=\"math/tex; mode=display\">\\newcommand{\\Bold}[1]{\\mathbf{#1}}\\frac{2}{3} \\, {\\left(\\pi_1\\left(x\\right) \\pi_2\\left(x\\right) \\frac{\\partial}{\\partial x}\\pi_1\\left(x\\right) - \\pi_1\\left(x\\right)^{2} \\frac{\\partial}{\\partial x}\\pi_2\\left(x\\right) - \\pi_3\\left(x\\right)^{2} \\frac{\\partial}{\\partial x}\\pi_2\\left(x\\right) + \\pi_2\\left(x\\right) \\pi_3\\left(x\\right) \\frac{\\partial}{\\partial x}\\pi_3\\left(x\\right)\\right)} {\\delta} {\\mu_I} \\sin\\left({\\alpha}\\right)</script></html>"
      ],
      "text/plain": [
       "2/3*(pi1(x)*pi2(x)*diff(pi1(x), x) - pi1(x)^2*diff(pi2(x), x) - pi3(x)^2*diff(pi2(x), x) + pi2(x)*pi3(x)*diff(pi3(x), x))*d*mu*sin(a)"
      ]
     },
     "metadata": {},
     "output_type": "display_data"
    },
    {
     "data": {
      "text/html": [
       "<html><script type=\"math/tex; mode=display\">\\newcommand{\\Bold}[1]{\\mathbf{#1}}-\\frac{2}{3} \\, {\\left(\\pi_1\\left(x\\right)^{2} + \\pi_2\\left(x\\right)^{2} + \\pi_3\\left(x\\right)^{2}\\right)} {\\delta}^{2} {\\mu_I}^{2} \\cos\\left({\\alpha}\\right) \\pi_1\\left(x\\right) \\sin\\left({\\alpha}\\right)</script></html>"
      ],
      "text/plain": [
       "-2/3*(pi1(x)^2 + pi2(x)^2 + pi3(x)^2)*d^2*mu^2*cos(a)*pi1(x)*sin(a)"
      ]
     },
     "metadata": {},
     "output_type": "display_data"
    },
    {
     "name": "stdout",
     "output_type": "stream",
     "text": [
      "e^4\n"
     ]
    },
    {
     "data": {
      "text/html": [
       "<html><script type=\"math/tex; mode=display\">\\newcommand{\\Bold}[1]{\\mathbf{#1}}\\frac{1}{24} \\, m^{2} \\cos\\left({\\alpha}\\right) \\pi_1\\left(x\\right)^{4} + \\frac{1}{12} \\, m^{2} \\cos\\left({\\alpha}\\right) \\pi_1\\left(x\\right)^{2} \\pi_2\\left(x\\right)^{2} + \\frac{1}{24} \\, m^{2} \\cos\\left({\\alpha}\\right) \\pi_2\\left(x\\right)^{4} + \\frac{1}{12} \\, m^{2} \\cos\\left({\\alpha}\\right) \\pi_1\\left(x\\right)^{2} \\pi_3\\left(x\\right)^{2} + \\frac{1}{12} \\, m^{2} \\cos\\left({\\alpha}\\right) \\pi_2\\left(x\\right)^{2} \\pi_3\\left(x\\right)^{2} + \\frac{1}{24} \\, m^{2} \\cos\\left({\\alpha}\\right) \\pi_3\\left(x\\right)^{4} - \\frac{1}{6} \\, \\pi_2\\left(x\\right)^{2} \\frac{\\partial}{\\partial x}\\pi_1\\left(x\\right)^{2} - \\frac{1}{6} \\, \\pi_3\\left(x\\right)^{2} \\frac{\\partial}{\\partial x}\\pi_1\\left(x\\right)^{2} + \\frac{1}{3} \\, \\pi_1\\left(x\\right) \\pi_2\\left(x\\right) \\frac{\\partial}{\\partial x}\\pi_1\\left(x\\right) \\frac{\\partial}{\\partial x}\\pi_2\\left(x\\right) - \\frac{1}{6} \\, \\pi_1\\left(x\\right)^{2} \\frac{\\partial}{\\partial x}\\pi_2\\left(x\\right)^{2} - \\frac{1}{6} \\, \\pi_3\\left(x\\right)^{2} \\frac{\\partial}{\\partial x}\\pi_2\\left(x\\right)^{2} + \\frac{1}{3} \\, \\pi_1\\left(x\\right) \\pi_3\\left(x\\right) \\frac{\\partial}{\\partial x}\\pi_1\\left(x\\right) \\frac{\\partial}{\\partial x}\\pi_3\\left(x\\right) + \\frac{1}{3} \\, \\pi_2\\left(x\\right) \\pi_3\\left(x\\right) \\frac{\\partial}{\\partial x}\\pi_2\\left(x\\right) \\frac{\\partial}{\\partial x}\\pi_3\\left(x\\right) - \\frac{1}{6} \\, \\pi_1\\left(x\\right)^{2} \\frac{\\partial}{\\partial x}\\pi_3\\left(x\\right)^{2} - \\frac{1}{6} \\, \\pi_2\\left(x\\right)^{2} \\frac{\\partial}{\\partial x}\\pi_3\\left(x\\right)^{2}</script></html>"
      ],
      "text/plain": [
       "1/24*m^2*cos(a)*pi1(x)^4 + 1/12*m^2*cos(a)*pi1(x)^2*pi2(x)^2 + 1/24*m^2*cos(a)*pi2(x)^4 + 1/12*m^2*cos(a)*pi1(x)^2*pi3(x)^2 + 1/12*m^2*cos(a)*pi2(x)^2*pi3(x)^2 + 1/24*m^2*cos(a)*pi3(x)^4 - 1/6*pi2(x)^2*diff(pi1(x), x)^2 - 1/6*pi3(x)^2*diff(pi1(x), x)^2 + 1/3*pi1(x)*pi2(x)*diff(pi1(x), x)*diff(pi2(x), x) - 1/6*pi1(x)^2*diff(pi2(x), x)^2 - 1/6*pi3(x)^2*diff(pi2(x), x)^2 + 1/3*pi1(x)*pi3(x)*diff(pi1(x), x)*diff(pi3(x), x) + 1/3*pi2(x)*pi3(x)*diff(pi2(x), x)*diff(pi3(x), x) - 1/6*pi1(x)^2*diff(pi3(x), x)^2 - 1/6*pi2(x)^2*diff(pi3(x), x)^2"
      ]
     },
     "metadata": {},
     "output_type": "display_data"
    },
    {
     "data": {
      "text/html": [
       "<html><script type=\"math/tex; mode=display\">\\newcommand{\\Bold}[1]{\\mathbf{#1}}\\frac{1}{3} \\, {\\left(\\pi_1\\left(x\\right)^{2} + \\pi_2\\left(x\\right)^{2} + \\pi_3\\left(x\\right)^{2}\\right)} {\\left(\\pi_2\\left(x\\right) \\frac{\\partial}{\\partial x}\\pi_1\\left(x\\right) - \\pi_1\\left(x\\right) \\frac{\\partial}{\\partial x}\\pi_2\\left(x\\right)\\right)} {\\delta} {\\mu_I} \\cos\\left({\\alpha}\\right)</script></html>"
      ],
      "text/plain": [
       "1/3*(pi1(x)^2 + pi2(x)^2 + pi3(x)^2)*(pi2(x)*diff(pi1(x), x) - pi1(x)*diff(pi2(x), x))*d*mu*cos(a)"
      ]
     },
     "metadata": {},
     "output_type": "display_data"
    },
    {
     "data": {
      "text/html": [
       "<html><script type=\"math/tex; mode=display\">\\newcommand{\\Bold}[1]{\\mathbf{#1}}\\frac{1}{6} \\, {\\left(2 \\, \\pi_1\\left(x\\right)^{2} \\sin\\left({\\alpha}\\right)^{2} + \\pi_2\\left(x\\right)^{2} \\sin\\left({\\alpha}\\right)^{2} + \\pi_3\\left(x\\right)^{2} \\sin\\left({\\alpha}\\right)^{2} - \\pi_1\\left(x\\right)^{2} - \\pi_2\\left(x\\right)^{2}\\right)} {\\left(\\pi_1\\left(x\\right)^{2} + \\pi_2\\left(x\\right)^{2} + \\pi_3\\left(x\\right)^{2}\\right)} {\\delta}^{2} {\\mu_I}^{2}</script></html>"
      ],
      "text/plain": [
       "1/6*(2*pi1(x)^2*sin(a)^2 + pi2(x)^2*sin(a)^2 + pi3(x)^2*sin(a)^2 - pi1(x)^2 - pi2(x)^2)*(pi1(x)^2 + pi2(x)^2 + pi3(x)^2)*d^2*mu^2"
      ]
     },
     "metadata": {},
     "output_type": "display_data"
    }
   ],
   "source": [
    "for i in range(len(L_coeff)):\n",
    "    print(e^i)\n",
    "    c = L_coeff[i].coefficients(mu)\n",
    "    for k in c:\n",
    "        s = k[0].full_simplify()*mu**k[1]\n",
    "        s = s.full_simplify()\n",
    "        s = s.expand()\n",
    "        pretty_print(s.factor().factor())"
   ]
  },
  {
   "cell_type": "code",
   "execution_count": 16,
   "metadata": {},
   "outputs": [
    {
     "data": {
      "text/html": [
       "<html><script type=\"math/tex; mode=display\">\\newcommand{\\Bold}[1]{\\mathbf{#1}}\\frac{1}{24} \\, m^{2} \\cos\\left({\\alpha}\\right) \\pi_1\\left(x\\right)^{4} + \\frac{1}{12} \\, m^{2} \\cos\\left({\\alpha}\\right) \\pi_1\\left(x\\right)^{2} \\pi_2\\left(x\\right)^{2} + \\frac{1}{24} \\, m^{2} \\cos\\left({\\alpha}\\right) \\pi_2\\left(x\\right)^{4} + \\frac{1}{12} \\, m^{2} \\cos\\left({\\alpha}\\right) \\pi_1\\left(x\\right)^{2} \\pi_3\\left(x\\right)^{2} + \\frac{1}{12} \\, m^{2} \\cos\\left({\\alpha}\\right) \\pi_2\\left(x\\right)^{2} \\pi_3\\left(x\\right)^{2} + \\frac{1}{24} \\, m^{2} \\cos\\left({\\alpha}\\right) \\pi_3\\left(x\\right)^{4} - \\frac{1}{6} \\, \\pi_2\\left(x\\right)^{2} \\frac{\\partial}{\\partial x}\\pi_1\\left(x\\right)^{2} - \\frac{1}{6} \\, \\pi_3\\left(x\\right)^{2} \\frac{\\partial}{\\partial x}\\pi_1\\left(x\\right)^{2} + \\frac{1}{3} \\, \\pi_1\\left(x\\right) \\pi_2\\left(x\\right) \\frac{\\partial}{\\partial x}\\pi_1\\left(x\\right) \\frac{\\partial}{\\partial x}\\pi_2\\left(x\\right) - \\frac{1}{6} \\, \\pi_1\\left(x\\right)^{2} \\frac{\\partial}{\\partial x}\\pi_2\\left(x\\right)^{2} - \\frac{1}{6} \\, \\pi_3\\left(x\\right)^{2} \\frac{\\partial}{\\partial x}\\pi_2\\left(x\\right)^{2} + \\frac{1}{3} \\, \\pi_1\\left(x\\right) \\pi_3\\left(x\\right) \\frac{\\partial}{\\partial x}\\pi_1\\left(x\\right) \\frac{\\partial}{\\partial x}\\pi_3\\left(x\\right) + \\frac{1}{3} \\, \\pi_2\\left(x\\right) \\pi_3\\left(x\\right) \\frac{\\partial}{\\partial x}\\pi_2\\left(x\\right) \\frac{\\partial}{\\partial x}\\pi_3\\left(x\\right) - \\frac{1}{6} \\, \\pi_1\\left(x\\right)^{2} \\frac{\\partial}{\\partial x}\\pi_3\\left(x\\right)^{2} - \\frac{1}{6} \\, \\pi_2\\left(x\\right)^{2} \\frac{\\partial}{\\partial x}\\pi_3\\left(x\\right)^{2}</script></html>"
      ],
      "text/plain": [
       "1/24*m^2*cos(a)*pi1(x)^4 + 1/12*m^2*cos(a)*pi1(x)^2*pi2(x)^2 + 1/24*m^2*cos(a)*pi2(x)^4 + 1/12*m^2*cos(a)*pi1(x)^2*pi3(x)^2 + 1/12*m^2*cos(a)*pi2(x)^2*pi3(x)^2 + 1/24*m^2*cos(a)*pi3(x)^4 - 1/6*pi2(x)^2*diff(pi1(x), x)^2 - 1/6*pi3(x)^2*diff(pi1(x), x)^2 + 1/3*pi1(x)*pi2(x)*diff(pi1(x), x)*diff(pi2(x), x) - 1/6*pi1(x)^2*diff(pi2(x), x)^2 - 1/6*pi3(x)^2*diff(pi2(x), x)^2 + 1/3*pi1(x)*pi3(x)*diff(pi1(x), x)*diff(pi3(x), x) + 1/3*pi2(x)*pi3(x)*diff(pi2(x), x)*diff(pi3(x), x) - 1/6*pi1(x)^2*diff(pi3(x), x)^2 - 1/6*pi2(x)^2*diff(pi3(x), x)^2"
      ]
     },
     "execution_count": 16,
     "metadata": {},
     "output_type": "execute_result"
    }
   ],
   "source": [
    "L_coeff[4].coefficients(mu)[0][0].trig_reduce().factor()"
   ]
  },
  {
   "cell_type": "code",
   "execution_count": 17,
   "metadata": {},
   "outputs": [
    {
     "data": {
      "text/html": [
       "<html><script type=\"math/tex; mode=display\">\\newcommand{\\Bold}[1]{\\mathbf{#1}}\\frac{1}{24} \\, m^{2} \\cos\\left({\\alpha}\\right) \\pi_1\\left(x\\right)^{4} + \\frac{1}{12} \\, m^{2} \\cos\\left({\\alpha}\\right) \\pi_1\\left(x\\right)^{2} \\pi_2\\left(x\\right)^{2} + \\frac{1}{24} \\, m^{2} \\cos\\left({\\alpha}\\right) \\pi_2\\left(x\\right)^{4} + \\frac{1}{12} \\, m^{2} \\cos\\left({\\alpha}\\right) \\pi_1\\left(x\\right)^{2} \\pi_3\\left(x\\right)^{2} + \\frac{1}{12} \\, m^{2} \\cos\\left({\\alpha}\\right) \\pi_2\\left(x\\right)^{2} \\pi_3\\left(x\\right)^{2} + \\frac{1}{24} \\, m^{2} \\cos\\left({\\alpha}\\right) \\pi_3\\left(x\\right)^{4} - \\frac{1}{6} \\, \\pi_2\\left(x\\right)^{2} \\frac{\\partial}{\\partial x}\\pi_1\\left(x\\right)^{2} - \\frac{1}{6} \\, \\pi_3\\left(x\\right)^{2} \\frac{\\partial}{\\partial x}\\pi_1\\left(x\\right)^{2} + \\frac{1}{3} \\, \\pi_1\\left(x\\right) \\pi_2\\left(x\\right) \\frac{\\partial}{\\partial x}\\pi_1\\left(x\\right) \\frac{\\partial}{\\partial x}\\pi_2\\left(x\\right) - \\frac{1}{6} \\, \\pi_1\\left(x\\right)^{2} \\frac{\\partial}{\\partial x}\\pi_2\\left(x\\right)^{2} - \\frac{1}{6} \\, \\pi_3\\left(x\\right)^{2} \\frac{\\partial}{\\partial x}\\pi_2\\left(x\\right)^{2} + \\frac{1}{3} \\, \\pi_1\\left(x\\right) \\pi_3\\left(x\\right) \\frac{\\partial}{\\partial x}\\pi_1\\left(x\\right) \\frac{\\partial}{\\partial x}\\pi_3\\left(x\\right) + \\frac{1}{3} \\, \\pi_2\\left(x\\right) \\pi_3\\left(x\\right) \\frac{\\partial}{\\partial x}\\pi_2\\left(x\\right) \\frac{\\partial}{\\partial x}\\pi_3\\left(x\\right) - \\frac{1}{6} \\, \\pi_1\\left(x\\right)^{2} \\frac{\\partial}{\\partial x}\\pi_3\\left(x\\right)^{2} - \\frac{1}{6} \\, \\pi_2\\left(x\\right)^{2} \\frac{\\partial}{\\partial x}\\pi_3\\left(x\\right)^{2}</script></html>"
      ],
      "text/plain": [
       "1/24*m^2*cos(a)*pi1(x)^4 + 1/12*m^2*cos(a)*pi1(x)^2*pi2(x)^2 + 1/24*m^2*cos(a)*pi2(x)^4 + 1/12*m^2*cos(a)*pi1(x)^2*pi3(x)^2 + 1/12*m^2*cos(a)*pi2(x)^2*pi3(x)^2 + 1/24*m^2*cos(a)*pi3(x)^4 - 1/6*pi2(x)^2*diff(pi1(x), x)^2 - 1/6*pi3(x)^2*diff(pi1(x), x)^2 + 1/3*pi1(x)*pi2(x)*diff(pi1(x), x)*diff(pi2(x), x) - 1/6*pi1(x)^2*diff(pi2(x), x)^2 - 1/6*pi3(x)^2*diff(pi2(x), x)^2 + 1/3*pi1(x)*pi3(x)*diff(pi1(x), x)*diff(pi3(x), x) + 1/3*pi2(x)*pi3(x)*diff(pi2(x), x)*diff(pi3(x), x) - 1/6*pi1(x)^2*diff(pi3(x), x)^2 - 1/6*pi2(x)^2*diff(pi3(x), x)^2"
      ]
     },
     "execution_count": 17,
     "metadata": {},
     "output_type": "execute_result"
    }
   ],
   "source": [
    "(((p*p)**2*cos(a)/4*m**2 - ((p*p)*(diff(p, x)*diff(p, x) ) - (diff(p, x)*p)**2))/6).expand()"
   ]
  },
  {
   "cell_type": "code",
   "execution_count": 18,
   "metadata": {},
   "outputs": [
    {
     "data": {
      "text/html": [
       "<html><script type=\"math/tex; mode=display\">\\newcommand{\\Bold}[1]{\\mathbf{#1}}-8 i \\, {B_0} {\\Delta m} {\\varepsilon} \\pi_3\\left(x\\right)</script></html>"
      ],
      "text/plain": [
       "-8*I*B0*dm*e*pi3(x)"
      ]
     },
     "execution_count": 18,
     "metadata": {},
     "output_type": "execute_result"
    }
   ],
   "source": [
    "var(\"dm\", latex_name=\"\\\\Delta m\", domain=\"real\")\n",
    "var(\"mm\", latex_name=\"\\\\bar m\", domain=\"real\")\n",
    "var(\"B0\", latex_name=\"B_0\", domain=\"real\")\n",
    "chi = 2*B0 * (mm * one + dm * s3)\n",
    "\n",
    "\n",
    "mat_prep(chi*S.C.T - S*chi, n=3).trace()"
   ]
  },
  {
   "cell_type": "code",
   "execution_count": 19,
   "metadata": {},
   "outputs": [
    {
     "data": {
      "text/html": [
       "<html><script type=\"math/tex; mode=display\">\\newcommand{\\Bold}[1]{\\mathbf{#1}}-64 \\, {\\left({\\varepsilon}^{2} \\cos\\left({\\alpha}\\right)^{2} \\pi_1\\left(x\\right)^{2} + {\\varepsilon}^{2} \\cos\\left({\\alpha}\\right)^{2} \\pi_2\\left(x\\right)^{2} + {\\varepsilon}^{2} \\cos\\left({\\alpha}\\right)^{2} \\pi_3\\left(x\\right)^{2} - {\\varepsilon}^{2} \\pi_1\\left(x\\right)^{2} \\sin\\left({\\alpha}\\right)^{2} + 2 \\, {\\varepsilon} \\cos\\left({\\alpha}\\right) \\pi_1\\left(x\\right) \\sin\\left({\\alpha}\\right) - \\cos\\left({\\alpha}\\right)^{2}\\right)} {B_0}^{2} {\\bar m}^{2}</script></html>"
      ],
      "text/plain": [
       "-64*(e^2*cos(a)^2*pi1(x)^2 + e^2*cos(a)^2*pi2(x)^2 + e^2*cos(a)^2*pi3(x)^2 - e^2*pi1(x)^2*sin(a)^2 + 2*e*cos(a)*pi1(x)*sin(a) - cos(a)^2)*B0^2*mm^2"
      ]
     },
     "execution_count": 19,
     "metadata": {},
     "output_type": "execute_result"
    }
   ],
   "source": [
    "(mat_prep(chi*S.C.T + S*chi, n=3).trace().factor()^2).series(e, 3).truncate().factor()"
   ]
  },
  {
   "cell_type": "code",
   "execution_count": 20,
   "metadata": {},
   "outputs": [
    {
     "data": {
      "text/html": [
       "<html><script type=\"math/tex; mode=display\">\\newcommand{\\Bold}[1]{\\mathbf{#1}}4 \\, {\\left(5 \\, {\\delta}^{2} {\\varepsilon}^{2} {\\mu_I}^{2} \\cos\\left(2 \\, {\\alpha}\\right) \\cos\\left({\\alpha}\\right) \\pi_1\\left(x\\right)^{2} + 3 \\, {\\delta}^{2} {\\varepsilon}^{2} {\\mu_I}^{2} \\cos\\left(2 \\, {\\alpha}\\right) \\cos\\left({\\alpha}\\right) \\pi_2\\left(x\\right)^{2} + 3 \\, {\\delta}^{2} {\\varepsilon}^{2} {\\mu_I}^{2} \\cos\\left(2 \\, {\\alpha}\\right) \\cos\\left({\\alpha}\\right) \\pi_3\\left(x\\right)^{2} - 4 \\, {\\delta}^{2} {\\varepsilon}^{2} {\\mu_I}^{2} \\pi_1\\left(x\\right)^{2} \\sin\\left(2 \\, {\\alpha}\\right) \\sin\\left({\\alpha}\\right) - {\\delta}^{2} {\\varepsilon}^{2} {\\mu_I}^{2} \\cos\\left({\\alpha}\\right) \\pi_1\\left(x\\right)^{2} + {\\delta}^{2} {\\varepsilon}^{2} {\\mu_I}^{2} \\cos\\left({\\alpha}\\right) \\pi_2\\left(x\\right)^{2} - 3 \\, {\\delta}^{2} {\\varepsilon}^{2} {\\mu_I}^{2} \\cos\\left({\\alpha}\\right) \\pi_3\\left(x\\right)^{2} + 4 \\, {\\delta}^{2} {\\varepsilon} {\\mu_I}^{2} \\cos\\left({\\alpha}\\right) \\pi_1\\left(x\\right) \\sin\\left(2 \\, {\\alpha}\\right) + 2 \\, {\\delta}^{2} {\\varepsilon} {\\mu_I}^{2} \\cos\\left(2 \\, {\\alpha}\\right) \\pi_1\\left(x\\right) \\sin\\left({\\alpha}\\right) - 8 \\, {\\delta} {\\varepsilon}^{2} {\\mu_I} \\cos\\left({\\alpha}\\right)^{2} \\pi_2\\left(x\\right) \\frac{\\partial}{\\partial x}\\pi_1\\left(x\\right) + 8 \\, {\\delta} {\\varepsilon}^{2} {\\mu_I} \\cos\\left({\\alpha}\\right)^{2} \\pi_1\\left(x\\right) \\frac{\\partial}{\\partial x}\\pi_2\\left(x\\right) - 8 \\, {\\delta} {\\varepsilon}^{2} {\\mu_I} \\pi_1\\left(x\\right) \\sin\\left({\\alpha}\\right)^{2} \\frac{\\partial}{\\partial x}\\pi_2\\left(x\\right) - 2 \\, {\\delta}^{2} {\\varepsilon} {\\mu_I}^{2} \\pi_1\\left(x\\right) \\sin\\left({\\alpha}\\right) - 2 \\, {\\delta}^{2} {\\mu_I}^{2} \\cos\\left(2 \\, {\\alpha}\\right) \\cos\\left({\\alpha}\\right) + 8 \\, {\\delta} {\\varepsilon} {\\mu_I} \\cos\\left({\\alpha}\\right) \\sin\\left({\\alpha}\\right) \\frac{\\partial}{\\partial x}\\pi_2\\left(x\\right) + 2 \\, {\\delta}^{2} {\\mu_I}^{2} \\cos\\left({\\alpha}\\right) + 4 \\, {\\varepsilon}^{2} \\cos\\left({\\alpha}\\right) \\frac{\\partial}{\\partial x}\\pi_1\\left(x\\right)^{2} + 4 \\, {\\varepsilon}^{2} \\cos\\left({\\alpha}\\right) \\frac{\\partial}{\\partial x}\\pi_2\\left(x\\right)^{2} + 4 \\, {\\varepsilon}^{2} \\cos\\left({\\alpha}\\right) \\frac{\\partial}{\\partial x}\\pi_3\\left(x\\right)^{2}\\right)} {B_0} {\\bar m}</script></html>"
      ],
      "text/plain": [
       "4*(5*d^2*e^2*mu^2*cos(2*a)*cos(a)*pi1(x)^2 + 3*d^2*e^2*mu^2*cos(2*a)*cos(a)*pi2(x)^2 + 3*d^2*e^2*mu^2*cos(2*a)*cos(a)*pi3(x)^2 - 4*d^2*e^2*mu^2*pi1(x)^2*sin(2*a)*sin(a) - d^2*e^2*mu^2*cos(a)*pi1(x)^2 + d^2*e^2*mu^2*cos(a)*pi2(x)^2 - 3*d^2*e^2*mu^2*cos(a)*pi3(x)^2 + 4*d^2*e*mu^2*cos(a)*pi1(x)*sin(2*a) + 2*d^2*e*mu^2*cos(2*a)*pi1(x)*sin(a) - 8*d*e^2*mu*cos(a)^2*pi2(x)*diff(pi1(x), x) + 8*d*e^2*mu*cos(a)^2*pi1(x)*diff(pi2(x), x) - 8*d*e^2*mu*pi1(x)*sin(a)^2*diff(pi2(x), x) - 2*d^2*e*mu^2*pi1(x)*sin(a) - 2*d^2*mu^2*cos(2*a)*cos(a) + 8*d*e*mu*cos(a)*sin(a)*diff(pi2(x), x) + 2*d^2*mu^2*cos(a) + 4*e^2*cos(a)*diff(pi1(x), x)^2 + 4*e^2*cos(a)*diff(pi2(x), x)^2 + 4*e^2*cos(a)*diff(pi3(x), x)^2)*B0*mm"
      ]
     },
     "execution_count": 20,
     "metadata": {},
     "output_type": "execute_result"
    }
   ],
   "source": [
    "(\n",
    "    (\n",
    "        mat_prep(chi*S.C.T + S*chi, n=3).trace()\n",
    "    )\n",
    "    *(\n",
    "        term1 + term2 + term3\n",
    "    ).trace()\n",
    ").series(e, 3).truncate().factor()"
   ]
  },
  {
   "cell_type": "code",
   "execution_count": 21,
   "metadata": {},
   "outputs": [],
   "source": [
    "div2 = term1 + term2 + term3"
   ]
  },
  {
   "cell_type": "code",
   "execution_count": 22,
   "metadata": {},
   "outputs": [
    {
     "data": {
      "text/html": [
       "<html><script type=\"math/tex; mode=display\">\\newcommand{\\Bold}[1]{\\mathbf{#1}}8 \\, {\\delta}^{2} {\\varepsilon}^{2} \\sin\\left({\\alpha}\\right)^{2} \\frac{\\partial}{\\partial x}\\pi_1\\left(x\\right)^{2} + 24 \\, {\\delta}^{2} {\\varepsilon}^{2} \\sin\\left({\\alpha}\\right)^{2} \\frac{\\partial}{\\partial x}\\pi_2\\left(x\\right)^{2} + 8 \\, {\\delta}^{2} {\\varepsilon}^{2} \\sin\\left({\\alpha}\\right)^{2} \\frac{\\partial}{\\partial x}\\pi_3\\left(x\\right)^{2}</script></html>"
      ],
      "text/plain": [
       "8*d^2*e^2*sin(a)^2*diff(pi1(x), x)^2 + 24*d^2*e^2*sin(a)^2*diff(pi2(x), x)^2 + 8*d^2*e^2*sin(a)^2*diff(pi3(x), x)^2"
      ]
     },
     "execution_count": 22,
     "metadata": {},
     "output_type": "execute_result"
    }
   ],
   "source": [
    "k = ((div2).trace()^2).series(e, 3).truncate().full_simplify()\n",
    "coeff = k.coefficients(mu)\n",
    "coeff[0][0]"
   ]
  },
  {
   "cell_type": "code",
   "execution_count": 23,
   "metadata": {},
   "outputs": [
    {
     "data": {
      "text/html": [
       "<html><script type=\"math/tex; mode=display\">\\newcommand{\\Bold}[1]{\\mathbf{#1}}-16 \\, {\\delta}^{3} {\\varepsilon}^{2} \\cos\\left({\\alpha}\\right) \\pi_2\\left(x\\right) \\sin\\left({\\alpha}\\right)^{2} \\frac{\\partial}{\\partial x}\\pi_1\\left(x\\right) + 48 \\, {\\delta}^{3} {\\varepsilon}^{2} \\cos\\left({\\alpha}\\right) \\pi_1\\left(x\\right) \\sin\\left({\\alpha}\\right)^{2} \\frac{\\partial}{\\partial x}\\pi_2\\left(x\\right) + 16 \\, {\\delta}^{3} {\\varepsilon} \\sin\\left({\\alpha}\\right)^{3} \\frac{\\partial}{\\partial x}\\pi_2\\left(x\\right)</script></html>"
      ],
      "text/plain": [
       "-16*d^3*e^2*cos(a)*pi2(x)*sin(a)^2*diff(pi1(x), x) + 48*d^3*e^2*cos(a)*pi1(x)*sin(a)^2*diff(pi2(x), x) + 16*d^3*e*sin(a)^3*diff(pi2(x), x)"
      ]
     },
     "execution_count": 23,
     "metadata": {},
     "output_type": "execute_result"
    }
   ],
   "source": [
    "coeff[1][0]"
   ]
  },
  {
   "cell_type": "code",
   "execution_count": 24,
   "metadata": {},
   "outputs": [
    {
     "data": {
      "text/html": [
       "<html><script type=\"math/tex; mode=display\">\\newcommand{\\Bold}[1]{\\mathbf{#1}}-8 \\, {\\delta}^{4} {\\varepsilon}^{2} \\pi_3\\left(x\\right)^{2} \\sin\\left({\\alpha}\\right)^{4} + 16 \\, {\\delta}^{4} {\\varepsilon} \\cos\\left({\\alpha}\\right) \\pi_1\\left(x\\right) \\sin\\left({\\alpha}\\right)^{3} - 8 \\, {\\left(4 \\, \\sin\\left({\\alpha}\\right)^{4} - 3 \\, \\sin\\left({\\alpha}\\right)^{2}\\right)} {\\delta}^{4} {\\varepsilon}^{2} \\pi_1\\left(x\\right)^{2} - 8 \\, {\\left(\\sin\\left({\\alpha}\\right)^{4} - \\sin\\left({\\alpha}\\right)^{2}\\right)} {\\delta}^{4} {\\varepsilon}^{2} \\pi_2\\left(x\\right)^{2} + 4 \\, {\\delta}^{4} \\sin\\left({\\alpha}\\right)^{4}</script></html>"
      ],
      "text/plain": [
       "-8*d^4*e^2*pi3(x)^2*sin(a)^4 + 16*d^4*e*cos(a)*pi1(x)*sin(a)^3 - 8*(4*sin(a)^4 - 3*sin(a)^2)*d^4*e^2*pi1(x)^2 - 8*(sin(a)^4 - sin(a)^2)*d^4*e^2*pi2(x)^2 + 4*d^4*sin(a)^4"
      ]
     },
     "execution_count": 24,
     "metadata": {},
     "output_type": "execute_result"
    }
   ],
   "source": [
    "coeff[2][0]"
   ]
  },
  {
   "cell_type": "code",
   "execution_count": null,
   "metadata": {},
   "outputs": [],
   "source": []
  }
 ],
 "metadata": {
  "kernelspec": {
   "display_name": "SageMath 9.0",
   "language": "sage",
   "name": "sagemath"
  },
  "language_info": {
   "codemirror_mode": {
    "name": "ipython",
    "version": 3
   },
   "file_extension": ".py",
   "mimetype": "text/x-python",
   "name": "python",
   "nbconvert_exporter": "python",
   "pygments_lexer": "ipython3",
   "version": "3.8.10"
  }
 },
 "nbformat": 4,
 "nbformat_minor": 4
}
