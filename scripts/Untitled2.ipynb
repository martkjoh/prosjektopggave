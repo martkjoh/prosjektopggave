{
 "cells": [
  {
   "cell_type": "code",
   "execution_count": 26,
   "metadata": {},
   "outputs": [],
   "source": [
    "m = var(\"m\")\n",
    "a = var(\"a\", latex_name=r\"\\alpha\")\n",
    "mu = var(\"mu\", latex_name=r\"\\mu_I\")\n",
    "f = var(\"f\")\n",
    "\n",
    "m1_sq = m**2 * cos(a) - mu**2 * cos(2 * a)\n",
    "m2_sq = m**2 * cos(a) - mu**2 * cos(a)**2\n",
    "m3_sq = function(\"m3_sq\", latex_name=r\"m_3^2\")(mu)#m**2 * cos(a) + mu**2 * sin(a)**2\n",
    "m12 = 2 * mu * cos(a)\n",
    "\n",
    "# square of the dispertion relations of the particles\n",
    "M_sq = (m1_sq + m2_sq + m12**2)\n",
    "\n",
    "# Tree-level masses. Should equal E(p=0)\n",
    "m0_sq = m3_sq\n",
    "mp_sq = 1 / 2 * M_sq + 1/2 * sqrt(M_sq**2 - 4*m1_sq*m2_sq)\n",
    "mm_sq = 1 / 2 * M_sq - 1/2 * sqrt(M_sq**2 - 4*m1_sq*m2_sq)\n",
    "\n",
    "# Mass/energies used for F_fin\n",
    "#mtilde1_sq = m1_sq + 1/4 * m12**2\n",
    "mtilde2_sq = var(\"mtilde1_sq\", latex_name=r\"\\tilde m_2^2\") #m2_sq + 1/4 * m12**2\n",
    "\n",
    "F_0_2 = - f**2 * (m**2 * cos(a) + 1/2*mu**2 * sin(a)**2)\n",
    "\n",
    "ls = [var(\"l{}\".format(i), latex_name=\"l_{}\".format(i)) for i in range(0, 5)]\n",
    "\n",
    "F_0_4 = \\\n",
    "    - 1/2 * 1 / (4 * pi)**2 * (\n",
    "    1/3 * ( ls[1] + 2 * ls[2] + 3/2 - 3*log(m3_sq) ) * mu**4 * sin(a)**4\n",
    "    + 1/2*(-ls[3] + 4*ls[4] + 3/2 - 2*log(m3_sq) - log(mtilde2_sq) )*m**4*cos(a)**2\n",
    "    + 2 * (ls[4] + 1/2 - log(m3_sq)) * m**2 *mu**2 * cos(a)*sin(a)**2\n",
    ")"
   ]
  },
  {
   "cell_type": "code",
   "execution_count": 27,
   "metadata": {},
   "outputs": [
    {
     "data": {
      "text/html": [
       "<html><script type=\"math/tex; mode=display\">\\newcommand{\\Bold}[1]{\\mathbf{#1}}-\\frac{2 \\, {\\left(2 \\, {l_1} + 4 \\, {l_2} - 6 \\, \\log\\left(m_3^2\\left({\\mu_I}\\right)\\right) + 3\\right)} {\\mu_I}^{4} \\sin\\left({\\alpha}\\right)^{4} + 12 \\, {\\left(2 \\, {l_4} - 2 \\, \\log\\left(m_3^2\\left({\\mu_I}\\right)\\right) + 1\\right)} m^{2} {\\mu_I}^{2} \\cos\\left({\\alpha}\\right) \\sin\\left({\\alpha}\\right)^{2} - 3 \\, {\\left(2 \\, {l_3} - 8 \\, {l_4} + 2 \\, \\log\\left({\\tilde m_2^2}\\right) + 4 \\, \\log\\left(m_3^2\\left({\\mu_I}\\right)\\right) - 3\\right)} m^{4} \\cos\\left({\\alpha}\\right)^{2}}{384 \\, \\pi^{2}}</script></html>"
      ],
      "text/plain": [
       "-1/384*(2*(2*l1 + 4*l2 - 6*log(m3_sq(mu)) + 3)*mu^4*sin(a)^4 + 12*(2*l4 - 2*log(m3_sq(mu)) + 1)*m^2*mu^2*cos(a)*sin(a)^2 - 3*(2*l3 - 8*l4 + 2*log(mtilde1_sq) + 4*log(m3_sq(mu)) - 3)*m^4*cos(a)^2)/pi^2"
      ]
     },
     "execution_count": 27,
     "metadata": {},
     "output_type": "execute_result"
    }
   ],
   "source": [
    "%display latex\n",
    "F_0_4"
   ]
  },
  {
   "cell_type": "code",
   "execution_count": 40,
   "metadata": {},
   "outputs": [],
   "source": [
    "k = F_0_4.diff(mu).subs(m3_sq.diff(mu)==2*mu*sin(a)**2)"
   ]
  },
  {
   "cell_type": "code",
   "execution_count": 41,
   "metadata": {},
   "outputs": [
    {
     "data": {
      "text/html": [
       "<html><script type=\"math/tex; mode=display\">\\newcommand{\\Bold}[1]{\\mathbf{#1}}\\frac{3 \\, {\\mu_I}^{5} \\sin\\left({\\alpha}\\right)^{6} + 6 \\, m^{2} {\\mu_I}^{3} \\cos\\left({\\alpha}\\right) \\sin\\left({\\alpha}\\right)^{4} + 3 \\, m^{4} {\\mu_I} \\cos\\left({\\alpha}\\right)^{2} \\sin\\left({\\alpha}\\right)^{2} + 6 \\, {\\left({\\mu_I}^{3} \\sin\\left({\\alpha}\\right)^{4} + m^{2} {\\mu_I} \\cos\\left({\\alpha}\\right) \\sin\\left({\\alpha}\\right)^{2}\\right)} \\log\\left(m_3^2\\left({\\mu_I}\\right)\\right) m_3^2\\left({\\mu_I}\\right) - {\\left(3 \\, {\\left(2 \\, {l_4} \\cos\\left({\\alpha}\\right) \\sin\\left({\\alpha}\\right)^{2} + \\cos\\left({\\alpha}\\right) \\sin\\left({\\alpha}\\right)^{2}\\right)} m^{2} {\\mu_I} + {\\left(2 \\, {l_1} \\sin\\left({\\alpha}\\right)^{4} + 4 \\, {l_2} \\sin\\left({\\alpha}\\right)^{4} + 3 \\, \\sin\\left({\\alpha}\\right)^{4}\\right)} {\\mu_I}^{3}\\right)} m_3^2\\left({\\mu_I}\\right)}{48 \\, \\pi^{2} m_3^2\\left({\\mu_I}\\right)}</script></html>"
      ],
      "text/plain": [
       "1/48*(3*mu^5*sin(a)^6 + 6*m^2*mu^3*cos(a)*sin(a)^4 + 3*m^4*mu*cos(a)^2*sin(a)^2 + 6*(mu^3*sin(a)^4 + m^2*mu*cos(a)*sin(a)^2)*log(m3_sq(mu))*m3_sq(mu) - (3*(2*l4*cos(a)*sin(a)^2 + cos(a)*sin(a)^2)*m^2*mu + (2*l1*sin(a)^4 + 4*l2*sin(a)^4 + 3*sin(a)^4)*mu^3)*m3_sq(mu))/(pi^2*m3_sq(mu))"
      ]
     },
     "execution_count": 41,
     "metadata": {},
     "output_type": "execute_result"
    }
   ],
   "source": [
    "k.expand().full_simplify()"
   ]
  },
  {
   "cell_type": "code",
   "execution_count": 42,
   "metadata": {},
   "outputs": [
    {
     "data": {
      "text/html": [
       "<html><script type=\"math/tex; mode=display\">\\newcommand{\\Bold}[1]{\\mathbf{#1}}3</script></html>"
      ],
      "text/plain": [
       "3"
      ]
     },
     "execution_count": 42,
     "metadata": {},
     "output_type": "execute_result"
    }
   ],
   "source": [
    "48/16"
   ]
  },
  {
   "cell_type": "code",
   "execution_count": null,
   "metadata": {},
   "outputs": [],
   "source": []
  }
 ],
 "metadata": {
  "kernelspec": {
   "display_name": "SageMath 9.0",
   "language": "sage",
   "name": "sagemath"
  },
  "language_info": {
   "codemirror_mode": {
    "name": "ipython",
    "version": 3
   },
   "file_extension": ".py",
   "mimetype": "text/x-python",
   "name": "python",
   "nbconvert_exporter": "python",
   "pygments_lexer": "ipython3",
   "version": "3.8.10"
  }
 },
 "nbformat": 4,
 "nbformat_minor": 4
}
