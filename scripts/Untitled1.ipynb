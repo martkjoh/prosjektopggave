{
 "cells": [
  {
   "cell_type": "code",
   "execution_count": 7,
   "metadata": {},
   "outputs": [
    {
     "data": {
      "text/html": [
       "<html><script type=\"math/tex; mode=display\">\\newcommand{\\Bold}[1]{\\mathbf{#1}}-\\frac{1}{3} \\, x^{4} + x^{2} + \\mathcal{O}\\left(x^{5}\\right)</script></html>"
      ],
      "text/plain": [
       "-1/3*x^4 + x^2 + Order(x^5)"
      ]
     },
     "execution_count": 7,
     "metadata": {},
     "output_type": "execute_result"
    }
   ],
   "source": [
    "%display latex\n",
    "\n",
    "var(\"x\")\n",
    "\n",
    "(sin(x)**2).series(x, 5).full_simplify()"
   ]
  },
  {
   "cell_type": "code",
   "execution_count": 5,
   "metadata": {},
   "outputs": [
    {
     "data": {
      "text/html": [
       "<html><script type=\"math/tex; mode=display\">\\newcommand{\\Bold}[1]{\\mathbf{#1}}\\frac{1}{24} \\, x^{4} - \\frac{1}{2} \\, x^{2} + \\mathcal{O}\\left(x^{5}\\right) + 1</script></html>"
      ],
      "text/plain": [
       "1/24*x^4 - 1/2*x^2 + Order(x^5) + 1"
      ]
     },
     "execution_count": 5,
     "metadata": {},
     "output_type": "execute_result"
    }
   ],
   "source": [
    "cos(x).series(x, 5).full_simplify()"
   ]
  },
  {
   "cell_type": "code",
   "execution_count": 9,
   "metadata": {},
   "outputs": [],
   "source": [
    "var(\"a\", latex_name=r\"\\alpha\")\n",
    "var(\"m\")\n",
    "var(\"mu\", latex_name=r\"\\mu_I\")\n",
    "var(\"p\")\n",
    "ls = [var(\"l{}\".format(i), latex_name = \"l_{}\".format(i)) for i in range(1, 5)]"
   ]
  },
  {
   "cell_type": "code",
   "execution_count": 10,
   "metadata": {},
   "outputs": [
    {
     "data": {
      "text/html": [
       "<html><script type=\"math/tex; mode=display\">\\newcommand{\\Bold}[1]{\\mathbf{#1}}-\\sqrt{{\\mu_I}^{2} \\sin\\left({\\alpha}\\right)^{2} + m^{2} \\cos\\left({\\alpha}\\right) + p^{2}} + \\sqrt{\\frac{1}{2} \\, {\\left(\\cos\\left({\\alpha}\\right)^{2} + 1\\right)} {\\mu_I}^{2} + m^{2} \\cos\\left({\\alpha}\\right) + p^{2} + \\frac{1}{2} \\, \\sqrt{16 \\, m^{2} {\\mu_I}^{2} \\cos\\left({\\alpha}\\right)^{3} + 16 \\, {\\mu_I}^{2} p^{2} \\cos\\left({\\alpha}\\right)^{2} - {\\left(7 \\, \\cos\\left({\\alpha}\\right)^{4} - 6 \\, \\cos\\left({\\alpha}\\right)^{2} - 1\\right)} {\\mu_I}^{4}}} + \\sqrt{\\frac{1}{2} \\, {\\left(\\cos\\left({\\alpha}\\right)^{2} + 1\\right)} {\\mu_I}^{2} + m^{2} \\cos\\left({\\alpha}\\right) + p^{2} - \\frac{1}{2} \\, \\sqrt{16 \\, m^{2} {\\mu_I}^{2} \\cos\\left({\\alpha}\\right)^{3} + 16 \\, {\\mu_I}^{2} p^{2} \\cos\\left({\\alpha}\\right)^{2} - {\\left(7 \\, \\cos\\left({\\alpha}\\right)^{4} - 6 \\, \\cos\\left({\\alpha}\\right)^{2} - 1\\right)} {\\mu_I}^{4}}} - \\sqrt{m^{2} \\cos\\left({\\alpha}\\right) + p^{2}}</script></html>"
      ],
      "text/plain": [
       "-sqrt(mu^2*sin(a)^2 + m^2*cos(a) + p^2) + sqrt(1/2*(cos(a)^2 + 1)*mu^2 + m^2*cos(a) + p^2 + 1/2*sqrt(16*m^2*mu^2*cos(a)^3 + 16*mu^2*p^2*cos(a)^2 - (7*cos(a)^4 - 6*cos(a)^2 - 1)*mu^4)) + sqrt(1/2*(cos(a)^2 + 1)*mu^2 + m^2*cos(a) + p^2 - 1/2*sqrt(16*m^2*mu^2*cos(a)^3 + 16*mu^2*p^2*cos(a)^2 - (7*cos(a)^4 - 6*cos(a)^2 - 1)*mu^4)) - sqrt(m^2*cos(a) + p^2)"
      ]
     },
     "execution_count": 10,
     "metadata": {},
     "output_type": "execute_result"
    }
   ],
   "source": [
    "m_1_sq = m^2 * cos(a) - mu^2 * cos(2*a)\n",
    "m_2_sq = m^2 * cos(a) - mu^2 * cos(a)^2\n",
    "m_3_sq = m^2 * cos(a) + mu^2 * sin(a)^2\n",
    "m_12 = 2 * mu * cos(a)\n",
    "\n",
    "tild_m_1_sq = (m_1_sq + 1 / 4 * m_12^2).full_simplify()\n",
    "tild_m_2_sq = (m_2_sq + 1 / 4 * m_12^2).full_simplify()\n",
    "\n",
    "M = m_1_sq + m_2_sq + m_12^2\n",
    "Ep = sqrt(p^2 + 1/2 * M + 1/2 * sqrt(4 * p^2 * m_12^2 + M^2 - 4 * m_1_sq * m_2_sq)).full_simplify()\n",
    "Em = sqrt(p^2 + 1/2 * M - 1/2 * sqrt(4 * p^2 * m_12^2 + M^2 - 4 * m_1_sq * m_2_sq)).full_simplify()\n",
    "\n",
    "E1 = sqrt(p^2 + tild_m_1_sq)\n",
    "E2 = sqrt(p^2 + tild_m_2_sq)\n",
    "\n",
    "f = Ep + Em - E1 - E2\n",
    "f"
   ]
  },
  {
   "cell_type": "code",
   "execution_count": 13,
   "metadata": {},
   "outputs": [
    {
     "data": {
      "text/html": [
       "<html><script type=\"math/tex; mode=display\">\\newcommand{\\Bold}[1]{\\mathbf{#1}}\\frac{1}{4} \\, {\\left(\\frac{m^{2}}{\\sqrt{m^{2} + p^{2}}} - \\frac{m^{2} + {\\mu_I}^{2} + \\frac{3 \\, m^{2} {\\mu_I}^{2} - {\\mu_I}^{4} + 2 \\, {\\mu_I}^{2} p^{2}}{\\sqrt{m^{2} {\\mu_I}^{2} + {\\mu_I}^{2} p^{2}}}}{\\sqrt{m^{2} + {\\mu_I}^{2} + p^{2} + 2 \\, \\sqrt{m^{2} {\\mu_I}^{2} + {\\mu_I}^{2} p^{2}}}} - \\frac{m^{2} + {\\mu_I}^{2} - \\frac{3 \\, m^{2} {\\mu_I}^{2} - {\\mu_I}^{4} + 2 \\, {\\mu_I}^{2} p^{2}}{\\sqrt{m^{2} {\\mu_I}^{2} + {\\mu_I}^{2} p^{2}}}}{\\sqrt{m^{2} + {\\mu_I}^{2} + p^{2} - 2 \\, \\sqrt{m^{2} {\\mu_I}^{2} + {\\mu_I}^{2} p^{2}}}} + \\frac{m^{2} - 2 \\, {\\mu_I}^{2}}{\\sqrt{m^{2} + p^{2}}}\\right)} {\\alpha}^{2} + \\sqrt{m^{2} + {\\mu_I}^{2} + p^{2} + 2 \\, \\sqrt{m^{2} {\\mu_I}^{2} + {\\mu_I}^{2} p^{2}}} + \\sqrt{m^{2} + {\\mu_I}^{2} + p^{2} - 2 \\, \\sqrt{m^{2} {\\mu_I}^{2} + {\\mu_I}^{2} p^{2}}} - 2 \\, \\sqrt{m^{2} + p^{2}}</script></html>"
      ],
      "text/plain": [
       "1/4*(m^2/sqrt(m^2 + p^2) - (m^2 + mu^2 + (3*m^2*mu^2 - mu^4 + 2*mu^2*p^2)/sqrt(m^2*mu^2 + mu^2*p^2))/sqrt(m^2 + mu^2 + p^2 + 2*sqrt(m^2*mu^2 + mu^2*p^2)) - (m^2 + mu^2 - (3*m^2*mu^2 - mu^4 + 2*mu^2*p^2)/sqrt(m^2*mu^2 + mu^2*p^2))/sqrt(m^2 + mu^2 + p^2 - 2*sqrt(m^2*mu^2 + mu^2*p^2)) + (m^2 - 2*mu^2)/sqrt(m^2 + p^2))*a^2 + sqrt(m^2 + mu^2 + p^2 + 2*sqrt(m^2*mu^2 + mu^2*p^2)) + sqrt(m^2 + mu^2 + p^2 - 2*sqrt(m^2*mu^2 + mu^2*p^2)) - 2*sqrt(m^2 + p^2)"
      ]
     },
     "execution_count": 13,
     "metadata": {},
     "output_type": "execute_result"
    }
   ],
   "source": [
    "f.series(a, 3).truncate()"
   ]
  },
  {
   "cell_type": "code",
   "execution_count": null,
   "metadata": {},
   "outputs": [],
   "source": []
  }
 ],
 "metadata": {
  "kernelspec": {
   "display_name": "SageMath 9.0",
   "language": "sage",
   "name": "sagemath"
  },
  "language_info": {
   "codemirror_mode": {
    "name": "ipython",
    "version": 3
   },
   "file_extension": ".py",
   "mimetype": "text/x-python",
   "name": "python",
   "nbconvert_exporter": "python",
   "pygments_lexer": "ipython3",
   "version": "3.8.10"
  }
 },
 "nbformat": 4,
 "nbformat_minor": 4
}
