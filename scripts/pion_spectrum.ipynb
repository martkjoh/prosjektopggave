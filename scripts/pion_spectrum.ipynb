{
 "cells": [
  {
   "cell_type": "markdown",
   "metadata": {},
   "source": [
    "# Finding the spectrum of the pions"
   ]
  },
  {
   "cell_type": "code",
   "execution_count": 7,
   "metadata": {},
   "outputs": [
    {
     "ename": "NameError",
     "evalue": "name 'var' is not defined",
     "output_type": "error",
     "traceback": [
      "\u001b[0;31m---------------------------------------------------------------------------\u001b[0m",
      "\u001b[0;31mNameError\u001b[0m                                 Traceback (most recent call last)",
      "\u001b[0;32m/tmp/ipykernel_42185/157061668.py\u001b[0m in \u001b[0;36m<module>\u001b[0;34m\u001b[0m\n\u001b[0;32m----> 1\u001b[0;31m \u001b[0mP\u001b[0m \u001b[0;34m=\u001b[0m \u001b[0mvar\u001b[0m\u001b[0;34m(\u001b[0m\u001b[0;34m\"P\"\u001b[0m\u001b[0;34m)\u001b[0m      \u001b[0;31m# spatial momentum\u001b[0m\u001b[0;34m\u001b[0m\u001b[0;34m\u001b[0m\u001b[0m\n\u001b[0m\u001b[1;32m      2\u001b[0m \u001b[0mp0\u001b[0m \u001b[0;34m=\u001b[0m \u001b[0mvar\u001b[0m\u001b[0;34m(\u001b[0m\u001b[0;34m\"p0\"\u001b[0m\u001b[0;34m)\u001b[0m    \u001b[0;31m# Energy\u001b[0m\u001b[0;34m\u001b[0m\u001b[0;34m\u001b[0m\u001b[0m\n\u001b[1;32m      3\u001b[0m \u001b[0mm12\u001b[0m \u001b[0;34m=\u001b[0m \u001b[0mvar\u001b[0m\u001b[0;34m(\u001b[0m\u001b[0;34m\"m12\"\u001b[0m\u001b[0;34m)\u001b[0m  \u001b[0;31m# masses\u001b[0m\u001b[0;34m\u001b[0m\u001b[0;34m\u001b[0m\u001b[0m\n\u001b[1;32m      4\u001b[0m \u001b[0mm2\u001b[0m \u001b[0;34m=\u001b[0m \u001b[0;34m[\u001b[0m\u001b[0mvar\u001b[0m\u001b[0;34m(\u001b[0m\u001b[0;34m\"m{}^2\"\u001b[0m\u001b[0;34m.\u001b[0m\u001b[0mformat\u001b[0m\u001b[0;34m(\u001b[0m\u001b[0mi\u001b[0m\u001b[0;34m)\u001b[0m\u001b[0;34m,\u001b[0m \u001b[0mlatex_name\u001b[0m\u001b[0;34m=\u001b[0m\u001b[0;34m\"\\\\m{}^2\"\u001b[0m\u001b[0;34m.\u001b[0m\u001b[0mforman\u001b[0m\u001b[0;34m(\u001b[0m\u001b[0mi\u001b[0m\u001b[0;34m)\u001b[0m\u001b[0;34m)\u001b[0m \u001b[0;32mfor\u001b[0m \u001b[0mi\u001b[0m \u001b[0;32min\u001b[0m \u001b[0mrange\u001b[0m\u001b[0;34m(\u001b[0m\u001b[0;36m1\u001b[0m\u001b[0;34m,\u001b[0m \u001b[0;36m3\u001b[0m\u001b[0;34m+\u001b[0m\u001b[0;36m1\u001b[0m\u001b[0;34m)\u001b[0m\u001b[0;34m]\u001b[0m\u001b[0;34m\u001b[0m\u001b[0;34m\u001b[0m\u001b[0m\n\u001b[1;32m      5\u001b[0m \u001b[0mm\u001b[0m\u001b[0;34m\u001b[0m\u001b[0;34m\u001b[0m\u001b[0m\n",
      "\u001b[0;31mNameError\u001b[0m: name 'var' is not defined"
     ]
    }
   ],
   "source": [
    "P = var(\"P\")      # spatial momentum\n",
    "p0 = var(\"p0\")    # Energy\n",
    "m12 = var(\"m12\")  # masses\n",
    "m2 = [var(\"m{}^2\".format(i), latex_name=\"\\\\m{}^2\".forman(i)) for i in range(1, 3+1)]\n",
    "m2"
   ]
  },
  {
   "cell_type": "code",
   "execution_count": 3,
   "metadata": {},
   "outputs": [
    {
     "data": {
      "text/latex": [
       "$\\displaystyle \\left[\\begin{matrix}P^{2} + m^{2}_{1} - p_{0}^{2} & i m_{12} p_{0} & 0\\\\- i m_{12} p_{0} & P^{2} + m^{2}_{2} - p_{0}^{2} & 0\\\\0 & 0 & P^{2} + m^{2}_{3} - p_{0}^{2}\\end{matrix}\\right]$"
      ],
      "text/plain": [
       "Matrix([\n",
       "[P**2 + m1^2 - p0**2,            I*m12*p0,                   0],\n",
       "[          -I*m12*p0, P**2 + m2^2 - p0**2,                   0],\n",
       "[                  0,                   0, P**2 + m3^2 - p0**2]])"
      ]
     },
     "execution_count": 3,
     "metadata": {},
     "output_type": "execute_result"
    }
   ],
   "source": [
    "A = - sp.Matrix([\n",
    "    [p0**2 - P**2 - m[0], - p0 * I * m12, 0],\n",
    "    [p0 * I * m12, p0**2 - P**2 - m[1], 0],\n",
    "    [0, 0, p0**2 - P**2 - m[2]]\n",
    "])\n",
    "A"
   ]
  },
  {
   "cell_type": "code",
   "execution_count": 4,
   "metadata": {},
   "outputs": [],
   "source": [
    "sol = sp.solve(det(A), p0**2)"
   ]
  },
  {
   "cell_type": "code",
   "execution_count": 5,
   "metadata": {},
   "outputs": [
    {
     "data": {
      "text/latex": [
       "$\\displaystyle P^{2} + m^{2}_{3}$"
      ],
      "text/plain": [
       "P**2 + m3^2"
      ]
     },
     "execution_count": 5,
     "metadata": {},
     "output_type": "execute_result"
    }
   ],
   "source": [
    "sol[0]"
   ]
  },
  {
   "cell_type": "code",
   "execution_count": 1,
   "metadata": {},
   "outputs": [
    {
     "ename": "NameError",
     "evalue": "name 'sp' is not defined",
     "output_type": "error",
     "traceback": [
      "\u001b[0;31m---------------------------------------------------------------------------\u001b[0m",
      "\u001b[0;31mNameError\u001b[0m                                 Traceback (most recent call last)",
      "\u001b[0;32m/tmp/ipykernel_42185/328169693.py\u001b[0m in \u001b[0;36m<module>\u001b[0;34m\u001b[0m\n\u001b[0;32m----> 1\u001b[0;31m \u001b[0msp\u001b[0m\u001b[0;34m.\u001b[0m\u001b[0msimplify\u001b[0m\u001b[0;34m(\u001b[0m\u001b[0msol\u001b[0m\u001b[0;34m[\u001b[0m\u001b[0;36m1\u001b[0m\u001b[0;34m]\u001b[0m\u001b[0;34m)\u001b[0m\u001b[0;34m\u001b[0m\u001b[0;34m\u001b[0m\u001b[0m\n\u001b[0m",
      "\u001b[0;31mNameError\u001b[0m: name 'sp' is not defined"
     ]
    }
   ],
   "source": [
    "sp.simplify(sol[1])"
   ]
  },
  {
   "cell_type": "code",
   "execution_count": null,
   "metadata": {},
   "outputs": [],
   "source": [
    "sp.simplify(sol[2])"
   ]
  },
  {
   "cell_type": "code",
   "execution_count": 15,
   "metadata": {},
   "outputs": [
    {
     "data": {
      "text/latex": [
       "$\\displaystyle P^{2} + m^{2}_{3} - p_{0}^{2}$"
      ],
      "text/plain": [
       "P**2 + m3^2 - p0**2"
      ]
     },
     "execution_count": 15,
     "metadata": {},
     "output_type": "execute_result"
    }
   ],
   "source": [
    "l = sp.Symbol(\"l\", latex_name=\"\\\\lambda\")\n",
    "eig = sp.solve(det(A - l*sp.eye(3)), l)\n",
    "eig[0]"
   ]
  },
  {
   "cell_type": "code",
   "execution_count": 16,
   "metadata": {},
   "outputs": [
    {
     "data": {
      "text/latex": [
       "$\\displaystyle P^{2} + \\frac{m^{2}_{1}}{2} + \\frac{m^{2}_{2}}{2} - p_{0}^{2} - \\frac{\\sqrt{4 m_{12}^{2} p_{0}^{2} + \\left(m^{2}_{1}\\right)^{2} - 2 m^{2}_{1} m^{2}_{2} + \\left(m^{2}_{2}\\right)^{2}}}{2}$"
      ],
      "text/plain": [
       "P**2 + m1^2/2 + m2^2/2 - p0**2 - sqrt(4*m12**2*p0**2 + m1^2**2 - 2*m1^2*m2^2 + m2^2**2)/2"
      ]
     },
     "execution_count": 16,
     "metadata": {},
     "output_type": "execute_result"
    }
   ],
   "source": [
    "eig[1]"
   ]
  },
  {
   "cell_type": "code",
   "execution_count": 18,
   "metadata": {},
   "outputs": [
    {
     "data": {
      "text/latex": [
       "$\\displaystyle P^{2} + \\frac{m^{2}_{1}}{2} + \\frac{m^{2}_{2}}{2} - p_{0}^{2} + \\frac{\\sqrt{4 m_{12}^{2} p_{0}^{2} + \\left(m^{2}_{1}\\right)^{2} - 2 m^{2}_{1} m^{2}_{2} + \\left(m^{2}_{2}\\right)^{2}}}{2}$"
      ],
      "text/plain": [
       "P**2 + m1^2/2 + m2^2/2 - p0**2 + sqrt(4*m12**2*p0**2 + m1^2**2 - 2*m1^2*m2^2 + m2^2**2)/2"
      ]
     },
     "execution_count": 18,
     "metadata": {},
     "output_type": "execute_result"
    }
   ],
   "source": [
    "eig[2]"
   ]
  },
  {
   "cell_type": "code",
   "execution_count": 8,
   "metadata": {},
   "outputs": [
    {
     "data": {
      "text/latex": [
       "$\\displaystyle P^{4} + P^{2} m^{2}_{1} + P^{2} m^{2}_{2} - 2 P^{2} p_{0}^{2} - m_{12}^{2} p_{0}^{2} + m^{2}_{1} m^{2}_{2} - m^{2}_{1} p_{0}^{2} - m^{2}_{2} p_{0}^{2} + p_{0}^{4}$"
      ],
      "text/plain": [
       "P**4 + P**2*m1^2 + P**2*m2^2 - 2*P**2*p0**2 - m12**2*p0**2 + m1^2*m2^2 - m1^2*p0**2 - m2^2*p0**2 + p0**4"
      ]
     },
     "execution_count": 8,
     "metadata": {},
     "output_type": "execute_result"
    }
   ],
   "source": [
    "ex = (p0**2 - sp.simplify(sol[1]))*(p0**2 - sp.simplify(sol[2]))\n",
    "ex.expand()"
   ]
  },
  {
   "cell_type": "code",
   "execution_count": 9,
   "metadata": {},
   "outputs": [
    {
     "data": {
      "text/latex": [
       "$\\displaystyle \\left[\\begin{matrix}\\frac{P^{2} + m^{2}_{2} - p_{0}^{2}}{P^{4} + P^{2} m^{2}_{1} + P^{2} m^{2}_{2} - 2 P^{2} p_{0}^{2} - m_{12}^{2} p_{0}^{2} + m^{2}_{1} m^{2}_{2} - m^{2}_{1} p_{0}^{2} - m^{2}_{2} p_{0}^{2} + p_{0}^{4}} & - \\frac{i m_{12} p_{0}}{P^{4} + P^{2} m^{2}_{1} + P^{2} m^{2}_{2} - 2 P^{2} p_{0}^{2} - m_{12}^{2} p_{0}^{2} + m^{2}_{1} m^{2}_{2} - m^{2}_{1} p_{0}^{2} - m^{2}_{2} p_{0}^{2} + p_{0}^{4}} & 0\\\\\\frac{i m_{12} p_{0}}{P^{4} + P^{2} m^{2}_{1} + P^{2} m^{2}_{2} - 2 P^{2} p_{0}^{2} - m_{12}^{2} p_{0}^{2} + m^{2}_{1} m^{2}_{2} - m^{2}_{1} p_{0}^{2} - m^{2}_{2} p_{0}^{2} + p_{0}^{4}} & \\frac{P^{2} + m^{2}_{1} - p_{0}^{2}}{P^{4} + P^{2} m^{2}_{1} + P^{2} m^{2}_{2} - 2 P^{2} p_{0}^{2} - m_{12}^{2} p_{0}^{2} + m^{2}_{1} m^{2}_{2} - m^{2}_{1} p_{0}^{2} - m^{2}_{2} p_{0}^{2} + p_{0}^{4}} & 0\\\\0 & 0 & \\frac{1}{P^{2} + m^{2}_{3} - p_{0}^{2}}\\end{matrix}\\right]$"
      ],
      "text/plain": [
       "Matrix([\n",
       "[(P**2 + m2^2 - p0**2)/(P**4 + P**2*m1^2 + P**2*m2^2 - 2*P**2*p0**2 - m12**2*p0**2 + m1^2*m2^2 - m1^2*p0**2 - m2^2*p0**2 + p0**4),             -I*m12*p0/(P**4 + P**2*m1^2 + P**2*m2^2 - 2*P**2*p0**2 - m12**2*p0**2 + m1^2*m2^2 - m1^2*p0**2 - m2^2*p0**2 + p0**4),                       0],\n",
       "[             I*m12*p0/(P**4 + P**2*m1^2 + P**2*m2^2 - 2*P**2*p0**2 - m12**2*p0**2 + m1^2*m2^2 - m1^2*p0**2 - m2^2*p0**2 + p0**4), (P**2 + m1^2 - p0**2)/(P**4 + P**2*m1^2 + P**2*m2^2 - 2*P**2*p0**2 - m12**2*p0**2 + m1^2*m2^2 - m1^2*p0**2 - m2^2*p0**2 + p0**4),                       0],\n",
       "[                                                                                                                               0,                                                                                                                                0, 1/(P**2 + m3^2 - p0**2)]])"
      ]
     },
     "execution_count": 9,
     "metadata": {},
     "output_type": "execute_result"
    }
   ],
   "source": [
    "A.inv()"
   ]
  },
  {
   "cell_type": "code",
   "execution_count": 10,
   "metadata": {},
   "outputs": [],
   "source": [
    "m = sp.Symbol(\"m\")\n",
    "a = sp.Symbol(\"alpha\")\n",
    "mu = sp.Symbol(\"mu_I\")\n",
    "B0 = sp.Symbol(\"B0\")"
   ]
  },
  {
   "cell_type": "code",
   "execution_count": 11,
   "metadata": {},
   "outputs": [
    {
     "ename": "NameError",
     "evalue": "name 'M' is not defined",
     "output_type": "error",
     "traceback": [
      "\u001b[0;31m---------------------------------------------------------------------------\u001b[0m",
      "\u001b[0;31mNameError\u001b[0m                                 Traceback (most recent call last)",
      "\u001b[0;32m/tmp/ipykernel_31908/3437745475.py\u001b[0m in \u001b[0;36m<module>\u001b[0;34m\u001b[0m\n\u001b[1;32m      1\u001b[0m \u001b[0;32mfor\u001b[0m \u001b[0mi\u001b[0m \u001b[0;32min\u001b[0m \u001b[0mrange\u001b[0m\u001b[0;34m(\u001b[0m\u001b[0;36m3\u001b[0m\u001b[0;34m)\u001b[0m\u001b[0;34m:\u001b[0m\u001b[0;34m\u001b[0m\u001b[0;34m\u001b[0m\u001b[0m\n\u001b[0;32m----> 2\u001b[0;31m     \u001b[0msol\u001b[0m\u001b[0;34m[\u001b[0m\u001b[0mi\u001b[0m\u001b[0;34m]\u001b[0m \u001b[0;34m=\u001b[0m \u001b[0msol\u001b[0m\u001b[0;34m[\u001b[0m\u001b[0mi\u001b[0m\u001b[0;34m]\u001b[0m\u001b[0;34m.\u001b[0m\u001b[0msubs\u001b[0m\u001b[0;34m(\u001b[0m\u001b[0mM\u001b[0m\u001b[0;34m[\u001b[0m\u001b[0;36m0\u001b[0m\u001b[0;34m]\u001b[0m\u001b[0;34m,\u001b[0m \u001b[0;36m2\u001b[0m\u001b[0;34m*\u001b[0m\u001b[0mB0\u001b[0m\u001b[0;34m*\u001b[0m\u001b[0mm\u001b[0m\u001b[0;34m*\u001b[0m\u001b[0mcos\u001b[0m\u001b[0;34m(\u001b[0m\u001b[0ma\u001b[0m\u001b[0;34m)\u001b[0m \u001b[0;34m-\u001b[0m \u001b[0mmu\u001b[0m\u001b[0;34m**\u001b[0m\u001b[0;36m2\u001b[0m \u001b[0;34m*\u001b[0m \u001b[0mcos\u001b[0m\u001b[0;34m(\u001b[0m\u001b[0;36m2\u001b[0m\u001b[0;34m*\u001b[0m\u001b[0ma\u001b[0m\u001b[0;34m)\u001b[0m\u001b[0;34m)\u001b[0m\u001b[0;34m\u001b[0m\u001b[0;34m\u001b[0m\u001b[0m\n\u001b[0m\u001b[1;32m      3\u001b[0m     \u001b[0msol\u001b[0m\u001b[0;34m[\u001b[0m\u001b[0mi\u001b[0m\u001b[0;34m]\u001b[0m \u001b[0;34m=\u001b[0m \u001b[0msol\u001b[0m\u001b[0;34m[\u001b[0m\u001b[0mi\u001b[0m\u001b[0;34m]\u001b[0m\u001b[0;34m.\u001b[0m\u001b[0msubs\u001b[0m\u001b[0;34m(\u001b[0m\u001b[0mM\u001b[0m\u001b[0;34m[\u001b[0m\u001b[0;36m1\u001b[0m\u001b[0;34m]\u001b[0m\u001b[0;34m,\u001b[0m \u001b[0;36m2\u001b[0m\u001b[0;34m*\u001b[0m\u001b[0mB0\u001b[0m\u001b[0;34m*\u001b[0m\u001b[0mm\u001b[0m\u001b[0;34m*\u001b[0m\u001b[0mcos\u001b[0m\u001b[0;34m(\u001b[0m\u001b[0ma\u001b[0m\u001b[0;34m)\u001b[0m \u001b[0;34m-\u001b[0m \u001b[0mmu\u001b[0m\u001b[0;34m**\u001b[0m\u001b[0;36m2\u001b[0m \u001b[0;34m*\u001b[0m \u001b[0mcos\u001b[0m\u001b[0;34m(\u001b[0m\u001b[0ma\u001b[0m\u001b[0;34m)\u001b[0m\u001b[0;34m**\u001b[0m\u001b[0;36m2\u001b[0m\u001b[0;34m)\u001b[0m\u001b[0;34m\u001b[0m\u001b[0;34m\u001b[0m\u001b[0m\n\u001b[1;32m      4\u001b[0m     \u001b[0msol\u001b[0m\u001b[0;34m[\u001b[0m\u001b[0mi\u001b[0m\u001b[0;34m]\u001b[0m \u001b[0;34m=\u001b[0m \u001b[0msol\u001b[0m\u001b[0;34m[\u001b[0m\u001b[0mi\u001b[0m\u001b[0;34m]\u001b[0m\u001b[0;34m.\u001b[0m\u001b[0msubs\u001b[0m\u001b[0;34m(\u001b[0m\u001b[0mM\u001b[0m\u001b[0;34m[\u001b[0m\u001b[0;36m2\u001b[0m\u001b[0;34m]\u001b[0m\u001b[0;34m,\u001b[0m \u001b[0;36m2\u001b[0m\u001b[0;34m*\u001b[0m\u001b[0mB0\u001b[0m\u001b[0;34m*\u001b[0m\u001b[0mm\u001b[0m\u001b[0;34m*\u001b[0m\u001b[0mcos\u001b[0m\u001b[0;34m(\u001b[0m\u001b[0ma\u001b[0m\u001b[0;34m)\u001b[0m \u001b[0;34m+\u001b[0m \u001b[0mmu\u001b[0m\u001b[0;34m**\u001b[0m\u001b[0;36m2\u001b[0m \u001b[0;34m*\u001b[0m \u001b[0msin\u001b[0m\u001b[0;34m(\u001b[0m\u001b[0;36m2\u001b[0m\u001b[0;34m*\u001b[0m\u001b[0ma\u001b[0m\u001b[0;34m)\u001b[0m\u001b[0;34m)\u001b[0m\u001b[0;34m\u001b[0m\u001b[0;34m\u001b[0m\u001b[0m\n\u001b[1;32m      5\u001b[0m     \u001b[0msol\u001b[0m\u001b[0;34m[\u001b[0m\u001b[0mi\u001b[0m\u001b[0;34m]\u001b[0m \u001b[0;34m=\u001b[0m \u001b[0msol\u001b[0m\u001b[0;34m[\u001b[0m\u001b[0mi\u001b[0m\u001b[0;34m]\u001b[0m\u001b[0;34m.\u001b[0m\u001b[0msubs\u001b[0m\u001b[0;34m(\u001b[0m\u001b[0mK12\u001b[0m\u001b[0;34m,\u001b[0m \u001b[0mmu\u001b[0m \u001b[0;34m*\u001b[0m \u001b[0mcos\u001b[0m\u001b[0;34m(\u001b[0m\u001b[0ma\u001b[0m\u001b[0;34m)\u001b[0m\u001b[0;34m)\u001b[0m\u001b[0;34m\u001b[0m\u001b[0;34m\u001b[0m\u001b[0m\n",
      "\u001b[0;31mNameError\u001b[0m: name 'M' is not defined"
     ]
    }
   ],
   "source": [
    "for i in range(3):\n",
    "    sol[i] = sol[i].subs(M[0], 2*B0*m*cos(a) - mu**2 * cos(2*a))\n",
    "    sol[i] = sol[i].subs(M[1], 2*B0*m*cos(a) - mu**2 * cos(a)**2)\n",
    "    sol[i] = sol[i].subs(M[2], 2*B0*m*cos(a) + mu**2 * sin(2*a))\n",
    "    sol[i] = sol[i].subs(K12, mu * cos(a))\n",
    "    sol[i] = sp.simplify(sol[i])\n"
   ]
  },
  {
   "cell_type": "code",
   "execution_count": null,
   "metadata": {},
   "outputs": [],
   "source": [
    "sol[0]"
   ]
  },
  {
   "cell_type": "code",
   "execution_count": null,
   "metadata": {},
   "outputs": [],
   "source": [
    "sol[1]"
   ]
  },
  {
   "cell_type": "code",
   "execution_count": null,
   "metadata": {},
   "outputs": [],
   "source": [
    "sol[2]"
   ]
  }
 ],
 "metadata": {
  "interpreter": {
   "hash": "31f2aee4e71d21fbe5cf8b01ff0e069b9275f58929596ceb00d14d90e3e16cd6"
  },
  "kernelspec": {
   "display_name": "Python 3 (ipykernel)",
   "language": "python",
   "name": "python3"
  },
  "language_info": {
   "codemirror_mode": {
    "name": "ipython",
    "version": 3
   },
   "file_extension": ".py",
   "mimetype": "text/x-python",
   "name": "python",
   "nbconvert_exporter": "python",
   "pygments_lexer": "ipython3",
   "version": "3.8.10"
  }
 },
 "nbformat": 4,
 "nbformat_minor": 2
}
