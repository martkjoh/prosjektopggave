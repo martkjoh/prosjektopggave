{
 "cells": [
  {
   "cell_type": "markdown",
   "metadata": {},
   "source": [
    "# The spectrum of the pions"
   ]
  },
  {
   "cell_type": "code",
   "execution_count": 5,
   "metadata": {},
   "outputs": [],
   "source": [
    "%display latex"
   ]
  },
  {
   "cell_type": "code",
   "execution_count": 31,
   "metadata": {},
   "outputs": [
    {
     "data": {
      "text/html": [
       "<html><script type=\"math/tex; mode=display\">\\newcommand{\\Bold}[1]{\\mathbf{#1}}{m_{12}}</script></html>"
      ],
      "text/plain": [
       "m12"
      ]
     },
     "execution_count": 31,
     "metadata": {},
     "output_type": "execute_result"
    }
   ],
   "source": [
    "P = var(\"P\")      # spatial momentum\n",
    "p0 = var(\"p0\")    # Energy\n",
    "m12 = var(\"m12\", latex_name=\"m_{12}\")  # masses\n",
    "m2 = [var(\"m{}\".format(i), latex_name=\"m_{}^2\".format(i)) for i in range(1, 3+1)]\n",
    "m12"
   ]
  },
  {
   "cell_type": "code",
   "execution_count": 32,
   "metadata": {},
   "outputs": [
    {
     "data": {
      "text/html": [
       "<html><script type=\"math/tex; mode=display\">\\newcommand{\\Bold}[1]{\\mathbf{#1}}\\left(\\begin{array}{rrr}\n",
       "P^{2} - p_{0}^{2} + {m_1^2} & i \\, {m_{12}} p_{0} & 0 \\\\\n",
       "-i \\, {m_{12}} p_{0} & P^{2} - p_{0}^{2} + {m_2^2} & 0 \\\\\n",
       "0 & 0 & P^{2} - p_{0}^{2} + {m_3^2}\n",
       "\\end{array}\\right)</script></html>"
      ],
      "text/plain": [
       "[P^2 - p0^2 + m1        I*m12*p0               0]\n",
       "[      -I*m12*p0 P^2 - p0^2 + m2               0]\n",
       "[              0               0 P^2 - p0^2 + m3]"
      ]
     },
     "execution_count": 32,
     "metadata": {},
     "output_type": "execute_result"
    }
   ],
   "source": [
    "A = -Matrix([\n",
    "    [p0**2 - P**2 - m2[0], - p0 * I * m12,        0                   ],\n",
    "    [p0 * I * m12,         p0**2 - P**2 - m2[1], 0                    ],\n",
    "    [0,                   0,                     p0**2 - P**2 - m2[2] ]\n",
    "])\n",
    "A"
   ]
  },
  {
   "cell_type": "code",
   "execution_count": 36,
   "metadata": {},
   "outputs": [],
   "source": [
    "sol = solve(det(A).subs(p0^2 == a) == 0, a)"
   ]
  },
  {
   "cell_type": "code",
   "execution_count": 42,
   "metadata": {},
   "outputs": [
    {
     "data": {
      "text/html": [
       "<html><script type=\"math/tex; mode=display\">\\newcommand{\\Bold}[1]{\\mathbf{#1}}P^{2} + {m_3^2}</script></html>"
      ],
      "text/plain": [
       "P^2 + m3"
      ]
     },
     "execution_count": 42,
     "metadata": {},
     "output_type": "execute_result"
    }
   ],
   "source": [
    "sol[0].rhs()"
   ]
  },
  {
   "cell_type": "code",
   "execution_count": 64,
   "metadata": {},
   "outputs": [
    {
     "data": {
      "text/html": [
       "<html><script type=\"math/tex; mode=display\">\\newcommand{\\Bold}[1]{\\mathbf{#1}}P^{2} + \\frac{1}{2} \\, {m_{12}}^{2} + \\frac{1}{2} \\, {m_1^2} + \\frac{1}{2} \\, {m_2^2} - \\frac{1}{2} \\, \\sqrt{{m_{12}}^{4} + 2 \\, {\\left(2 \\, P^{2} + {m_1^2}\\right)} {m_{12}}^{2} + {m_1^2}^{2} + 2 \\, {\\left({m_{12}}^{2} - {m_1^2}\\right)} {m_2^2} + {m_2^2}^{2}}</script></html>"
      ],
      "text/plain": [
       "P^2 + 1/2*m12^2 + 1/2*m1 + 1/2*m2 - 1/2*sqrt(m12^4 + 2*(2*P^2 + m1)*m12^2 + m1^2 + 2*(m12^2 - m1)*m2 + m2^2)"
      ]
     },
     "execution_count": 64,
     "metadata": {},
     "output_type": "execute_result"
    }
   ],
   "source": [
    "sol[1].rhs()"
   ]
  },
  {
   "cell_type": "code",
   "execution_count": 43,
   "metadata": {},
   "outputs": [
    {
     "data": {
      "text/html": [
       "<html><script type=\"math/tex; mode=display\">\\newcommand{\\Bold}[1]{\\mathbf{#1}}P^{2} + \\frac{1}{2} \\, {m_{12}}^{2} + \\frac{1}{2} \\, {m_1^2} + \\frac{1}{2} \\, {m_2^2} + \\frac{1}{2} \\, \\sqrt{{m_{12}}^{4} + 2 \\, {\\left(2 \\, P^{2} + {m_1^2}\\right)} {m_{12}}^{2} + {m_1^2}^{2} + 2 \\, {\\left({m_{12}}^{2} - {m_1^2}\\right)} {m_2^2} + {m_2^2}^{2}}</script></html>"
      ],
      "text/plain": [
       "P^2 + 1/2*m12^2 + 1/2*m1 + 1/2*m2 + 1/2*sqrt(m12^4 + 2*(2*P^2 + m1)*m12^2 + m1^2 + 2*(m12^2 - m1)*m2 + m2^2)"
      ]
     },
     "execution_count": 43,
     "metadata": {},
     "output_type": "execute_result"
    }
   ],
   "source": [
    "sol[2].rhs()"
   ]
  },
  {
   "cell_type": "code",
   "execution_count": 68,
   "metadata": {},
   "outputs": [],
   "source": [
    "E0 = sqrt(P^2 + m2[2])\n",
    "M2 = (m2[0] + m2[1] + m12^2)\n",
    "Ep = sqrt(P^2 + 1/2 * M2 + 1/2 * sqrt(4*P^2*m12^2 + M2**2 - 4*m2[0]*m2[1]))\n",
    "Em = sqrt(P^2 + 1/2 * M2 - 1/2 * sqrt(4*P^2*m12^2 + M2**2 - 4*m2[0]*m2[1]))"
   ]
  },
  {
   "cell_type": "markdown",
   "metadata": {},
   "source": [
    "Sanity check"
   ]
  },
  {
   "cell_type": "code",
   "execution_count": 69,
   "metadata": {},
   "outputs": [
    {
     "data": {
      "text/html": [
       "<html><script type=\"math/tex; mode=display\">\\newcommand{\\Bold}[1]{\\mathbf{#1}}0</script></html>"
      ],
      "text/plain": [
       "0"
      ]
     },
     "execution_count": 69,
     "metadata": {},
     "output_type": "execute_result"
    }
   ],
   "source": [
    "(E0**2 - sol[0].rhs())"
   ]
  },
  {
   "cell_type": "code",
   "execution_count": 71,
   "metadata": {},
   "outputs": [
    {
     "data": {
      "text/html": [
       "<html><script type=\"math/tex; mode=display\">\\newcommand{\\Bold}[1]{\\mathbf{#1}}0</script></html>"
      ],
      "text/plain": [
       "0"
      ]
     },
     "execution_count": 71,
     "metadata": {},
     "output_type": "execute_result"
    }
   ],
   "source": [
    "(Ep**2 - sol[2].rhs()).full_simplify()"
   ]
  },
  {
   "cell_type": "code",
   "execution_count": 72,
   "metadata": {},
   "outputs": [
    {
     "data": {
      "text/html": [
       "<html><script type=\"math/tex; mode=display\">\\newcommand{\\Bold}[1]{\\mathbf{#1}}0</script></html>"
      ],
      "text/plain": [
       "0"
      ]
     },
     "execution_count": 72,
     "metadata": {},
     "output_type": "execute_result"
    }
   ],
   "source": [
    "(Em**2 - sol[1].rhs()).full_simplify()"
   ]
  },
  {
   "cell_type": "code",
   "execution_count": 136,
   "metadata": {},
   "outputs": [],
   "source": [
    "a(P) = Ep + Em"
   ]
  },
  {
   "cell_type": "code",
   "execution_count": 138,
   "metadata": {},
   "outputs": [
    {
     "ename": "RuntimeError",
     "evalue": "indeterminate expression: infinity * f(x) encountered.",
     "output_type": "error",
     "traceback": [
      "\u001b[0;31m---------------------------------------------------------------------------\u001b[0m",
      "\u001b[0;31mRuntimeError\u001b[0m                              Traceback (most recent call last)",
      "\u001b[0;32m/tmp/ipykernel_42288/2305274989.py\u001b[0m in \u001b[0;36m<module>\u001b[0;34m\u001b[0m\n\u001b[0;32m----> 1\u001b[0;31m \u001b[0ma\u001b[0m\u001b[0;34m.\u001b[0m\u001b[0mseries\u001b[0m\u001b[0;34m(\u001b[0m\u001b[0mP\u001b[0m\u001b[0;34m==\u001b[0m\u001b[0moo\u001b[0m\u001b[0;34m,\u001b[0m \u001b[0mInteger\u001b[0m\u001b[0;34m(\u001b[0m\u001b[0;36m2\u001b[0m\u001b[0;34m)\u001b[0m\u001b[0;34m)\u001b[0m\u001b[0;34m\u001b[0m\u001b[0;34m\u001b[0m\u001b[0m\n\u001b[0m",
      "\u001b[0;32m/usr/lib/python3/dist-packages/sage/symbolic/expression.pyx\u001b[0m in \u001b[0;36msage.symbolic.expression.Expression.series (build/cythonized/sage/symbolic/expression.cpp:27294)\u001b[0;34m()\u001b[0m\n\u001b[1;32m   4439\u001b[0m         \u001b[0msig_on\u001b[0m\u001b[0;34m(\u001b[0m\u001b[0;34m)\u001b[0m\u001b[0;34m\u001b[0m\u001b[0;34m\u001b[0m\u001b[0m\n\u001b[1;32m   4440\u001b[0m         \u001b[0;32mtry\u001b[0m\u001b[0;34m:\u001b[0m\u001b[0;34m\u001b[0m\u001b[0;34m\u001b[0m\u001b[0m\n\u001b[0;32m-> 4441\u001b[0;31m             \u001b[0mx\u001b[0m \u001b[0;34m=\u001b[0m \u001b[0mself\u001b[0m\u001b[0;34m.\u001b[0m\u001b[0m_gobj\u001b[0m\u001b[0;34m.\u001b[0m\u001b[0mexpand\u001b[0m\u001b[0;34m(\u001b[0m\u001b[0;36m0\u001b[0m\u001b[0;34m)\u001b[0m\u001b[0;34m.\u001b[0m\u001b[0mseries\u001b[0m\u001b[0;34m(\u001b[0m\u001b[0msymbol0\u001b[0m\u001b[0;34m.\u001b[0m\u001b[0m_gobj\u001b[0m\u001b[0;34m,\u001b[0m \u001b[0mcprec\u001b[0m\u001b[0;34m,\u001b[0m \u001b[0moptions\u001b[0m\u001b[0;34m)\u001b[0m\u001b[0;34m\u001b[0m\u001b[0;34m\u001b[0m\u001b[0m\n\u001b[0m\u001b[1;32m   4442\u001b[0m             \u001b[0mnex\u001b[0m \u001b[0;34m=\u001b[0m \u001b[0mSymbolicSeries\u001b[0m\u001b[0;34m.\u001b[0m\u001b[0m__new__\u001b[0m\u001b[0;34m(\u001b[0m\u001b[0mSymbolicSeries\u001b[0m\u001b[0;34m)\u001b[0m\u001b[0;34m\u001b[0m\u001b[0;34m\u001b[0m\u001b[0m\n\u001b[1;32m   4443\u001b[0m             \u001b[0mnex\u001b[0m\u001b[0;34m.\u001b[0m\u001b[0m_parent\u001b[0m \u001b[0;34m=\u001b[0m \u001b[0mself\u001b[0m\u001b[0;34m.\u001b[0m\u001b[0m_parent\u001b[0m\u001b[0;34m\u001b[0m\u001b[0;34m\u001b[0m\u001b[0m\n",
      "\u001b[0;31mRuntimeError\u001b[0m: indeterminate expression: infinity * f(x) encountered."
     ]
    }
   ],
   "source": [
    "a.series(P==oo, 2)"
   ]
  },
  {
   "cell_type": "code",
   "execution_count": 139,
   "metadata": {},
   "outputs": [],
   "source": [
    "s = a(1/x).series(x==0, 5).truncate().full_simplify()"
   ]
  },
  {
   "cell_type": "code",
   "execution_count": 140,
   "metadata": {},
   "outputs": [
    {
     "data": {
      "text/html": [
       "<html><script type=\"math/tex; mode=display\">\\newcommand{\\Bold}[1]{\\mathbf{#1}}2 \\, P + \\frac{{m_{12}}^{2} + 2 \\, {m_1^2} + 2 \\, {m_2^2}}{4 \\, P} - \\frac{{m_{12}}^{4} + 4 \\, {m_1^2} {m_{12}}^{2} + 4 \\, {m_{12}}^{2} {m_2^2} + 8 \\, {m_1^2}^{2} + 8 \\, {m_2^2}^{2}}{64 \\, P^{3}}</script></html>"
      ],
      "text/plain": [
       "2*P + 1/4*(m12^2 + 2*m1 + 2*m2)/P - 1/64*(m12^4 + 4*m1*m12^2 + 4*m12^2*m2 + 8*m1^2 + 8*m2^2)/P^3"
      ]
     },
     "execution_count": 140,
     "metadata": {},
     "output_type": "execute_result"
    }
   ],
   "source": [
    "sol = s.expand().collect(x).subs(x = 1/P)\n",
    "sol"
   ]
  },
  {
   "cell_type": "code",
   "execution_count": 141,
   "metadata": {},
   "outputs": [
    {
     "data": {
      "text/html": [
       "<html><script type=\"math/tex; mode=display\">\\newcommand{\\Bold}[1]{\\mathbf{#1}}2 \\, P + \\frac{{m_{12}}^{2} + 2 \\, {m_1^2} + 2 \\, {m_2^2}}{4 \\, P} - \\frac{{m_{12}}^{4} + 4 \\, {\\left({m_1^2} + {m_2^2}\\right)} {m_{12}}^{2} + 8 \\, {m_1^2}^{2} + 8 \\, {m_2^2}^{2}}{64 \\, P^{3}}</script></html>"
      ],
      "text/plain": [
       "2*P + 1/4*(m12^2 + 2*m1 + 2*m2)/P - 1/64*(m12^4 + 4*(m1 + m2)*m12^2 + 8*m1^2 + 8*m2^2)/P^3"
      ]
     },
     "execution_count": 141,
     "metadata": {},
     "output_type": "execute_result"
    }
   ],
   "source": [
    "b = (\n",
    "    2*P \n",
    "    + (m12^2 + 2*m2[0] + 2*m2[1]) * 1/(4 * P) \n",
    "    - (  + m12^4 + m12**2*(4*(m2[0] + m2[1])) + 8*(m2[0]^2 + m2[1]^2) ) * 1 /(64 * P^3)\n",
    ")\n",
    "b"
   ]
  },
  {
   "cell_type": "code",
   "execution_count": 142,
   "metadata": {},
   "outputs": [
    {
     "data": {
      "text/html": [
       "<html><script type=\"math/tex; mode=display\">\\newcommand{\\Bold}[1]{\\mathbf{#1}}0</script></html>"
      ],
      "text/plain": [
       "0"
      ]
     },
     "execution_count": 142,
     "metadata": {},
     "output_type": "execute_result"
    }
   ],
   "source": [
    "(sol - b).expand()"
   ]
  },
  {
   "cell_type": "code",
   "execution_count": 145,
   "metadata": {},
   "outputs": [
    {
     "data": {
      "text/html": [
       "<html><script type=\"math/tex; mode=display\">\\newcommand{\\Bold}[1]{\\mathbf{#1}}2 \\, P + \\frac{{m_{12}}^{2} + 2 \\, {m_1^2} + 2 \\, {m_2^2}}{4 \\, P} - \\frac{{m_{12}}^{4} + 4 \\, {m_1^2} {m_{12}}^{2} + 4 \\, {m_{12}}^{2} {m_2^2} + 8 \\, {m_1^2}^{2} + 8 \\, {m_2^2}^{2}}{64 \\, P^{3}} + \\frac{{m_{12}}^{6} + 6 \\, {m_1^2} {m_{12}}^{4} + 6 \\, {m_{12}}^{4} {m_2^2} + 16 \\, {m_1^2}^{2} {m_{12}}^{2} + 16 \\, {m_1^2} {m_{12}}^{2} {m_2^2} + 16 \\, {m_{12}}^{2} {m_2^2}^{2} + 32 \\, {m_1^2}^{3} + 32 \\, {m_2^2}^{3}}{512 \\, P^{5}} - \\frac{5 \\, {m_{12}}^{8} + 40 \\, {m_1^2} {m_{12}}^{6} + 40 \\, {m_{12}}^{6} {m_2^2} + 144 \\, {m_1^2}^{2} {m_{12}}^{4} + 192 \\, {m_1^2} {m_{12}}^{4} {m_2^2} + 144 \\, {m_{12}}^{4} {m_2^2}^{2} + 320 \\, {m_1^2}^{3} {m_{12}}^{2} + 320 \\, {m_1^2}^{2} {m_{12}}^{2} {m_2^2} + 320 \\, {m_1^2} {m_{12}}^{2} {m_2^2}^{2} + 320 \\, {m_{12}}^{2} {m_2^2}^{3} + 640 \\, {m_1^2}^{4} + 640 \\, {m_2^2}^{4}}{16384 \\, P^{7}} + \\frac{7 \\, {m_{12}}^{10} + 70 \\, {m_1^2} {m_{12}}^{8} + 70 \\, {m_{12}}^{8} {m_2^2} + 320 \\, {m_1^2}^{2} {m_{12}}^{6} + 480 \\, {m_1^2} {m_{12}}^{6} {m_2^2} + 320 \\, {m_{12}}^{6} {m_2^2}^{2} + 896 \\, {m_1^2}^{3} {m_{12}}^{4} + 1344 \\, {m_1^2}^{2} {m_{12}}^{4} {m_2^2} + 1344 \\, {m_1^2} {m_{12}}^{4} {m_2^2}^{2} + 896 \\, {m_{12}}^{4} {m_2^2}^{3} + 1792 \\, {m_1^2}^{4} {m_{12}}^{2} + 1792 \\, {m_1^2}^{3} {m_{12}}^{2} {m_2^2} + 1792 \\, {m_1^2}^{2} {m_{12}}^{2} {m_2^2}^{2} + 1792 \\, {m_1^2} {m_{12}}^{2} {m_2^2}^{3} + 1792 \\, {m_{12}}^{2} {m_2^2}^{4} + 3584 \\, {m_1^2}^{5} + 3584 \\, {m_2^2}^{5}}{131072 \\, P^{9}}</script></html>"
      ],
      "text/plain": [
       "2*P + 1/4*(m12^2 + 2*m1 + 2*m2)/P - 1/64*(m12^4 + 4*m1*m12^2 + 4*m12^2*m2 + 8*m1^2 + 8*m2^2)/P^3 + 1/512*(m12^6 + 6*m1*m12^4 + 6*m12^4*m2 + 16*m1^2*m12^2 + 16*m1*m12^2*m2 + 16*m12^2*m2^2 + 32*m1^3 + 32*m2^3)/P^5 - 1/16384*(5*m12^8 + 40*m1*m12^6 + 40*m12^6*m2 + 144*m1^2*m12^4 + 192*m1*m12^4*m2 + 144*m12^4*m2^2 + 320*m1^3*m12^2 + 320*m1^2*m12^2*m2 + 320*m1*m12^2*m2^2 + 320*m12^2*m2^3 + 640*m1^4 + 640*m2^4)/P^7 + 1/131072*(7*m12^10 + 70*m1*m12^8 + 70*m12^8*m2 + 320*m1^2*m12^6 + 480*m1*m12^6*m2 + 320*m12^6*m2^2 + 896*m1^3*m12^4 + 1344*m1^2*m12^4*m2 + 1344*m1*m12^4*m2^2 + 896*m12^4*m2^3 + 1792*m1^4*m12^2 + 1792*m1^3*m12^2*m2 + 1792*m1^2*m12^2*m2^2 + 1792*m1*m12^2*m2^3 + 1792*m12^2*m2^4 + 3584*m1^5 + 3584*m2^5)/P^9"
      ]
     },
     "execution_count": 145,
     "metadata": {},
     "output_type": "execute_result"
    }
   ],
   "source": [
    "sol10 = a(1/x).series(x==0, 10).truncate().simplify()\n",
    "sol10.expand().collect(x).subs(x = 1/P)"
   ]
  },
  {
   "cell_type": "code",
   "execution_count": 153,
   "metadata": {},
   "outputs": [
    {
     "data": {
      "text/html": [
       "<html><script type=\"math/tex; mode=display\">\\newcommand{\\Bold}[1]{\\mathbf{#1}}\\frac{1}{2} \\, \\sqrt{4 \\, P^{2} + {m_{12}}^{2} + 4 \\, {m_1^2}} + \\frac{1}{2} \\, \\sqrt{4 \\, P^{2} + {m_{12}}^{2} + 4 \\, {m_2^2}}</script></html>"
      ],
      "text/plain": [
       "1/2*sqrt(4*P^2 + m12^2 + 4*m1) + 1/2*sqrt(4*P^2 + m12^2 + 4*m2)"
      ]
     },
     "execution_count": 153,
     "metadata": {},
     "output_type": "execute_result"
    }
   ],
   "source": [
    "E_1 = sqrt(P^2 + m2[0] + m12^2/4)\n",
    "E_2 = sqrt(P^2 + m2[1] + m12^2/4)\n",
    "a_new(P) = E_1 + E_2\n",
    "a_new(P)"
   ]
  },
  {
   "cell_type": "code",
   "execution_count": 154,
   "metadata": {},
   "outputs": [
    {
     "data": {
      "text/html": [
       "<html><script type=\"math/tex; mode=display\">\\newcommand{\\Bold}[1]{\\mathbf{#1}}2 \\, P + \\frac{{m_{12}}^{2} + 2 \\, {m_1^2} + 2 \\, {m_2^2}}{4 \\, P} - \\frac{{\\left({m_{12}}^{2} + 4 \\, {m_1^2}\\right)}^{2} + {\\left({m_{12}}^{2} + 4 \\, {m_2^2}\\right)}^{2}}{128 \\, P^{3}} + \\frac{{\\left({m_{12}}^{2} + 4 \\, {m_1^2}\\right)}^{3} + {\\left({m_{12}}^{2} + 4 \\, {m_2^2}\\right)}^{3}}{1024 \\, P^{5}} + \\mathcal{O}\\left(\\frac{1}{P^{6}}\\right)</script></html>"
      ],
      "text/plain": [
       "2*P + 1/4*(m12^2 + 2*m1 + 2*m2)/P - 1/128*((m12^2 + 4*m1)^2 + (m12^2 + 4*m2)^2)/P^3 + 1/1024*((m12^2 + 4*m1)^3 + (m12^2 + 4*m2)^3)/P^5 + Order(P^(-6))"
      ]
     },
     "execution_count": 154,
     "metadata": {},
     "output_type": "execute_result"
    }
   ],
   "source": [
    "a_new(1/x).series(x==0, 6).simplify().subs(x==1/P)"
   ]
  },
  {
   "cell_type": "code",
   "execution_count": 156,
   "metadata": {},
   "outputs": [],
   "source": [
    "f(P) = 1/2 * P^2 / (4 * pi) * (a(P) - a_new(P))"
   ]
  },
  {
   "cell_type": "code",
   "execution_count": 159,
   "metadata": {},
   "outputs": [
    {
     "data": {
      "text/html": [
       "<html><script type=\"math/tex; mode=display\">\\newcommand{\\Bold}[1]{\\mathbf{#1}}-\\frac{P^{2} {\\left(\\sqrt{4 \\, P^{2} + {m_{12}}^{2} + 4 \\, {m_1^2}} + \\sqrt{4 \\, P^{2} + {m_{12}}^{2} + 4 \\, {m_2^2}} - 2 \\, \\sqrt{P^{2} + \\frac{1}{2} \\, {m_{12}}^{2} + \\frac{1}{2} \\, {m_1^2} + \\frac{1}{2} \\, {m_2^2} + \\frac{1}{2} \\, \\sqrt{4 \\, P^{2} {m_{12}}^{2} + {\\left({m_{12}}^{2} + {m_1^2} + {m_2^2}\\right)}^{2} - 4 \\, {m_1^2} {m_2^2}}} - 2 \\, \\sqrt{P^{2} + \\frac{1}{2} \\, {m_{12}}^{2} + \\frac{1}{2} \\, {m_1^2} + \\frac{1}{2} \\, {m_2^2} - \\frac{1}{2} \\, \\sqrt{4 \\, P^{2} {m_{12}}^{2} + {\\left({m_{12}}^{2} + {m_1^2} + {m_2^2}\\right)}^{2} - 4 \\, {m_1^2} {m_2^2}}}\\right)}}{16 \\, \\pi}</script></html>"
      ],
      "text/plain": [
       "-1/16*P^2*(sqrt(4*P^2 + m12^2 + 4*m1) + sqrt(4*P^2 + m12^2 + 4*m2) - 2*sqrt(P^2 + 1/2*m12^2 + 1/2*m1 + 1/2*m2 + 1/2*sqrt(4*P^2*m12^2 + (m12^2 + m1 + m2)^2 - 4*m1*m2)) - 2*sqrt(P^2 + 1/2*m12^2 + 1/2*m1 + 1/2*m2 - 1/2*sqrt(4*P^2*m12^2 + (m12^2 + m1 + m2)^2 - 4*m1*m2)))/pi"
      ]
     },
     "execution_count": 159,
     "metadata": {},
     "output_type": "execute_result"
    }
   ],
   "source": [
    "f(P).simplify()"
   ]
  },
  {
   "cell_type": "code",
   "execution_count": null,
   "metadata": {},
   "outputs": [],
   "source": []
  }
 ],
 "metadata": {
  "kernelspec": {
   "display_name": "SageMath 9.0",
   "language": "sage",
   "name": "sagemath"
  },
  "language_info": {
   "codemirror_mode": {
    "name": "ipython",
    "version": 3
   },
   "file_extension": ".py",
   "mimetype": "text/x-python",
   "name": "python",
   "nbconvert_exporter": "python",
   "pygments_lexer": "ipython3",
   "version": "3.8.10"
  }
 },
 "nbformat": 4,
 "nbformat_minor": 4
}
