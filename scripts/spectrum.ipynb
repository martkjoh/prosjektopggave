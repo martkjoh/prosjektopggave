{
 "cells": [
  {
   "cell_type": "markdown",
   "metadata": {},
   "source": [
    "# The spectrum of the pions"
   ]
  },
  {
   "cell_type": "code",
   "execution_count": 1,
   "metadata": {},
   "outputs": [],
   "source": [
    "%display latex"
   ]
  },
  {
   "cell_type": "code",
   "execution_count": 2,
   "metadata": {},
   "outputs": [
    {
     "data": {
      "text/html": [
       "<html><script type=\"math/tex; mode=display\">\\newcommand{\\Bold}[1]{\\mathbf{#1}}{m_1^2}</script></html>"
      ],
      "text/plain": [
       "m1"
      ]
     },
     "execution_count": 2,
     "metadata": {},
     "output_type": "execute_result"
    }
   ],
   "source": [
    "P = var(\"P\")      # spatial momentum\n",
    "p0 = var(\"p0\")    # Energy\n",
    "m12 = var(\"m12\", latex_name=\"m_{12}\")  # masses\n",
    "m2 = [var(\"m{}\".format(i), latex_name=\"m_{}^2\".format(i)) for i in range(1, 3+1)]\n",
    "m2[0]"
   ]
  },
  {
   "cell_type": "code",
   "execution_count": 3,
   "metadata": {},
   "outputs": [
    {
     "data": {
      "text/html": [
       "<html><script type=\"math/tex; mode=display\">\\newcommand{\\Bold}[1]{\\mathbf{#1}}\\left(\\begin{array}{rrr}\n",
       "P^{2} - p_{0}^{2} + {m_1^2} & i \\, {m_{12}} p_{0} & 0 \\\\\n",
       "-i \\, {m_{12}} p_{0} & P^{2} - p_{0}^{2} + {m_2^2} & 0 \\\\\n",
       "0 & 0 & P^{2} - p_{0}^{2} + {m_3^2}\n",
       "\\end{array}\\right)</script></html>"
      ],
      "text/plain": [
       "[P^2 - p0^2 + m1        I*m12*p0               0]\n",
       "[      -I*m12*p0 P^2 - p0^2 + m2               0]\n",
       "[              0               0 P^2 - p0^2 + m3]"
      ]
     },
     "execution_count": 3,
     "metadata": {},
     "output_type": "execute_result"
    }
   ],
   "source": [
    "A = -Matrix([\n",
    "    [p0**2 - P**2 - m2[0], - p0 * I * m12,        0                   ],\n",
    "    [p0 * I * m12,         p0**2 - P**2 - m2[1], 0                    ],\n",
    "    [0,                   0,                     p0**2 - P**2 - m2[2] ]\n",
    "])\n",
    "A"
   ]
  },
  {
   "cell_type": "code",
   "execution_count": 4,
   "metadata": {},
   "outputs": [],
   "source": [
    "var(\"a\")\n",
    "sol = solve(det(A).subs(p0^2 == a) == 0, a)"
   ]
  },
  {
   "cell_type": "code",
   "execution_count": 5,
   "metadata": {},
   "outputs": [
    {
     "data": {
      "text/html": [
       "<html><script type=\"math/tex; mode=display\">\\newcommand{\\Bold}[1]{\\mathbf{#1}}P^{2} + {m_3^2}</script></html>"
      ],
      "text/plain": [
       "P^2 + m3"
      ]
     },
     "execution_count": 5,
     "metadata": {},
     "output_type": "execute_result"
    }
   ],
   "source": [
    "sol[0].rhs()"
   ]
  },
  {
   "cell_type": "code",
   "execution_count": 6,
   "metadata": {},
   "outputs": [],
   "source": [
    "var(\"a\", latex_name=r\"\\alpha\")\n",
    "var(\"m\")\n",
    "var(\"mu\", latex_name=r\"\\mu_I\")\n",
    "var(\"p\")\n",
    "m_1_sq = m^2 * cos(a) - mu^2 * cos(2*a)\n",
    "m_2_sq = m^2 * cos(a) - mu^2 * cos(a)^2\n",
    "m_3_sq = m^2 * cos(a) + mu^2 * sin(a)^2\n",
    "m_12 = 2 * mu * cos(a)\n",
    "s = lambda x: x.subs(m2[0]== m_1_sq).subs(m2[1]==m_2_sq).subs(m2[2]==m_3_sq).subs(m12==m_12).subs(a==0)#arccos(m**2/mu**2))"
   ]
  },
  {
   "cell_type": "code",
   "execution_count": 7,
   "metadata": {},
   "outputs": [
    {
     "data": {
      "text/html": [
       "<html><script type=\"math/tex; mode=display\">\\newcommand{\\Bold}[1]{\\mathbf{#1}}\\sqrt{m^{2} + {\\mu_I}^{2} + 2 \\, \\sqrt{m^{2} {\\mu_I}^{2}}}</script></html>"
      ],
      "text/plain": [
       "sqrt(m^2 + mu^2 + 2*sqrt(m^2*mu^2))"
      ]
     },
     "execution_count": 7,
     "metadata": {},
     "output_type": "execute_result"
    }
   ],
   "source": [
    "E2 = sol[2].rhs()\n",
    "E = sqrt(E2)\n",
    "s(E).full_simplify().subs(P==0)\n",
    "#.series(P, 3)\n",
    "#f = function(\"f\")(x)\n",
    "#s(E.diff(P)).full_simplify()"
   ]
  },
  {
   "cell_type": "code",
   "execution_count": 8,
   "metadata": {},
   "outputs": [
    {
     "data": {
      "text/html": [
       "<html><script type=\"math/tex; mode=display\">\\newcommand{\\Bold}[1]{\\mathbf{#1}}\\sqrt{P^{2} + m^{2} + {\\mu_I}^{2} - 2 \\, \\sqrt{{\\left(P^{2} + m^{2}\\right)} {\\mu_I}^{2}}}</script></html>"
      ],
      "text/plain": [
       "sqrt(P^2 + m^2 + mu^2 - 2*sqrt((P^2 + m^2)*mu^2))"
      ]
     },
     "execution_count": 8,
     "metadata": {},
     "output_type": "execute_result"
    }
   ],
   "source": [
    "E2 = sol[1].rhs()\n",
    "E = sqrt(E2)\n",
    "E = s(E).full_simplify()\n",
    "E"
   ]
  },
  {
   "cell_type": "code",
   "execution_count": 9,
   "metadata": {},
   "outputs": [
    {
     "data": {
      "text/html": [
       "<html><script type=\"math/tex; mode=display\">\\newcommand{\\Bold}[1]{\\mathbf{#1}}{(\\sqrt{m^{2} + {\\mu_I}^{2} - 2 \\, \\sqrt{m^{2} {\\mu_I}^{2}}})} + {(-\\frac{\\frac{\\sqrt{m^{2} {\\mu_I}^{2}}}{m^{2}} - 1}{2 \\, \\sqrt{m^{2} + {\\mu_I}^{2} - 2 \\, \\sqrt{m^{2} {\\mu_I}^{2}}}})} P^{2} + {(-\\frac{\\frac{{\\left(\\frac{\\sqrt{m^{2} {\\mu_I}^{2}}}{m^{2}} - 1\\right)}^{2}}{\\sqrt{m^{2} + {\\mu_I}^{2} - 2 \\, \\sqrt{m^{2} {\\mu_I}^{2}}}} - \\frac{\\sqrt{m^{2} {\\mu_I}^{2}} \\sqrt{m^{2} + {\\mu_I}^{2} - 2 \\, \\sqrt{m^{2} {\\mu_I}^{2}}}}{m^{4}}}{8 \\, {\\left(m^{2} + {\\mu_I}^{2} - 2 \\, \\sqrt{m^{2} {\\mu_I}^{2}}\\right)}})} P^{4} + \\mathcal{O}\\left(P^{6}\\right)</script></html>"
      ],
      "text/plain": [
       "(sqrt(m^2 + mu^2 - 2*sqrt(m^2*mu^2))) + (-1/2*(sqrt(m^2*mu^2)/m^2 - 1)/sqrt(m^2 + mu^2 - 2*sqrt(m^2*mu^2)))*P^2 + (-1/8*((sqrt(m^2*mu^2)/m^2 - 1)^2/sqrt(m^2 + mu^2 - 2*sqrt(m^2*mu^2)) - sqrt(m^2*mu^2)*sqrt(m^2 + mu^2 - 2*sqrt(m^2*mu^2))/m^4)/(m^2 + mu^2 - 2*sqrt(m^2*mu^2)))*P^4 + Order(P^6)"
      ]
     },
     "execution_count": 9,
     "metadata": {},
     "output_type": "execute_result"
    }
   ],
   "source": [
    "E.series(P,6)"
   ]
  },
  {
   "cell_type": "code",
   "execution_count": 10,
   "metadata": {},
   "outputs": [
    {
     "data": {
      "text/html": [
       "<html><script type=\"math/tex; mode=display\">\\newcommand{\\Bold}[1]{\\mathbf{#1}}\\sqrt{\\frac{1}{2} \\, {\\left(\\cos\\left({\\alpha}\\right)^{2} + 1\\right)} {\\mu_I}^{2} + m^{2} \\cos\\left({\\alpha}\\right) + P^{2} - \\frac{1}{2} \\, \\sqrt{-{\\left(7 \\, \\cos\\left({\\alpha}\\right)^{4} - 6 \\, \\cos\\left({\\alpha}\\right)^{2} - 1\\right)} {\\mu_I}^{4} + 16 \\, {\\left(m^{2} \\cos\\left({\\alpha}\\right)^{3} + P^{2} \\cos\\left({\\alpha}\\right)^{2}\\right)} {\\mu_I}^{2}}}</script></html>"
      ],
      "text/plain": [
       "sqrt(1/2*(cos(a)^2 + 1)*mu^2 + m^2*cos(a) + P^2 - 1/2*sqrt(-(7*cos(a)^4 - 6*cos(a)^2 - 1)*mu^4 + 16*(m^2*cos(a)^3 + P^2*cos(a)^2)*mu^2))"
      ]
     },
     "execution_count": 10,
     "metadata": {},
     "output_type": "execute_result"
    }
   ],
   "source": [
    "E2 = sol[1].rhs()\n",
    "sqrt(E2).series(P, 3)\n",
    "\n",
    "E = sqrt(E2.subs(m2[0]== m_1_sq).subs(m2[1]==m_2_sq).subs(m2[2]==m_3_sq).subs(m12==m_12).full_simplify())\n",
    "E.series(P, 3).truncate().subs(a==arccos(m**2/mu**2)).subs(m**2==mu**2)\n",
    "E"
   ]
  },
  {
   "cell_type": "code",
   "execution_count": 11,
   "metadata": {},
   "outputs": [
    {
     "data": {
      "text/html": [
       "<html><script type=\"math/tex; mode=display\">\\newcommand{\\Bold}[1]{\\mathbf{#1}}\\frac{{\\left(4 \\, m^{4} {\\mu_I}^{2} - {\\mu_I}^{4} \\sqrt{\\frac{9 \\, m^{8} + 6 \\, m^{4} {\\mu_I}^{4} + {\\mu_I}^{8}}{{\\mu_I}^{4}}}\\right)} \\sqrt{\\frac{3 \\, m^{4} + {\\mu_I}^{4} - {\\mu_I}^{2} \\sqrt{\\frac{9 \\, m^{8} + 6 \\, m^{4} {\\mu_I}^{4} + {\\mu_I}^{8}}{{\\mu_I}^{4}}}}{{\\mu_I}^{2}}}}{9 \\, \\sqrt{2} m^{8} + 6 \\, \\sqrt{2} m^{4} {\\mu_I}^{4} + \\sqrt{2} {\\mu_I}^{8} - {\\left(3 \\, \\sqrt{2} m^{4} {\\mu_I}^{2} + \\sqrt{2} {\\mu_I}^{6}\\right)} \\sqrt{\\frac{9 \\, m^{8} + 6 \\, m^{4} {\\mu_I}^{4} + {\\mu_I}^{8}}{{\\mu_I}^{4}}}}</script></html>"
      ],
      "text/plain": [
       "(4*m^4*mu^2 - mu^4*sqrt((9*m^8 + 6*m^4*mu^4 + mu^8)/mu^4))*sqrt((3*m^4 + mu^4 - mu^2*sqrt((9*m^8 + 6*m^4*mu^4 + mu^8)/mu^4))/mu^2)/(9*sqrt(2)*m^8 + 6*sqrt(2)*m^4*mu^4 + sqrt(2)*mu^8 - (3*sqrt(2)*m^4*mu^2 + sqrt(2)*mu^6)*sqrt((9*m^8 + 6*m^4*mu^4 + mu^8)/mu^4))"
      ]
     },
     "execution_count": 11,
     "metadata": {},
     "output_type": "execute_result"
    }
   ],
   "source": [
    "E.series(P, 3).truncate().subs(a==arccos(m**2/mu**2)).subs(m**2==mu**2).coefficient(P, 2).full_simplify()"
   ]
  },
  {
   "cell_type": "code",
   "execution_count": 12,
   "metadata": {},
   "outputs": [
    {
     "data": {
      "text/html": [
       "<html><script type=\"math/tex; mode=display\">\\newcommand{\\Bold}[1]{\\mathbf{#1}}P^{2} + \\frac{1}{2} \\, {m_{12}}^{2} + \\frac{1}{2} \\, {m_1^2} + \\frac{1}{2} \\, {m_2^2} + \\frac{1}{2} \\, \\sqrt{{m_{12}}^{4} + 2 \\, {\\left(2 \\, P^{2} + {m_1^2}\\right)} {m_{12}}^{2} + {m_1^2}^{2} + 2 \\, {\\left({m_{12}}^{2} - {m_1^2}\\right)} {m_2^2} + {m_2^2}^{2}}</script></html>"
      ],
      "text/plain": [
       "P^2 + 1/2*m12^2 + 1/2*m1 + 1/2*m2 + 1/2*sqrt(m12^4 + 2*(2*P^2 + m1)*m12^2 + m1^2 + 2*(m12^2 - m1)*m2 + m2^2)"
      ]
     },
     "execution_count": 12,
     "metadata": {},
     "output_type": "execute_result"
    }
   ],
   "source": [
    "sol[2].rhs()"
   ]
  },
  {
   "cell_type": "code",
   "execution_count": 13,
   "metadata": {},
   "outputs": [],
   "source": [
    "E0 = sqrt(P^2 + m2[2])\n",
    "M2 = (m2[0] + m2[1] + m12^2)\n",
    "Ep = sqrt(P^2 + 1/2 * M2 + 1/2 * sqrt(4*P^2*m12^2 + M2**2 - 4*m2[0]*m2[1]))\n",
    "Em = sqrt(P^2 + 1/2 * M2 - 1/2 * sqrt(4*P^2*m12^2 + M2**2 - 4*m2[0]*m2[1]))"
   ]
  },
  {
   "cell_type": "markdown",
   "metadata": {},
   "source": [
    "Sanity check"
   ]
  },
  {
   "cell_type": "code",
   "execution_count": 14,
   "metadata": {},
   "outputs": [
    {
     "data": {
      "text/html": [
       "<html><script type=\"math/tex; mode=display\">\\newcommand{\\Bold}[1]{\\mathbf{#1}}0</script></html>"
      ],
      "text/plain": [
       "0"
      ]
     },
     "execution_count": 14,
     "metadata": {},
     "output_type": "execute_result"
    }
   ],
   "source": [
    "(E0**2 - sol[0].rhs())"
   ]
  },
  {
   "cell_type": "code",
   "execution_count": 15,
   "metadata": {},
   "outputs": [
    {
     "data": {
      "text/html": [
       "<html><script type=\"math/tex; mode=display\">\\newcommand{\\Bold}[1]{\\mathbf{#1}}0</script></html>"
      ],
      "text/plain": [
       "0"
      ]
     },
     "execution_count": 15,
     "metadata": {},
     "output_type": "execute_result"
    }
   ],
   "source": [
    "(Ep**2 - sol[2].rhs()).full_simplify()"
   ]
  },
  {
   "cell_type": "code",
   "execution_count": 16,
   "metadata": {},
   "outputs": [
    {
     "data": {
      "text/html": [
       "<html><script type=\"math/tex; mode=display\">\\newcommand{\\Bold}[1]{\\mathbf{#1}}0</script></html>"
      ],
      "text/plain": [
       "0"
      ]
     },
     "execution_count": 16,
     "metadata": {},
     "output_type": "execute_result"
    }
   ],
   "source": [
    "(Em**2 - sol[1].rhs()).full_simplify()"
   ]
  },
  {
   "cell_type": "code",
   "execution_count": 17,
   "metadata": {},
   "outputs": [
    {
     "data": {
      "text/html": [
       "<html><script type=\"math/tex; mode=display\">\\newcommand{\\Bold}[1]{\\mathbf{#1}}P \\ {\\mapsto}\\ \\sqrt{P^{2} + \\frac{1}{2} \\, {m_{12}}^{2} + \\frac{1}{2} \\, {m_1^2} + \\frac{1}{2} \\, {m_2^2} + \\frac{1}{2} \\, \\sqrt{4 \\, P^{2} {m_{12}}^{2} + {\\left({m_{12}}^{2} + {m_1^2} + {m_2^2}\\right)}^{2} - 4 \\, {m_1^2} {m_2^2}}} + \\sqrt{P^{2} + \\frac{1}{2} \\, {m_{12}}^{2} + \\frac{1}{2} \\, {m_1^2} + \\frac{1}{2} \\, {m_2^2} - \\frac{1}{2} \\, \\sqrt{4 \\, P^{2} {m_{12}}^{2} + {\\left({m_{12}}^{2} + {m_1^2} + {m_2^2}\\right)}^{2} - 4 \\, {m_1^2} {m_2^2}}}</script></html>"
      ],
      "text/plain": [
       "P |--> sqrt(P^2 + 1/2*m12^2 + 1/2*m1 + 1/2*m2 + 1/2*sqrt(4*P^2*m12^2 + (m12^2 + m1 + m2)^2 - 4*m1*m2)) + sqrt(P^2 + 1/2*m12^2 + 1/2*m1 + 1/2*m2 - 1/2*sqrt(4*P^2*m12^2 + (m12^2 + m1 + m2)^2 - 4*m1*m2))"
      ]
     },
     "execution_count": 17,
     "metadata": {},
     "output_type": "execute_result"
    }
   ],
   "source": [
    "Epm(P) = Ep + Em\n",
    "Epm"
   ]
  },
  {
   "cell_type": "code",
   "execution_count": 18,
   "metadata": {
    "scrolled": true
   },
   "outputs": [
    {
     "data": {
      "text/html": [
       "<html><script type=\"math/tex; mode=display\">\\newcommand{\\Bold}[1]{\\mathbf{#1}}P \\ {\\mapsto}\\ {(\\sqrt{\\frac{1}{2} \\, {m_{12}}^{2} + \\frac{1}{2} \\, {m_1^2} + \\frac{1}{2} \\, {m_2^2} + \\frac{1}{2} \\, \\sqrt{{m_{12}}^{4} + 2 \\, {m_1^2} {m_{12}}^{2} + 2 \\, {m_{12}}^{2} {m_2^2} + {m_1^2}^{2} - 2 \\, {m_1^2} {m_2^2} + {m_2^2}^{2}}} + \\sqrt{\\frac{1}{2} \\, {m_{12}}^{2} + \\frac{1}{2} \\, {m_1^2} + \\frac{1}{2} \\, {m_2^2} - \\frac{1}{2} \\, \\sqrt{{m_{12}}^{4} + 2 \\, {m_1^2} {m_{12}}^{2} + 2 \\, {m_{12}}^{2} {m_2^2} + {m_1^2}^{2} - 2 \\, {m_1^2} {m_2^2} + {m_2^2}^{2}}})} + {(\\frac{\\sqrt{\\frac{1}{2} \\, {m_{12}}^{2} + \\frac{1}{2} \\, {m_1^2} + \\frac{1}{2} \\, {m_2^2} + \\frac{1}{2} \\, \\sqrt{{m_{12}}^{4} + 2 \\, {m_1^2} {m_{12}}^{2} + 2 \\, {m_{12}}^{2} {m_2^2} + {m_1^2}^{2} - 2 \\, {m_1^2} {m_2^2} + {m_2^2}^{2}}} {\\left(\\frac{{m_{12}}^{2}}{\\sqrt{{m_{12}}^{4} + 2 \\, {m_1^2} {m_{12}}^{2} + 2 \\, {m_{12}}^{2} {m_2^2} + {m_1^2}^{2} - 2 \\, {m_1^2} {m_2^2} + {m_2^2}^{2}}} + 1\\right)}}{{m_{12}}^{2} + {m_1^2} + {m_2^2} + \\sqrt{{m_{12}}^{4} + 2 \\, {m_1^2} {m_{12}}^{2} + 2 \\, {m_{12}}^{2} {m_2^2} + {m_1^2}^{2} - 2 \\, {m_1^2} {m_2^2} + {m_2^2}^{2}}} - \\frac{\\sqrt{\\frac{1}{2} \\, {m_{12}}^{2} + \\frac{1}{2} \\, {m_1^2} + \\frac{1}{2} \\, {m_2^2} - \\frac{1}{2} \\, \\sqrt{{m_{12}}^{4} + 2 \\, {m_1^2} {m_{12}}^{2} + 2 \\, {m_{12}}^{2} {m_2^2} + {m_1^2}^{2} - 2 \\, {m_1^2} {m_2^2} + {m_2^2}^{2}}} {\\left(\\frac{{m_{12}}^{2}}{\\sqrt{{m_{12}}^{4} + 2 \\, {m_1^2} {m_{12}}^{2} + 2 \\, {m_{12}}^{2} {m_2^2} + {m_1^2}^{2} - 2 \\, {m_1^2} {m_2^2} + {m_2^2}^{2}}} - 1\\right)}}{{m_{12}}^{2} + {m_1^2} + {m_2^2} - \\sqrt{{m_{12}}^{4} + 2 \\, {m_1^2} {m_{12}}^{2} + 2 \\, {m_{12}}^{2} {m_2^2} + {m_1^2}^{2} - 2 \\, {m_1^2} {m_2^2} + {m_2^2}^{2}}})} P^{2} + \\mathcal{O}\\left(P^{3}\\right)</script></html>"
      ],
      "text/plain": [
       "P |--> (sqrt(1/2*m12^2 + 1/2*m1 + 1/2*m2 + 1/2*sqrt(m12^4 + 2*m1*m12^2 + 2*m12^2*m2 + m1^2 - 2*m1*m2 + m2^2)) + sqrt(1/2*m12^2 + 1/2*m1 + 1/2*m2 - 1/2*sqrt(m12^4 + 2*m1*m12^2 + 2*m12^2*m2 + m1^2 - 2*m1*m2 + m2^2))) + (sqrt(1/2*m12^2 + 1/2*m1 + 1/2*m2 + 1/2*sqrt(m12^4 + 2*m1*m12^2 + 2*m12^2*m2 + m1^2 - 2*m1*m2 + m2^2))*(m12^2/sqrt(m12^4 + 2*m1*m12^2 + 2*m12^2*m2 + m1^2 - 2*m1*m2 + m2^2) + 1)/(m12^2 + m1 + m2 + sqrt(m12^4 + 2*m1*m12^2 + 2*m12^2*m2 + m1^2 - 2*m1*m2 + m2^2)) - sqrt(1/2*m12^2 + 1/2*m1 + 1/2*m2 - 1/2*sqrt(m12^4 + 2*m1*m12^2 + 2*m12^2*m2 + m1^2 - 2*m1*m2 + m2^2))*(m12^2/sqrt(m12^4 + 2*m1*m12^2 + 2*m12^2*m2 + m1^2 - 2*m1*m2 + m2^2) - 1)/(m12^2 + m1 + m2 - sqrt(m12^4 + 2*m1*m12^2 + 2*m12^2*m2 + m1^2 - 2*m1*m2 + m2^2)))*P^2 + Order(P^3)"
      ]
     },
     "execution_count": 18,
     "metadata": {},
     "output_type": "execute_result"
    }
   ],
   "source": [
    "Epm.series(P==0, 3)"
   ]
  },
  {
   "cell_type": "code",
   "execution_count": 19,
   "metadata": {},
   "outputs": [],
   "source": [
    "s = a(1/x).series(x==0, 5).truncate().full_simplify()"
   ]
  },
  {
   "cell_type": "code",
   "execution_count": 20,
   "metadata": {},
   "outputs": [
    {
     "data": {
      "text/html": [
       "<html><script type=\"math/tex; mode=display\">\\newcommand{\\Bold}[1]{\\mathbf{#1}}P</script></html>"
      ],
      "text/plain": [
       "P"
      ]
     },
     "execution_count": 20,
     "metadata": {},
     "output_type": "execute_result"
    }
   ],
   "source": [
    "sol = s.expand().collect(x).subs(x = 1/P)\n",
    "sol"
   ]
  },
  {
   "cell_type": "code",
   "execution_count": 21,
   "metadata": {},
   "outputs": [
    {
     "data": {
      "text/html": [
       "<html><script type=\"math/tex; mode=display\">\\newcommand{\\Bold}[1]{\\mathbf{#1}}2 \\, P + \\frac{{m_{12}}^{2} + 2 \\, {m_1^2} + 2 \\, {m_2^2}}{4 \\, P} - \\frac{{m_{12}}^{4} + 4 \\, {\\left({m_1^2} + {m_2^2}\\right)} {m_{12}}^{2} + 8 \\, {m_1^2}^{2} + 8 \\, {m_2^2}^{2}}{64 \\, P^{3}}</script></html>"
      ],
      "text/plain": [
       "2*P + 1/4*(m12^2 + 2*m1 + 2*m2)/P - 1/64*(m12^4 + 4*(m1 + m2)*m12^2 + 8*m1^2 + 8*m2^2)/P^3"
      ]
     },
     "execution_count": 21,
     "metadata": {},
     "output_type": "execute_result"
    }
   ],
   "source": [
    "b = (\n",
    "    2*P \n",
    "    + (m12^2 + 2*m2[0] + 2*m2[1]) * 1/(4 * P) \n",
    "    - (  + m12^4 + m12**2*(4*(m2[0] + m2[1])) + 8*(m2[0]^2 + m2[1]^2) ) * 1 /(64 * P^3)\n",
    ")\n",
    "b"
   ]
  },
  {
   "cell_type": "code",
   "execution_count": 22,
   "metadata": {},
   "outputs": [
    {
     "data": {
      "text/html": [
       "<html><script type=\"math/tex; mode=display\">\\newcommand{\\Bold}[1]{\\mathbf{#1}}-P - \\frac{{m_{12}}^{2}}{4 \\, P} + \\frac{{m_{12}}^{4}}{64 \\, P^{3}} - \\frac{{m_1^2}}{2 \\, P} + \\frac{{m_1^2} {m_{12}}^{2}}{16 \\, P^{3}} - \\frac{{m_2^2}}{2 \\, P} + \\frac{{m_{12}}^{2} {m_2^2}}{16 \\, P^{3}} + \\frac{{m_1^2}^{2}}{8 \\, P^{3}} + \\frac{{m_2^2}^{2}}{8 \\, P^{3}}</script></html>"
      ],
      "text/plain": [
       "-P - 1/4*m12^2/P + 1/64*m12^4/P^3 - 1/2*m1/P + 1/16*m1*m12^2/P^3 - 1/2*m2/P + 1/16*m12^2*m2/P^3 + 1/8*m1^2/P^3 + 1/8*m2^2/P^3"
      ]
     },
     "execution_count": 22,
     "metadata": {},
     "output_type": "execute_result"
    }
   ],
   "source": [
    "(sol - b).expand()"
   ]
  },
  {
   "cell_type": "code",
   "execution_count": 23,
   "metadata": {},
   "outputs": [
    {
     "data": {
      "text/html": [
       "<html><script type=\"math/tex; mode=display\">\\newcommand{\\Bold}[1]{\\mathbf{#1}}P</script></html>"
      ],
      "text/plain": [
       "P"
      ]
     },
     "execution_count": 23,
     "metadata": {},
     "output_type": "execute_result"
    }
   ],
   "source": [
    "sol10 = a(1/x).series(x==0, 10).truncate().simplify()\n",
    "sol10.expand().collect(x).subs(x = 1/P)"
   ]
  },
  {
   "cell_type": "code",
   "execution_count": 24,
   "metadata": {},
   "outputs": [
    {
     "data": {
      "text/html": [
       "<html><script type=\"math/tex; mode=display\">\\newcommand{\\Bold}[1]{\\mathbf{#1}}\\frac{1}{2} \\, \\sqrt{4 \\, P^{2} + {m_{12}}^{2} + 4 \\, {m_1^2}} + \\frac{1}{2} \\, \\sqrt{4 \\, P^{2} + {m_{12}}^{2} + 4 \\, {m_2^2}}</script></html>"
      ],
      "text/plain": [
       "1/2*sqrt(4*P^2 + m12^2 + 4*m1) + 1/2*sqrt(4*P^2 + m12^2 + 4*m2)"
      ]
     },
     "execution_count": 24,
     "metadata": {},
     "output_type": "execute_result"
    }
   ],
   "source": [
    "E_1 = sqrt(P^2 + m2[0] + m12^2/4)\n",
    "E_2 = sqrt(P^2 + m2[1] + m12^2/4)\n",
    "a_new(P) = E_1 + E_2\n",
    "a_new(P)"
   ]
  },
  {
   "cell_type": "code",
   "execution_count": 25,
   "metadata": {},
   "outputs": [
    {
     "data": {
      "text/html": [
       "<html><script type=\"math/tex; mode=display\">\\newcommand{\\Bold}[1]{\\mathbf{#1}}2 \\, P + \\frac{{m_{12}}^{2} + 2 \\, {m_1^2} + 2 \\, {m_2^2}}{4 \\, P} - \\frac{{\\left({m_{12}}^{2} + 4 \\, {m_1^2}\\right)}^{2} + {\\left({m_{12}}^{2} + 4 \\, {m_2^2}\\right)}^{2}}{128 \\, P^{3}} + \\frac{{\\left({m_{12}}^{2} + 4 \\, {m_1^2}\\right)}^{3} + {\\left({m_{12}}^{2} + 4 \\, {m_2^2}\\right)}^{3}}{1024 \\, P^{5}} + \\mathcal{O}\\left(\\frac{1}{P^{6}}\\right)</script></html>"
      ],
      "text/plain": [
       "2*P + 1/4*(m12^2 + 2*m1 + 2*m2)/P - 1/128*((m12^2 + 4*m1)^2 + (m12^2 + 4*m2)^2)/P^3 + 1/1024*((m12^2 + 4*m1)^3 + (m12^2 + 4*m2)^3)/P^5 + Order(P^(-6))"
      ]
     },
     "execution_count": 25,
     "metadata": {},
     "output_type": "execute_result"
    }
   ],
   "source": [
    "a_new(1/x).series(x==0, 6).simplify().subs(x==1/P)"
   ]
  },
  {
   "cell_type": "code",
   "execution_count": 26,
   "metadata": {},
   "outputs": [],
   "source": [
    "f(P) = 1/2 * P^2 / (4 * pi) * (a(P) - a_new(P))"
   ]
  },
  {
   "cell_type": "code",
   "execution_count": 27,
   "metadata": {},
   "outputs": [
    {
     "data": {
      "text/html": [
       "<html><script type=\"math/tex; mode=display\">\\newcommand{\\Bold}[1]{\\mathbf{#1}}\\frac{{\\left(2 \\, P - \\sqrt{4 \\, P^{2} + {m_{12}}^{2} + 4 \\, {m_1^2}} - \\sqrt{4 \\, P^{2} + {m_{12}}^{2} + 4 \\, {m_2^2}}\\right)} P^{2}}{16 \\, \\pi}</script></html>"
      ],
      "text/plain": [
       "1/16*(2*P - sqrt(4*P^2 + m12^2 + 4*m1) - sqrt(4*P^2 + m12^2 + 4*m2))*P^2/pi"
      ]
     },
     "execution_count": 27,
     "metadata": {},
     "output_type": "execute_result"
    }
   ],
   "source": [
    "f(P).simplify()"
   ]
  },
  {
   "cell_type": "code",
   "execution_count": null,
   "metadata": {},
   "outputs": [],
   "source": []
  }
 ],
 "metadata": {
  "kernelspec": {
   "display_name": "SageMath 9.0",
   "language": "sage",
   "name": "sagemath"
  },
  "language_info": {
   "codemirror_mode": {
    "name": "ipython",
    "version": 3
   },
   "file_extension": ".py",
   "mimetype": "text/x-python",
   "name": "python",
   "nbconvert_exporter": "python",
   "pygments_lexer": "ipython3",
   "version": "3.8.10"
  }
 },
 "nbformat": 4,
 "nbformat_minor": 4
}
