{
 "cells": [
  {
   "cell_type": "code",
   "execution_count": 76,
   "metadata": {},
   "outputs": [],
   "source": [
    "%display latex"
   ]
  },
  {
   "cell_type": "code",
   "execution_count": 77,
   "metadata": {},
   "outputs": [],
   "source": [
    "var(\"a\", latex_name=r\"\\alpha\")\n",
    "var(\"m\")\n",
    "var(\"mu\", latex_name=r\"\\mu_I\")\n",
    "var(\"p\")\n",
    "ls = [var(\"l{}\".format(i), latex_name = \"l_{}\".format(i)) for i in range(1, 5)]"
   ]
  },
  {
   "cell_type": "code",
   "execution_count": 78,
   "metadata": {},
   "outputs": [],
   "source": [
    "m_1_sq = m^2 * cos(a) - mu^2 * cos(2*a)\n",
    "m_2_sq = m^2 * cos(a) - mu^2 * cos(a)^2\n",
    "m_3_sq = m^2 * cos(a) + mu^2 * sin(a)^2\n",
    "m_12 = 2 * mu * cos(a)"
   ]
  },
  {
   "cell_type": "code",
   "execution_count": 79,
   "metadata": {},
   "outputs": [
    {
     "data": {
      "text/html": [
       "<html><script type=\"math/tex; mode=display\">\\newcommand{\\Bold}[1]{\\mathbf{#1}}\\sqrt{\\frac{1}{2} \\, {\\left(\\cos\\left({\\alpha}\\right)^{2} + 1\\right)} {\\mu_I}^{2} + m^{2} \\cos\\left({\\alpha}\\right) + p^{2} + \\frac{1}{2} \\, \\sqrt{16 \\, m^{2} {\\mu_I}^{2} \\cos\\left({\\alpha}\\right)^{3} + 16 \\, {\\mu_I}^{2} p^{2} \\cos\\left({\\alpha}\\right)^{2} - {\\left(7 \\, \\cos\\left({\\alpha}\\right)^{4} - 6 \\, \\cos\\left({\\alpha}\\right)^{2} - 1\\right)} {\\mu_I}^{4}}}</script></html>"
      ],
      "text/plain": [
       "sqrt(1/2*(cos(a)^2 + 1)*mu^2 + m^2*cos(a) + p^2 + 1/2*sqrt(16*m^2*mu^2*cos(a)^3 + 16*mu^2*p^2*cos(a)^2 - (7*cos(a)^4 - 6*cos(a)^2 - 1)*mu^4))"
      ]
     },
     "execution_count": 79,
     "metadata": {},
     "output_type": "execute_result"
    }
   ],
   "source": [
    "M = m_1_sq + m_2_sq + m_12^2\n",
    "Ep = sqrt(p^2 + 1/2 * M + 1/2 * sqrt(4 * p^2 * m_12^2 + M^2 - 4 * m_1_sq * m_2_sq)).full_simplify()\n",
    "Em = sqrt(p^2 + 1/2 * M - 1/2 * sqrt(4 * p^2 * m_12^2 + M^2 - 4 * m_1_sq * m_2_sq)).full_simplify()\n",
    "Ep"
   ]
  },
  {
   "cell_type": "code",
   "execution_count": 80,
   "metadata": {},
   "outputs": [],
   "source": [
    "tild_m_1_sq = (m_1_sq + 1 / 4 * m_12^2).full_simplify()\n",
    "tild_m_2_sq = (m_2_sq + 1 / 4 * m_12^2).full_simplify()"
   ]
  },
  {
   "cell_type": "code",
   "execution_count": 81,
   "metadata": {},
   "outputs": [
    {
     "data": {
      "text/html": [
       "<html><script type=\"math/tex; mode=display\">\\newcommand{\\Bold}[1]{\\mathbf{#1}}\\sqrt{{\\mu_I}^{2} \\sin\\left({\\alpha}\\right)^{2} + m^{2} \\cos\\left({\\alpha}\\right) + p^{2}}</script></html>"
      ],
      "text/plain": [
       "sqrt(mu^2*sin(a)^2 + m^2*cos(a) + p^2)"
      ]
     },
     "execution_count": 81,
     "metadata": {},
     "output_type": "execute_result"
    }
   ],
   "source": [
    "E1 = sqrt(p^2 + tild_m_1_sq)\n",
    "E2 = sqrt(p^2 + tild_m_2_sq)\n",
    "E1"
   ]
  },
  {
   "cell_type": "code",
   "execution_count": 82,
   "metadata": {},
   "outputs": [
    {
     "data": {
      "text/html": [
       "<html><script type=\"math/tex; mode=display\">\\newcommand{\\Bold}[1]{\\mathbf{#1}}\\frac{\\sqrt{\\frac{1}{2} \\, {\\left(\\cos\\left({\\alpha}\\right)^{2} + 1\\right)} {\\mu_I}^{2} + p^{2} - \\frac{1}{2} \\, \\sqrt{16 \\, {\\mu_I}^{2} p^{2} \\cos\\left({\\alpha}\\right)^{2} - {\\left(7 \\, \\cos\\left({\\alpha}\\right)^{4} - 6 \\, \\cos\\left({\\alpha}\\right)^{2} - 1\\right)} {\\mu_I}^{4} + 16 \\, {\\mu_I}^{2} \\cos\\left({\\alpha}\\right)^{3}} + \\cos\\left({\\alpha}\\right)} {\\left(\\sqrt{16 \\, {\\mu_I}^{2} p^{2} \\cos\\left({\\alpha}\\right)^{2} - {\\left(7 \\, \\cos\\left({\\alpha}\\right)^{4} - 6 \\, \\cos\\left({\\alpha}\\right)^{2} - 1\\right)} {\\mu_I}^{4} + 16 \\, {\\mu_I}^{2} \\cos\\left({\\alpha}\\right)^{3}} {\\left({\\left(7 \\, \\cos\\left({\\alpha}\\right)^{3} - 3 \\, \\cos\\left({\\alpha}\\right)\\right)} {\\mu_I}^{2} \\sin\\left({\\alpha}\\right) - 8 \\, p^{2} \\cos\\left({\\alpha}\\right) \\sin\\left({\\alpha}\\right) - 12 \\, \\cos\\left({\\alpha}\\right)^{2} \\sin\\left({\\alpha}\\right)\\right)} \\sqrt{{\\mu_I}^{2} \\sin\\left({\\alpha}\\right)^{2} + p^{2} + \\cos\\left({\\alpha}\\right)} \\sqrt{p^{2} + \\cos\\left({\\alpha}\\right)} + {\\left({\\left(7 \\, \\cos\\left({\\alpha}\\right)^{5} - 6 \\, \\cos\\left({\\alpha}\\right)^{3} - \\cos\\left({\\alpha}\\right)\\right)} {\\mu_I}^{4} \\sin\\left({\\alpha}\\right) - {\\left(9 \\, \\cos\\left({\\alpha}\\right)^{4} + 6 \\, \\cos\\left({\\alpha}\\right)^{2} + 1\\right)} {\\mu_I}^{2} \\sin\\left({\\alpha}\\right) - 16 \\, \\cos\\left({\\alpha}\\right)^{3} \\sin\\left({\\alpha}\\right) - 16 \\, {\\left({\\mu_I}^{2} \\cos\\left({\\alpha}\\right)^{3} \\sin\\left({\\alpha}\\right) + \\cos\\left({\\alpha}\\right)^{2} \\sin\\left({\\alpha}\\right)\\right)} p^{2}\\right)} \\sqrt{{\\mu_I}^{2} \\sin\\left({\\alpha}\\right)^{2} + p^{2} + \\cos\\left({\\alpha}\\right)} \\sqrt{p^{2} + \\cos\\left({\\alpha}\\right)}\\right)} - \\sqrt{\\frac{1}{2} \\, {\\left(\\cos\\left({\\alpha}\\right)^{2} + 1\\right)} {\\mu_I}^{2} + p^{2} + \\frac{1}{2} \\, \\sqrt{16 \\, {\\mu_I}^{2} p^{2} \\cos\\left({\\alpha}\\right)^{2} - {\\left(7 \\, \\cos\\left({\\alpha}\\right)^{4} - 6 \\, \\cos\\left({\\alpha}\\right)^{2} - 1\\right)} {\\mu_I}^{4} + 16 \\, {\\mu_I}^{2} \\cos\\left({\\alpha}\\right)^{3}} + \\cos\\left({\\alpha}\\right)} {\\left(\\sqrt{16 \\, {\\mu_I}^{2} p^{2} \\cos\\left({\\alpha}\\right)^{2} - {\\left(7 \\, \\cos\\left({\\alpha}\\right)^{4} - 6 \\, \\cos\\left({\\alpha}\\right)^{2} - 1\\right)} {\\mu_I}^{4} + 16 \\, {\\mu_I}^{2} \\cos\\left({\\alpha}\\right)^{3}} {\\left({\\left(7 \\, \\cos\\left({\\alpha}\\right)^{3} - 3 \\, \\cos\\left({\\alpha}\\right)\\right)} {\\mu_I}^{2} \\sin\\left({\\alpha}\\right) - 8 \\, p^{2} \\cos\\left({\\alpha}\\right) \\sin\\left({\\alpha}\\right) - 12 \\, \\cos\\left({\\alpha}\\right)^{2} \\sin\\left({\\alpha}\\right)\\right)} \\sqrt{{\\mu_I}^{2} \\sin\\left({\\alpha}\\right)^{2} + p^{2} + \\cos\\left({\\alpha}\\right)} \\sqrt{p^{2} + \\cos\\left({\\alpha}\\right)} - {\\left({\\left(7 \\, \\cos\\left({\\alpha}\\right)^{5} - 6 \\, \\cos\\left({\\alpha}\\right)^{3} - \\cos\\left({\\alpha}\\right)\\right)} {\\mu_I}^{4} \\sin\\left({\\alpha}\\right) - {\\left(9 \\, \\cos\\left({\\alpha}\\right)^{4} + 6 \\, \\cos\\left({\\alpha}\\right)^{2} + 1\\right)} {\\mu_I}^{2} \\sin\\left({\\alpha}\\right) - 16 \\, \\cos\\left({\\alpha}\\right)^{3} \\sin\\left({\\alpha}\\right) - 16 \\, {\\left({\\mu_I}^{2} \\cos\\left({\\alpha}\\right)^{3} \\sin\\left({\\alpha}\\right) + \\cos\\left({\\alpha}\\right)^{2} \\sin\\left({\\alpha}\\right)\\right)} p^{2}\\right)} \\sqrt{{\\mu_I}^{2} \\sin\\left({\\alpha}\\right)^{2} + p^{2} + \\cos\\left({\\alpha}\\right)} \\sqrt{p^{2} + \\cos\\left({\\alpha}\\right)} - \\sqrt{\\frac{1}{2} \\, {\\left(\\cos\\left({\\alpha}\\right)^{2} + 1\\right)} {\\mu_I}^{2} + p^{2} - \\frac{1}{2} \\, \\sqrt{16 \\, {\\mu_I}^{2} p^{2} \\cos\\left({\\alpha}\\right)^{2} - {\\left(7 \\, \\cos\\left({\\alpha}\\right)^{4} - 6 \\, \\cos\\left({\\alpha}\\right)^{2} - 1\\right)} {\\mu_I}^{4} + 16 \\, {\\mu_I}^{2} \\cos\\left({\\alpha}\\right)^{3}} + \\cos\\left({\\alpha}\\right)} {\\left({\\left(16 \\, p^{2} \\cos\\left({\\alpha}\\right)^{2} \\sin\\left({\\alpha}\\right) - {\\left(7 \\, \\cos\\left({\\alpha}\\right)^{4} - 6 \\, \\cos\\left({\\alpha}\\right)^{2} - 1\\right)} {\\mu_I}^{2} \\sin\\left({\\alpha}\\right) + 16 \\, \\cos\\left({\\alpha}\\right)^{3} \\sin\\left({\\alpha}\\right)\\right)} \\sqrt{{\\mu_I}^{2} \\sin\\left({\\alpha}\\right)^{2} + p^{2} + \\cos\\left({\\alpha}\\right)} + {\\left(2 \\, {\\left(7 \\, \\cos\\left({\\alpha}\\right)^{5} - 6 \\, \\cos\\left({\\alpha}\\right)^{3} - \\cos\\left({\\alpha}\\right)\\right)} {\\mu_I}^{4} \\sin\\left({\\alpha}\\right) - {\\left(39 \\, \\cos\\left({\\alpha}\\right)^{4} - 6 \\, \\cos\\left({\\alpha}\\right)^{2} - 1\\right)} {\\mu_I}^{2} \\sin\\left({\\alpha}\\right) + 16 \\, \\cos\\left({\\alpha}\\right)^{3} \\sin\\left({\\alpha}\\right) - 16 \\, {\\left(2 \\, {\\mu_I}^{2} \\cos\\left({\\alpha}\\right)^{3} \\sin\\left({\\alpha}\\right) - \\cos\\left({\\alpha}\\right)^{2} \\sin\\left({\\alpha}\\right)\\right)} p^{2}\\right)} \\sqrt{p^{2} + \\cos\\left({\\alpha}\\right)}\\right)}\\right)}}{2 \\, {\\left(16 \\, p^{2} \\cos\\left({\\alpha}\\right)^{2} - {\\left(7 \\, \\cos\\left({\\alpha}\\right)^{4} - 6 \\, \\cos\\left({\\alpha}\\right)^{2} - 1\\right)} {\\mu_I}^{2} + 16 \\, \\cos\\left({\\alpha}\\right)^{3}\\right)} \\sqrt{{\\mu_I}^{2} \\sin\\left({\\alpha}\\right)^{2} + p^{2} + \\cos\\left({\\alpha}\\right)} \\sqrt{\\frac{1}{2} \\, {\\left(\\cos\\left({\\alpha}\\right)^{2} + 1\\right)} {\\mu_I}^{2} + p^{2} + \\frac{1}{2} \\, \\sqrt{16 \\, {\\mu_I}^{2} p^{2} \\cos\\left({\\alpha}\\right)^{2} - {\\left(7 \\, \\cos\\left({\\alpha}\\right)^{4} - 6 \\, \\cos\\left({\\alpha}\\right)^{2} - 1\\right)} {\\mu_I}^{4} + 16 \\, {\\mu_I}^{2} \\cos\\left({\\alpha}\\right)^{3}} + \\cos\\left({\\alpha}\\right)} \\sqrt{\\frac{1}{2} \\, {\\left(\\cos\\left({\\alpha}\\right)^{2} + 1\\right)} {\\mu_I}^{2} + p^{2} - \\frac{1}{2} \\, \\sqrt{16 \\, {\\mu_I}^{2} p^{2} \\cos\\left({\\alpha}\\right)^{2} - {\\left(7 \\, \\cos\\left({\\alpha}\\right)^{4} - 6 \\, \\cos\\left({\\alpha}\\right)^{2} - 1\\right)} {\\mu_I}^{4} + 16 \\, {\\mu_I}^{2} \\cos\\left({\\alpha}\\right)^{3}} + \\cos\\left({\\alpha}\\right)} \\sqrt{p^{2} + \\cos\\left({\\alpha}\\right)}}</script></html>"
      ],
      "text/plain": [
       "1/2*(sqrt(1/2*(cos(a)^2 + 1)*mu^2 + p^2 - 1/2*sqrt(16*mu^2*p^2*cos(a)^2 - (7*cos(a)^4 - 6*cos(a)^2 - 1)*mu^4 + 16*mu^2*cos(a)^3) + cos(a))*(sqrt(16*mu^2*p^2*cos(a)^2 - (7*cos(a)^4 - 6*cos(a)^2 - 1)*mu^4 + 16*mu^2*cos(a)^3)*((7*cos(a)^3 - 3*cos(a))*mu^2*sin(a) - 8*p^2*cos(a)*sin(a) - 12*cos(a)^2*sin(a))*sqrt(mu^2*sin(a)^2 + p^2 + cos(a))*sqrt(p^2 + cos(a)) + ((7*cos(a)^5 - 6*cos(a)^3 - cos(a))*mu^4*sin(a) - (9*cos(a)^4 + 6*cos(a)^2 + 1)*mu^2*sin(a) - 16*cos(a)^3*sin(a) - 16*(mu^2*cos(a)^3*sin(a) + cos(a)^2*sin(a))*p^2)*sqrt(mu^2*sin(a)^2 + p^2 + cos(a))*sqrt(p^2 + cos(a))) - sqrt(1/2*(cos(a)^2 + 1)*mu^2 + p^2 + 1/2*sqrt(16*mu^2*p^2*cos(a)^2 - (7*cos(a)^4 - 6*cos(a)^2 - 1)*mu^4 + 16*mu^2*cos(a)^3) + cos(a))*(sqrt(16*mu^2*p^2*cos(a)^2 - (7*cos(a)^4 - 6*cos(a)^2 - 1)*mu^4 + 16*mu^2*cos(a)^3)*((7*cos(a)^3 - 3*cos(a))*mu^2*sin(a) - 8*p^2*cos(a)*sin(a) - 12*cos(a)^2*sin(a))*sqrt(mu^2*sin(a)^2 + p^2 + cos(a))*sqrt(p^2 + cos(a)) - ((7*cos(a)^5 - 6*cos(a)^3 - cos(a))*mu^4*sin(a) - (9*cos(a)^4 + 6*cos(a)^2 + 1)*mu^2*sin(a) - 16*cos(a)^3*sin(a) - 16*(mu^2*cos(a)^3*sin(a) + cos(a)^2*sin(a))*p^2)*sqrt(mu^2*sin(a)^2 + p^2 + cos(a))*sqrt(p^2 + cos(a)) - sqrt(1/2*(cos(a)^2 + 1)*mu^2 + p^2 - 1/2*sqrt(16*mu^2*p^2*cos(a)^2 - (7*cos(a)^4 - 6*cos(a)^2 - 1)*mu^4 + 16*mu^2*cos(a)^3) + cos(a))*((16*p^2*cos(a)^2*sin(a) - (7*cos(a)^4 - 6*cos(a)^2 - 1)*mu^2*sin(a) + 16*cos(a)^3*sin(a))*sqrt(mu^2*sin(a)^2 + p^2 + cos(a)) + (2*(7*cos(a)^5 - 6*cos(a)^3 - cos(a))*mu^4*sin(a) - (39*cos(a)^4 - 6*cos(a)^2 - 1)*mu^2*sin(a) + 16*cos(a)^3*sin(a) - 16*(2*mu^2*cos(a)^3*sin(a) - cos(a)^2*sin(a))*p^2)*sqrt(p^2 + cos(a)))))/((16*p^2*cos(a)^2 - (7*cos(a)^4 - 6*cos(a)^2 - 1)*mu^2 + 16*cos(a)^3)*sqrt(mu^2*sin(a)^2 + p^2 + cos(a))*sqrt(1/2*(cos(a)^2 + 1)*mu^2 + p^2 + 1/2*sqrt(16*mu^2*p^2*cos(a)^2 - (7*cos(a)^4 - 6*cos(a)^2 - 1)*mu^4 + 16*mu^2*cos(a)^3) + cos(a))*sqrt(1/2*(cos(a)^2 + 1)*mu^2 + p^2 - 1/2*sqrt(16*mu^2*p^2*cos(a)^2 - (7*cos(a)^4 - 6*cos(a)^2 - 1)*mu^4 + 16*mu^2*cos(a)^3) + cos(a))*sqrt(p^2 + cos(a)))"
      ]
     },
     "execution_count": 82,
     "metadata": {},
     "output_type": "execute_result"
    }
   ],
   "source": [
    "var(\"k\")\n",
    "f = Ep + Em - E1 - E2\n",
    "f_diff(p, a, mu) = diff(f, a).full_simplify().subs(m=1)\n",
    "f_diff(p, a, mu)"
   ]
  },
  {
   "cell_type": "code",
   "execution_count": 83,
   "metadata": {},
   "outputs": [],
   "source": [
    "def F(a, m):\n",
    "    return numerical_integral(f_diff, 0, oo, params=[a, m])[0]"
   ]
  },
  {
   "cell_type": "code",
   "execution_count": 84,
   "metadata": {},
   "outputs": [
    {
     "data": {
      "text/html": [
       "<html><script type=\"math/tex; mode=display\">\\newcommand{\\Bold}[1]{\\mathbf{#1}}3.400764977323036 \\times 10^{-16}</script></html>"
      ],
      "text/plain": [
       "3.400764977323036e-16"
      ]
     },
     "execution_count": 84,
     "metadata": {},
     "output_type": "execute_result"
    }
   ],
   "source": [
    "F(pi/2, 2)"
   ]
  },
  {
   "cell_type": "code",
   "execution_count": 85,
   "metadata": {},
   "outputs": [],
   "source": [
    "x = [(pi/2*x/100).n() for x in range(0, 100)]\n",
    "y = [(2*x/100).n() for x in range(0, 100)]"
   ]
  },
  {
   "cell_type": "code",
   "execution_count": 86,
   "metadata": {},
   "outputs": [
    {
     "data": {
      "text/html": [
       "<html><script type=\"math/tex; mode=display\">\\newcommand{\\Bold}[1]{\\mathbf{#1}}0.0</script></html>"
      ],
      "text/plain": [
       "0.0"
      ]
     },
     "execution_count": 86,
     "metadata": {},
     "output_type": "execute_result"
    }
   ],
   "source": [
    "F(0, 0)"
   ]
  },
  {
   "cell_type": "code",
   "execution_count": null,
   "metadata": {},
   "outputs": [],
   "source": [
    "g(x, y) = x^2 - y^2\n",
    "plot3d(g(x, y), (x, -1, 1), (y, -1, 1))"
   ]
  },
  {
   "cell_type": "code",
   "execution_count": null,
   "metadata": {},
   "outputs": [],
   "source": []
  }
 ],
 "metadata": {
  "kernelspec": {
   "display_name": "SageMath 9.0",
   "language": "sage",
   "name": "sagemath"
  },
  "language_info": {
   "codemirror_mode": {
    "name": "ipython",
    "version": 3
   },
   "file_extension": ".py",
   "mimetype": "text/x-python",
   "name": "python",
   "nbconvert_exporter": "python",
   "pygments_lexer": "ipython3",
   "version": "3.8.10"
  }
 },
 "nbformat": 4,
 "nbformat_minor": 4
}
