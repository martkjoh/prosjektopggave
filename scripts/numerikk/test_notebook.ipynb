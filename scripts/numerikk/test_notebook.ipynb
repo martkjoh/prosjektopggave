{
 "cells": [
  {
   "cell_type": "code",
   "execution_count": 1,
   "metadata": {},
   "outputs": [],
   "source": [
    "import sympy as sp\n",
    "import numpy as np\n",
    "from scipy.optimize import root_scalar, fsolve\n",
    "\n",
    "from parameters import *\n",
    "from functions import *\n"
   ]
  },
  {
   "cell_type": "code",
   "execution_count": 2,
   "metadata": {},
   "outputs": [
    {
     "data": {
      "text/plain": [
       "array([ 0,  0,  0,  0,  0,  0,  0,  0,  0,  0,  0,  0,  0,  0,  0,  0,  0,\n",
       "        0,  0,  0,  0,  0,  0,  0,  0,  0,  0,  0,  0,  0,  0,  0,  0,  0,\n",
       "        0,  0,  0,  0,  0,  0,  0, 10, 14, 17, 19, 21, 23, 24, 26, 27, 28,\n",
       "       29, 30, 31, 32, 32, 33, 34, 34, 35, 35, 36, 36, 37, 37, 38, 38, 38,\n",
       "       39, 39, 39, 40, 40, 40, 41, 41, 41, 41, 42, 42, 42, 42, 42, 43, 43,\n",
       "       43, 43, 43, 43, 44, 44, 44, 44, 44, 44, 44, 44, 45, 45, 45, 45])"
      ]
     },
     "execution_count": 2,
     "metadata": {},
     "output_type": "execute_result"
    }
   ],
   "source": [
    "a0 = alpha_0(mu_list)\n",
    "np.argmin(np.abs(A[:, :] - a0[None, :]), axis=0)"
   ]
  },
  {
   "cell_type": "code",
   "execution_count": 5,
   "metadata": {},
   "outputs": [
    {
     "data": {
      "text/plain": [
       "[<matplotlib.lines.Line2D at 0x7f6153edba90>]"
      ]
     },
     "execution_count": 5,
     "metadata": {},
     "output_type": "execute_result"
    },
    {
     "data": {
      "image/png": "[encoded data removed]",
      "text/plain": [
       "<Figure size 432x288 with 1 Axes>"
      ]
     },
     "metadata": {
      "needs_background": "light"
     },
     "output_type": "display_data"
    }
   ],
   "source": [
    "import matplotlib.pyplot as plt\n",
    "a1 = get_alpha_nlo()\n",
    "a0 = get_alpha_lo()\n",
    "plt.plot(mu_list, a1-a0)"
   ]
  },
  {
   "cell_type": "code",
   "execution_count": 3,
   "metadata": {},
   "outputs": [
    {
     "data": {
      "text/plain": [
       "array([0., 1., 2., 3., 4.])"
      ]
     },
     "execution_count": 3,
     "metadata": {},
     "output_type": "execute_result"
    }
   ],
   "source": [
    "A = np.linspace(0, 8, 9).reshape((3, 3))\n",
    "i = A<5\n",
    "A[A<5]"
   ]
  },
  {
   "cell_type": "code",
   "execution_count": 6,
   "metadata": {},
   "outputs": [
    {
     "data": {
      "text/plain": [
       "(-1.3257277800826157, -1.5115824785895469)"
      ]
     },
     "execution_count": 6,
     "metadata": {},
     "output_type": "execute_result"
    }
   ],
   "source": [
    "alpha_0 = lambda mu: 0 if mu**2<1 else np.arccos(1/mu**2)\n",
    "\n",
    "m = 2.5\n",
    "x0 = alpha_0(m) - 0.01\n",
    "\n",
    "F_0_2(m, x0), F(m, x0)"
   ]
  },
  {
   "cell_type": "code",
   "execution_count": 11,
   "metadata": {},
   "outputs": [
    {
     "data": {
      "text/plain": [
       "4.165925925925926"
      ]
     },
     "execution_count": 11,
     "metadata": {},
     "output_type": "execute_result"
    },
    {
     "data": {
      "image/png": "[encoded data removed]",
      "text/plain": [
       "<Figure size 432x288 with 1 Axes>"
      ]
     },
     "metadata": {
      "needs_background": "light"
     },
     "output_type": "display_data"
    }
   ],
   "source": [
    "import matplotlib.pyplot as plt\n",
    "# xs = [50, 100, 200, 300, 400]\n",
    "# [quad(dF_fin, 0, x, args=(m, x0))[0] for x in xs]\n",
    "\n",
    "\n",
    "m = 1.8\n",
    "x0 = alpha_0(m)\n",
    "\n",
    "Ep2 = lambdify((p, mu, a), Ep_sq)\n",
    "Em2 = lambdify((p, mu, a), Em_sq)\n",
    "\n",
    "f1 = lambdify((p, mu, a), sp.sqrt(Em_sq) + sp.sqrt(Ep_sq))\n",
    "\n",
    "f2 = lambdify((p, mu, a), sp.sqrt(E1_sq) + sp.sqrt(E2_sq))\n",
    "\n",
    "x = np.linspace(0, 5, 1000)\n",
    "y = dF_fin(x, m, x0)\n",
    "plt.plot(x, f1(x, m, x0))\n",
    "plt.plot(x, f2(x, m, x0))\n",
    "plt.plot(x, f1(x, m, x0) - f2(x, m, x0))\n",
    "# plt.plot(x[1::], np.diff(y))\n",
    "# f1(x[-1], m, x0) #  (f1(x[-1], m, x0) - f2(x[-1], m, x0))\n",
    "\n",
    "core = lambdify((p, mu, a), (4 * p**2 * m12**2 + M_sq**2 - 4*m1_sq*m2_sq))\n",
    "\n",
    "core(0, m, x0)\n",
    "Ep2(0, m, x0)"
   ]
  },
  {
   "cell_type": "code",
   "execution_count": 10,
   "metadata": {},
   "outputs": [
    {
     "data": {
      "text/plain": [
       "array([0.        , 0.6216205 , 0.81666288, 0.94718982, 1.03971474,\n",
       "       1.111224  , 1.16778975, 1.21341289, 1.2509536 , 1.28223155,\n",
       "       1.30858334])"
      ]
     },
     "execution_count": 10,
     "metadata": {},
     "output_type": "execute_result"
    }
   ],
   "source": [
    "a0_list = get_alpha_lo()\n",
    "a1_list = get_alpha_nlo()\n",
    "\n",
    "a1_list"
   ]
  },
  {
   "cell_type": "code",
   "execution_count": 9,
   "metadata": {},
   "outputs": [
    {
     "data": {
      "text/plain": [
       "array([0.        , 0.62117803, 0.81695615, 0.9463004 , 1.03971426,\n",
       "       1.11123212, 1.16772325, 1.21336327, 1.25089642, 1.28216134,\n",
       "       1.30850223])"
      ]
     },
     "execution_count": 9,
     "metadata": {},
     "output_type": "execute_result"
    }
   ],
   "source": [
    "a1_list"
   ]
  },
  {
   "cell_type": "code",
   "execution_count": 8,
   "metadata": {},
   "outputs": [
    {
     "data": {
      "text/plain": [
       "array([0.        , 0.        , 0.        , 0.        , 0.        ,\n",
       "       0.        , 0.        , 0.        , 0.50012574, 0.80030222,\n",
       "       0.96775759, 1.07881609, 1.15878362, 1.21893876, 1.26556739,\n",
       "       1.30251899, 1.33231097, 1.35666418, 1.37679487, 1.39358548])"
      ]
     },
     "execution_count": 8,
     "metadata": {},
     "output_type": "execute_result"
    }
   ],
   "source": [
    "a1_list2"
   ]
  },
  {
   "cell_type": "code",
   "execution_count": 34,
   "metadata": {},
   "outputs": [
    {
     "data": {
      "text/plain": [
       "numpy.ndarray"
      ]
     },
     "execution_count": 34,
     "metadata": {},
     "output_type": "execute_result"
    }
   ],
   "source": [
    "type(a1_list2)\n",
    "type(a1_list1)\n"
   ]
  },
  {
   "cell_type": "code",
   "execution_count": 20,
   "metadata": {},
   "outputs": [
    {
     "data": {
      "text/plain": [
       "array([-0.43932977, -0.43932977, -0.43932977, -0.43932977, -0.43932977,\n",
       "       -0.43932977, -0.43932977, -0.43932977, -0.44336352, -0.47067139,\n",
       "       -0.5180459 , -0.58161753, -0.65910673, -0.74908489, -0.85059873,\n",
       "       -0.96296507, -1.08565215, -1.21820775, -1.36021367, -1.51125572])"
      ]
     },
     "execution_count": 20,
     "metadata": {},
     "output_type": "execute_result"
    }
   ],
   "source": [
    "F(mu_list, a0_list)"
   ]
  },
  {
   "cell_type": "code",
   "execution_count": 31,
   "metadata": {},
   "outputs": [
    {
     "data": {
      "text/plain": [
       "array([ True,  True,  True,  True,  True,  True,  True,  True,  True,\n",
       "        True,  True,  True])"
      ]
     },
     "execution_count": 31,
     "metadata": {},
     "output_type": "execute_result"
    }
   ],
   "source": [
    "i = np.where(mu_list>1)\n",
    "F(mu_list[i], a1_list1[i]) < F(mu_list[i], a0_list[i])"
   ]
  },
  {
   "cell_type": "code",
   "execution_count": 33,
   "metadata": {},
   "outputs": [
    {
     "data": {
      "text/plain": [
       "array([ True,  True,  True, False,  True,  True,  True,  True,  True,\n",
       "        True,  True,  True])"
      ]
     },
     "execution_count": 33,
     "metadata": {},
     "output_type": "execute_result"
    }
   ],
   "source": [
    "F(mu_list[i], a1_list1[i]) < F(mu_list[i], a1_list2[i])"
   ]
  },
  {
   "cell_type": "code",
   "execution_count": 35,
   "metadata": {},
   "outputs": [
    {
     "data": {
      "text/plain": [
       "array([-0.44344124, -0.47071425, -0.51806251, -0.58162001, -0.65910759,\n",
       "       -0.74909673, -0.85063456, -0.96303867, -1.08577847, -1.21840307,\n",
       "       -1.36049591, -1.51164474])"
      ]
     },
     "execution_count": 35,
     "metadata": {},
     "output_type": "execute_result"
    }
   ],
   "source": [
    "F(mu_list[i], a1_list2[i])"
   ]
  },
  {
   "cell_type": "code",
   "execution_count": 37,
   "metadata": {},
   "outputs": [
    {
     "data": {
      "text/plain": [
       "array([-1.17585243e-06, -3.48680006e-07, -6.17605966e-11,  3.20747873e-11,\n",
       "       -6.66453559e-11, -4.92586194e-09, -1.51318047e-09, -1.21356463e-08,\n",
       "       -3.47262774e-09, -4.68451300e-09, -5.31792632e-09, -7.00524994e-09])"
      ]
     },
     "execution_count": 37,
     "metadata": {},
     "output_type": "execute_result"
    }
   ],
   "source": [
    "F(mu_list[i], a1_list1[i]) - F(mu_list[i], a1_list2[i])"
   ]
  },
  {
   "cell_type": "code",
   "execution_count": 40,
   "metadata": {},
   "outputs": [
    {
     "data": {
      "text/plain": [
       "array([-3.27989426e-13, -7.54722890e-14,  1.22632373e-13,  4.00926688e-13,\n",
       "        1.70529672e-07,  2.08427558e-09,  3.15151614e-09, -2.11081968e-09,\n",
       "        5.37589607e-09,  5.84720931e-09,  2.48644133e-10, -9.96721400e-10])"
      ]
     },
     "execution_count": 40,
     "metadata": {},
     "output_type": "execute_result"
    }
   ],
   "source": [
    "F_diff_a(mu_list[i], a1_list2[i])"
   ]
  },
  {
   "cell_type": "code",
   "execution_count": 41,
   "metadata": {},
   "outputs": [
    {
     "data": {
      "text/plain": [
       "array([ 5.39643853e-04,  4.88184814e-04,  2.32824841e-06, -4.50041484e-07,\n",
       "       -1.31609441e-06,  2.74317700e-05,  3.16373519e-05,  9.06687545e-05,\n",
       "        1.10758552e-04,  1.54842983e-04,  1.87208182e-04,  2.12347150e-04])"
      ]
     },
     "execution_count": 41,
     "metadata": {},
     "output_type": "execute_result"
    }
   ],
   "source": [
    "F_diff_a(mu_list[i], a1_list1[i])"
   ]
  },
  {
   "cell_type": "code",
   "execution_count": 44,
   "metadata": {},
   "outputs": [
    {
     "data": {
      "text/plain": [
       "<function __main__.<lambda>.<locals>.<lambda>(args)>"
      ]
     },
     "execution_count": 44,
     "metadata": {},
     "output_type": "execute_result"
    }
   ],
   "source": [
    "f = lambda x, *args : lambda args: x + np.sum([y for y in args])\n",
    "f(1, 2, 3)"
   ]
  },
  {
   "cell_type": "code",
   "execution_count": 6,
   "metadata": {},
   "outputs": [
    {
     "name": "stdout",
     "output_type": "stream",
     "text": [
      "CPU times: user 44.3 ms, sys: 0 ns, total: 44.3 ms\n",
      "Wall time: 44.1 ms\n"
     ]
    },
    {
     "data": {
      "text/plain": [
       "-0.34702899858220326"
      ]
     },
     "execution_count": 6,
     "metadata": {},
     "output_type": "execute_result"
    }
   ],
   "source": [
    "%time F(1.2, 1.5)"
   ]
  },
  {
   "cell_type": "code",
   "execution_count": null,
   "metadata": {},
   "outputs": [],
   "source": []
  }
 ],
 "metadata": {
  "interpreter": {
   "hash": "916dbcbb3f70747c44a77c7bcd40155683ae19c65e1c03b4aa3499c5328201f1"
  },
  "kernelspec": {
   "display_name": "Python 3.8.10 64-bit",
   "name": "python3"
  },
  "language_info": {
   "codemirror_mode": {
    "name": "ipython",
    "version": 3
   },
   "file_extension": ".py",
   "mimetype": "text/x-python",
   "name": "python",
   "nbconvert_exporter": "python",
   "pygments_lexer": "ipython3",
   "version": "3.8.10"
  },
  "orig_nbformat": 4
 },
 "nbformat": 4,
 "nbformat_minor": 2
}
