{
 "cells": [
  {
   "cell_type": "code",
   "execution_count": 2,
   "metadata": {},
   "outputs": [],
   "source": [
    "%display latex"
   ]
  },
  {
   "cell_type": "code",
   "execution_count": 3,
   "metadata": {},
   "outputs": [
    {
     "data": {
      "text/html": [
       "<html><script type=\"math/tex; mode=display\">\\newcommand{\\Bold}[1]{\\mathbf{#1}}\\left[\\left(\\begin{array}{rr}\n",
       "0 & 1 \\\\\n",
       "1 & 0\n",
       "\\end{array}\\right), \\left(\\begin{array}{rr}\n",
       "0 & -i \\\\\n",
       "i & 0\n",
       "\\end{array}\\right), \\left(\\begin{array}{rr}\n",
       "1 & 0 \\\\\n",
       "0 & -1\n",
       "\\end{array}\\right)\\right]</script></html>"
      ],
      "text/plain": [
       "[\n",
       "[0 1]  [ 0 -I]  [ 1  0]\n",
       "[1 0], [ I  0], [ 0 -1]\n",
       "]"
      ]
     },
     "execution_count": 3,
     "metadata": {},
     "output_type": "execute_result"
    }
   ],
   "source": [
    "import numpy as np\n",
    "s1 = matrix(\n",
    "    [\n",
    "        [0, 1],\n",
    "        [1, 0]\n",
    "    ]\n",
    ")\n",
    "s2 = matrix(\n",
    "    [\n",
    "        [0, -i],\n",
    "        [i, 0]\n",
    "    ]\n",
    ")\n",
    "s3 = matrix(\n",
    "    [\n",
    "        [1, 0],\n",
    "        [0, -1]\n",
    "    ]\n",
    ")\n",
    "\n",
    "one = matrix.identity(s1.dimensions()[0])\n",
    "\n",
    "s = [s1, s2, s3]\n",
    "s"
   ]
  },
  {
   "cell_type": "code",
   "execution_count": 4,
   "metadata": {},
   "outputs": [
    {
     "data": {
      "text/html": [
       "<html><script type=\"math/tex; mode=display\">\\newcommand{\\Bold}[1]{\\mathbf{#1}}\\left(\\begin{array}{rr}\n",
       "2 i & 0 \\\\\n",
       "0 & -2 i\n",
       "\\end{array}\\right)</script></html>"
      ],
      "text/plain": [
       "[ 2*I    0]\n",
       "[   0 -2*I]"
      ]
     },
     "execution_count": 4,
     "metadata": {},
     "output_type": "execute_result"
    }
   ],
   "source": [
    "s1*s2 - s2*s1"
   ]
  },
  {
   "cell_type": "code",
   "execution_count": 5,
   "metadata": {},
   "outputs": [
    {
     "data": {
      "text/html": [
       "<html><script type=\"math/tex; mode=display\">\\newcommand{\\Bold}[1]{\\mathbf{#1}}\\left(\\pi_1\\left(x\\right),\\,\\pi_2\\left(x\\right),\\,\\pi_3\\left(x\\right)\\right)</script></html>"
      ],
      "text/plain": [
       "(pi1(x), pi2(x), pi3(x))"
      ]
     },
     "execution_count": 5,
     "metadata": {},
     "output_type": "execute_result"
    }
   ],
   "source": [
    "# Hack\n",
    "def Id(self, x): return self(x)\n",
    "\n",
    "p = vector([\n",
    "    function(\"pi\"+str(i), latex_name=\"\\\\pi_\"+str(i), conjugate_func=Id)(x) for i  in range(1, 4)\n",
    "])\n",
    "p"
   ]
  },
  {
   "cell_type": "code",
   "execution_count": 6,
   "metadata": {},
   "outputs": [],
   "source": [
    "var(\"e\", latex_name=\"\\\\varepsilon\", domain=\"real\")\n",
    "var(\"d\", latex_name=\"\\\\delta\", domain=\"real\")\n",
    "var(\"mu\", latex_name=\"\\\\mu_I\", domain=\"real\")\n",
    "var(\"a\", latex_name=\"\\\\alpha\", domain=\"real\")\n",
    "\n",
    "pi_s = e * sum([s[i]*p[i] for i in range(len(s))])\n",
    "v = 1/2*d*mu*s3\n",
    "\n",
    "n = 5 # expand up to, not incluing, n"
   ]
  },
  {
   "cell_type": "code",
   "execution_count": 7,
   "metadata": {},
   "outputs": [],
   "source": [
    "def mat_series(mat, x, n):\n",
    "    d = mat.dimensions()\n",
    "    for i in range(0, d[0]):\n",
    "        for j in range(0, d[1]):\n",
    "            mat[i, j] = mat[i, j].series(x, n).truncate()\n",
    "\n",
    "def mat_simp(mat):\n",
    "    d = mat.dimensions()\n",
    "    for i in range(0, d[0]):\n",
    "        for j in range(0, d[1]):\n",
    "            mat[i, j] = mat[i, j].full_simplify()\n",
    "            mat[i, j] = mat[i, j].trig_reduce()\n",
    "\n",
    "def mat_prep(mat, n=n):\n",
    "    mat_series(mat, e, n)\n",
    "    mat_simp(mat)\n",
    "    return mat\n",
    "\n",
    "def print_e(elem):\n",
    "    coeff = elem.coefficients(e)\n",
    "    for i in range(len(coeff)):\n",
    "        print(e^coeff[i][1], \":\")\n",
    "        c = coeff[i][0].coefficients(mu)\n",
    "        for k in c:\n",
    "            s = k[0].full_simplify()*mu**k[1]\n",
    "            pretty_print(s.factor())\n",
    "\n",
    "def print_e2(elem):\n",
    "    coeff = elem.coefficients(e)\n",
    "    for i in range(len(coeff)):\n",
    "        print(e^coeff[i][1], \":\")\n",
    "        c = coeff[i][0].coefficients(mu)\n",
    "        for k in c:\n",
    "            s = k[0].full_simplify()*mu**k[1]\n",
    "            pretty_print(s.factor().full_simplify())"
   ]
  },
  {
   "cell_type": "code",
   "execution_count": 8,
   "metadata": {},
   "outputs": [],
   "source": [
    "acom = lambda A1, A2 : A1 * A2 + A2 * A1\n",
    "com = lambda A1, A2 : A1 * A2 - A2 * A1\n",
    "\n",
    "def proj(A):\n",
    "    A1 = A.trace()/2\n",
    "    A = A - one * A1\n",
    "    v = [A1, acom(A, s1)[0, 0]/2, acom(A, s2)[0, 0]/2, acom(A, s3)[0, 0]/2]\n",
    "    v = [a.full_simplify().trig_reduce() for a in v]\n",
    "    return v "
   ]
  },
  {
   "cell_type": "code",
   "execution_count": 9,
   "metadata": {},
   "outputs": [],
   "source": [
    "POW = lambda A, n : matrix.identity(A.dimensions()[0]) if (n == 0) else A * POW(A, n-1)\n",
    "EXP = lambda A, n : sum([POW(A, i)/factorial(i) for i in range(n+1)])"
   ]
  },
  {
   "cell_type": "code",
   "execution_count": 10,
   "metadata": {},
   "outputs": [
    {
     "data": {
      "text/html": [
       "<html><script type=\"math/tex; mode=display\">\\newcommand{\\Bold}[1]{\\mathbf{#1}}\\left(\\begin{array}{rr}\n",
       "-1.00000000000000 & -3.46629141516451 \\times 10^{-16} \\\\\n",
       "3.46629141516451 \\times 10^{-16} & -1.00000000000000\n",
       "\\end{array}\\right)</script></html>"
      ],
      "text/plain": [
       "[    -1.00000000000000 -3.46629141516451e-16]\n",
       "[ 3.46629141516451e-16     -1.00000000000000]"
      ]
     },
     "execution_count": 10,
     "metadata": {},
     "output_type": "execute_result"
    }
   ],
   "source": [
    "m = Matrix([[0, 1], [-1, 0]])\n",
    "POW(m, 3)\n",
    "\n",
    "N(EXP(-pi*m, 100)) # Matrix rep. of i. Should be -one"
   ]
  },
  {
   "cell_type": "code",
   "execution_count": 11,
   "metadata": {},
   "outputs": [],
   "source": [
    "A_a = one*cos(a/2) + I * s1 * sin(a/2)\n",
    "U = lambda n: EXP(I * pi_s/2, n)\n",
    "SIGMA = lambda n: mat_prep(A_a * U(n) * U(n) * A_a)\n",
    "S = mat_prep(SIGMA(n), n=n)"
   ]
  },
  {
   "cell_type": "markdown",
   "metadata": {},
   "source": [
    "$\\Sigma$, to order $(\\pi/f)^4$."
   ]
  },
  {
   "cell_type": "code",
   "execution_count": 12,
   "metadata": {},
   "outputs": [
    {
     "name": "stdout",
     "output_type": "stream",
     "text": [
      "tau_0:\n"
     ]
    },
    {
     "data": {
      "text/html": [
       "<html><script type=\"math/tex; mode=display\">\\newcommand{\\Bold}[1]{\\mathbf{#1}}\\cos\\left({\\alpha}\\right)</script></html>"
      ],
      "text/plain": [
       "cos(a)"
      ]
     },
     "metadata": {},
     "output_type": "display_data"
    },
    {
     "data": {
      "text/html": [
       "<html><script type=\"math/tex; mode=display\">\\newcommand{\\Bold}[1]{\\mathbf{#1}}-\\pi_1\\left(x\\right) \\sin\\left({\\alpha}\\right)</script></html>"
      ],
      "text/plain": [
       "-pi1(x)*sin(a)"
      ]
     },
     "metadata": {},
     "output_type": "display_data"
    },
    {
     "data": {
      "text/html": [
       "<html><script type=\"math/tex; mode=display\">\\newcommand{\\Bold}[1]{\\mathbf{#1}}-\\frac{1}{2} \\, {\\left(\\pi_1\\left(x\\right)^{2} + \\pi_2\\left(x\\right)^{2} + \\pi_3\\left(x\\right)^{2}\\right)} \\cos\\left({\\alpha}\\right)</script></html>"
      ],
      "text/plain": [
       "-1/2*(pi1(x)^2 + pi2(x)^2 + pi3(x)^2)*cos(a)"
      ]
     },
     "metadata": {},
     "output_type": "display_data"
    },
    {
     "data": {
      "text/html": [
       "<html><script type=\"math/tex; mode=display\">\\newcommand{\\Bold}[1]{\\mathbf{#1}}\\frac{1}{6} \\, {\\left(\\pi_1\\left(x\\right)^{2} + \\pi_2\\left(x\\right)^{2} + \\pi_3\\left(x\\right)^{2}\\right)} \\pi_1\\left(x\\right) \\sin\\left({\\alpha}\\right)</script></html>"
      ],
      "text/plain": [
       "1/6*(pi1(x)^2 + pi2(x)^2 + pi3(x)^2)*pi1(x)*sin(a)"
      ]
     },
     "metadata": {},
     "output_type": "display_data"
    },
    {
     "data": {
      "text/html": [
       "<html><script type=\"math/tex; mode=display\">\\newcommand{\\Bold}[1]{\\mathbf{#1}}\\frac{1}{24} \\, {\\left(\\pi_1\\left(x\\right)^{2} + \\pi_2\\left(x\\right)^{2} + \\pi_3\\left(x\\right)^{2}\\right)}^{2} \\cos\\left({\\alpha}\\right)</script></html>"
      ],
      "text/plain": [
       "1/24*(pi1(x)^2 + pi2(x)^2 + pi3(x)^2)^2*cos(a)"
      ]
     },
     "metadata": {},
     "output_type": "display_data"
    },
    {
     "name": "stdout",
     "output_type": "stream",
     "text": [
      "tau_1:\n"
     ]
    },
    {
     "data": {
      "text/html": [
       "<html><script type=\"math/tex; mode=display\">\\newcommand{\\Bold}[1]{\\mathbf{#1}}i \\, \\sin\\left({\\alpha}\\right)</script></html>"
      ],
      "text/plain": [
       "I*sin(a)"
      ]
     },
     "metadata": {},
     "output_type": "display_data"
    },
    {
     "data": {
      "text/html": [
       "<html><script type=\"math/tex; mode=display\">\\newcommand{\\Bold}[1]{\\mathbf{#1}}i \\, \\cos\\left({\\alpha}\\right) \\pi_1\\left(x\\right)</script></html>"
      ],
      "text/plain": [
       "I*cos(a)*pi1(x)"
      ]
     },
     "metadata": {},
     "output_type": "display_data"
    },
    {
     "data": {
      "text/html": [
       "<html><script type=\"math/tex; mode=display\">\\newcommand{\\Bold}[1]{\\mathbf{#1}}-\\frac{1}{2} i \\, {\\left(\\pi_1\\left(x\\right)^{2} + \\pi_2\\left(x\\right)^{2} + \\pi_3\\left(x\\right)^{2}\\right)} \\sin\\left({\\alpha}\\right)</script></html>"
      ],
      "text/plain": [
       "-1/2*I*(pi1(x)^2 + pi2(x)^2 + pi3(x)^2)*sin(a)"
      ]
     },
     "metadata": {},
     "output_type": "display_data"
    },
    {
     "data": {
      "text/html": [
       "<html><script type=\"math/tex; mode=display\">\\newcommand{\\Bold}[1]{\\mathbf{#1}}-\\frac{1}{6} i \\, {\\left(\\pi_1\\left(x\\right)^{2} + \\pi_2\\left(x\\right)^{2} + \\pi_3\\left(x\\right)^{2}\\right)} \\cos\\left({\\alpha}\\right) \\pi_1\\left(x\\right)</script></html>"
      ],
      "text/plain": [
       "-1/6*I*(pi1(x)^2 + pi2(x)^2 + pi3(x)^2)*cos(a)*pi1(x)"
      ]
     },
     "metadata": {},
     "output_type": "display_data"
    },
    {
     "data": {
      "text/html": [
       "<html><script type=\"math/tex; mode=display\">\\newcommand{\\Bold}[1]{\\mathbf{#1}}\\frac{1}{24} i \\, {\\left(\\pi_1\\left(x\\right)^{2} + \\pi_2\\left(x\\right)^{2} + \\pi_3\\left(x\\right)^{2}\\right)}^{2} \\sin\\left({\\alpha}\\right)</script></html>"
      ],
      "text/plain": [
       "1/24*I*(pi1(x)^2 + pi2(x)^2 + pi3(x)^2)^2*sin(a)"
      ]
     },
     "metadata": {},
     "output_type": "display_data"
    },
    {
     "name": "stdout",
     "output_type": "stream",
     "text": [
      "tau_2:\n"
     ]
    },
    {
     "data": {
      "text/html": [
       "<html><script type=\"math/tex; mode=display\">\\newcommand{\\Bold}[1]{\\mathbf{#1}}i \\, \\pi_2\\left(x\\right)</script></html>"
      ],
      "text/plain": [
       "I*pi2(x)"
      ]
     },
     "metadata": {},
     "output_type": "display_data"
    },
    {
     "data": {
      "text/html": [
       "<html><script type=\"math/tex; mode=display\">\\newcommand{\\Bold}[1]{\\mathbf{#1}}-\\frac{1}{6} i \\, {\\left(\\pi_1\\left(x\\right)^{2} + \\pi_2\\left(x\\right)^{2} + \\pi_3\\left(x\\right)^{2}\\right)} \\pi_2\\left(x\\right)</script></html>"
      ],
      "text/plain": [
       "-1/6*I*(pi1(x)^2 + pi2(x)^2 + pi3(x)^2)*pi2(x)"
      ]
     },
     "metadata": {},
     "output_type": "display_data"
    },
    {
     "name": "stdout",
     "output_type": "stream",
     "text": [
      "tau_3:\n"
     ]
    },
    {
     "data": {
      "text/html": [
       "<html><script type=\"math/tex; mode=display\">\\newcommand{\\Bold}[1]{\\mathbf{#1}}i \\, \\pi_3\\left(x\\right)</script></html>"
      ],
      "text/plain": [
       "I*pi3(x)"
      ]
     },
     "metadata": {},
     "output_type": "display_data"
    },
    {
     "data": {
      "text/html": [
       "<html><script type=\"math/tex; mode=display\">\\newcommand{\\Bold}[1]{\\mathbf{#1}}-\\frac{1}{6} i \\, {\\left(\\pi_1\\left(x\\right)^{2} + \\pi_2\\left(x\\right)^{2} + \\pi_3\\left(x\\right)^{2}\\right)} \\pi_3\\left(x\\right)</script></html>"
      ],
      "text/plain": [
       "-1/6*I*(pi1(x)^2 + pi2(x)^2 + pi3(x)^2)*pi3(x)"
      ]
     },
     "metadata": {},
     "output_type": "display_data"
    }
   ],
   "source": [
    "k = proj(S)\n",
    "for i, ki in enumerate(k):\n",
    "    print(\"tau_{}:\".format(i))\n",
    "    c = ki.coefficients(e)\n",
    "    for ci in c:\n",
    "        pretty_print(ci[0].full_simplify().factor())"
   ]
  },
  {
   "cell_type": "code",
   "execution_count": 13,
   "metadata": {},
   "outputs": [],
   "source": [
    "dS = diff(S, x) # nabla_mu Sigma\n",
    "dSct = diff(S.C.T, x)\n",
    "COM = v*S - S*v # [v_mu, Sigma]"
   ]
  },
  {
   "cell_type": "markdown",
   "metadata": {},
   "source": [
    "using $[v_\\mu, \\Sigma]^\\dagger = - [v_\\mu, \\Sigma^\\dagger] $"
   ]
  },
  {
   "cell_type": "code",
   "execution_count": 14,
   "metadata": {},
   "outputs": [],
   "source": [
    "term1 = mat_prep(dS*(dSct))\n",
    "term2 = -I*mat_prep(dS*(-COM.C.T) + COM*dSct)\n",
    "term3 = mat_prep(COM*COM.C.T)\n",
    "term4 = mat_prep(S + S.C.T)\n",
    "terms_full = [term1, term2, term3, term4]"
   ]
  },
  {
   "cell_type": "code",
   "execution_count": 15,
   "metadata": {},
   "outputs": [
    {
     "name": "stdout",
     "output_type": "stream",
     "text": [
      "term 1:\n",
      "e^2 :\n"
     ]
    },
    {
     "data": {
      "text/html": [
       "<html><script type=\"math/tex; mode=display\">\\newcommand{\\Bold}[1]{\\mathbf{#1}}2 \\, \\frac{\\partial}{\\partial x}\\pi_1\\left(x\\right)^{2} + 2 \\, \\frac{\\partial}{\\partial x}\\pi_2\\left(x\\right)^{2} + 2 \\, \\frac{\\partial}{\\partial x}\\pi_3\\left(x\\right)^{2}</script></html>"
      ],
      "text/plain": [
       "2*diff(pi1(x), x)^2 + 2*diff(pi2(x), x)^2 + 2*diff(pi3(x), x)^2"
      ]
     },
     "metadata": {},
     "output_type": "display_data"
    },
    {
     "name": "stdout",
     "output_type": "stream",
     "text": [
      "e^4 :\n"
     ]
    },
    {
     "data": {
      "text/html": [
       "<html><script type=\"math/tex; mode=display\">\\newcommand{\\Bold}[1]{\\mathbf{#1}}-\\frac{2}{3} \\, \\pi_2\\left(x\\right)^{2} \\frac{\\partial}{\\partial x}\\pi_1\\left(x\\right)^{2} - \\frac{2}{3} \\, \\pi_3\\left(x\\right)^{2} \\frac{\\partial}{\\partial x}\\pi_1\\left(x\\right)^{2} + \\frac{4}{3} \\, \\pi_1\\left(x\\right) \\pi_2\\left(x\\right) \\frac{\\partial}{\\partial x}\\pi_1\\left(x\\right) \\frac{\\partial}{\\partial x}\\pi_2\\left(x\\right) - \\frac{2}{3} \\, \\pi_1\\left(x\\right)^{2} \\frac{\\partial}{\\partial x}\\pi_2\\left(x\\right)^{2} - \\frac{2}{3} \\, \\pi_3\\left(x\\right)^{2} \\frac{\\partial}{\\partial x}\\pi_2\\left(x\\right)^{2} + \\frac{4}{3} \\, \\pi_1\\left(x\\right) \\pi_3\\left(x\\right) \\frac{\\partial}{\\partial x}\\pi_1\\left(x\\right) \\frac{\\partial}{\\partial x}\\pi_3\\left(x\\right) + \\frac{4}{3} \\, \\pi_2\\left(x\\right) \\pi_3\\left(x\\right) \\frac{\\partial}{\\partial x}\\pi_2\\left(x\\right) \\frac{\\partial}{\\partial x}\\pi_3\\left(x\\right) - \\frac{2}{3} \\, \\pi_1\\left(x\\right)^{2} \\frac{\\partial}{\\partial x}\\pi_3\\left(x\\right)^{2} - \\frac{2}{3} \\, \\pi_2\\left(x\\right)^{2} \\frac{\\partial}{\\partial x}\\pi_3\\left(x\\right)^{2}</script></html>"
      ],
      "text/plain": [
       "-2/3*pi2(x)^2*diff(pi1(x), x)^2 - 2/3*pi3(x)^2*diff(pi1(x), x)^2 + 4/3*pi1(x)*pi2(x)*diff(pi1(x), x)*diff(pi2(x), x) - 2/3*pi1(x)^2*diff(pi2(x), x)^2 - 2/3*pi3(x)^2*diff(pi2(x), x)^2 + 4/3*pi1(x)*pi3(x)*diff(pi1(x), x)*diff(pi3(x), x) + 4/3*pi2(x)*pi3(x)*diff(pi2(x), x)*diff(pi3(x), x) - 2/3*pi1(x)^2*diff(pi3(x), x)^2 - 2/3*pi2(x)^2*diff(pi3(x), x)^2"
      ]
     },
     "metadata": {},
     "output_type": "display_data"
    },
    {
     "name": "stdout",
     "output_type": "stream",
     "text": [
      "term 2:\n",
      "e :\n"
     ]
    },
    {
     "data": {
      "text/html": [
       "<html><script type=\"math/tex; mode=display\">\\newcommand{\\Bold}[1]{\\mathbf{#1}}4 \\, {\\delta} {\\mu_I} \\sin\\left({\\alpha}\\right) \\frac{\\partial}{\\partial x}\\pi_2\\left(x\\right)</script></html>"
      ],
      "text/plain": [
       "4*d*mu*sin(a)*diff(pi2(x), x)"
      ]
     },
     "metadata": {},
     "output_type": "display_data"
    },
    {
     "name": "stdout",
     "output_type": "stream",
     "text": [
      "e^2 :\n"
     ]
    },
    {
     "data": {
      "text/html": [
       "<html><script type=\"math/tex; mode=display\">\\newcommand{\\Bold}[1]{\\mathbf{#1}}-4 \\, {\\left(\\pi_2\\left(x\\right) \\frac{\\partial}{\\partial x}\\pi_1\\left(x\\right) - \\pi_1\\left(x\\right) \\frac{\\partial}{\\partial x}\\pi_2\\left(x\\right)\\right)} {\\delta} {\\mu_I} \\cos\\left({\\alpha}\\right)</script></html>"
      ],
      "text/plain": [
       "-4*(pi2(x)*diff(pi1(x), x) - pi1(x)*diff(pi2(x), x))*d*mu*cos(a)"
      ]
     },
     "metadata": {},
     "output_type": "display_data"
    },
    {
     "name": "stdout",
     "output_type": "stream",
     "text": [
      "e^3 :\n"
     ]
    },
    {
     "data": {
      "text/html": [
       "<html><script type=\"math/tex; mode=display\">\\newcommand{\\Bold}[1]{\\mathbf{#1}}\\frac{8}{3} \\, {\\left(\\pi_1\\left(x\\right) \\pi_2\\left(x\\right) \\frac{\\partial}{\\partial x}\\pi_1\\left(x\\right) - \\pi_1\\left(x\\right)^{2} \\frac{\\partial}{\\partial x}\\pi_2\\left(x\\right) - \\pi_3\\left(x\\right)^{2} \\frac{\\partial}{\\partial x}\\pi_2\\left(x\\right) + \\pi_2\\left(x\\right) \\pi_3\\left(x\\right) \\frac{\\partial}{\\partial x}\\pi_3\\left(x\\right)\\right)} {\\delta} {\\mu_I} \\sin\\left({\\alpha}\\right)</script></html>"
      ],
      "text/plain": [
       "8/3*(pi1(x)*pi2(x)*diff(pi1(x), x) - pi1(x)^2*diff(pi2(x), x) - pi3(x)^2*diff(pi2(x), x) + pi2(x)*pi3(x)*diff(pi3(x), x))*d*mu*sin(a)"
      ]
     },
     "metadata": {},
     "output_type": "display_data"
    },
    {
     "name": "stdout",
     "output_type": "stream",
     "text": [
      "e^4 :\n"
     ]
    },
    {
     "data": {
      "text/html": [
       "<html><script type=\"math/tex; mode=display\">\\newcommand{\\Bold}[1]{\\mathbf{#1}}\\frac{4}{3} \\, {\\left(\\pi_1\\left(x\\right)^{2} + \\pi_2\\left(x\\right)^{2} + \\pi_3\\left(x\\right)^{2}\\right)} {\\left(\\pi_2\\left(x\\right) \\frac{\\partial}{\\partial x}\\pi_1\\left(x\\right) - \\pi_1\\left(x\\right) \\frac{\\partial}{\\partial x}\\pi_2\\left(x\\right)\\right)} {\\delta} {\\mu_I} \\cos\\left({\\alpha}\\right)</script></html>"
      ],
      "text/plain": [
       "4/3*(pi1(x)^2 + pi2(x)^2 + pi3(x)^2)*(pi2(x)*diff(pi1(x), x) - pi1(x)*diff(pi2(x), x))*d*mu*cos(a)"
      ]
     },
     "metadata": {},
     "output_type": "display_data"
    },
    {
     "name": "stdout",
     "output_type": "stream",
     "text": [
      "term 3:\n",
      "1 :\n"
     ]
    },
    {
     "data": {
      "text/html": [
       "<html><script type=\"math/tex; mode=display\">\\newcommand{\\Bold}[1]{\\mathbf{#1}}2 \\, {\\delta}^{2} {\\mu_I}^{2} \\sin\\left({\\alpha}\\right)^{2}</script></html>"
      ],
      "text/plain": [
       "2*d^2*mu^2*sin(a)^2"
      ]
     },
     "metadata": {},
     "output_type": "display_data"
    },
    {
     "name": "stdout",
     "output_type": "stream",
     "text": [
      "e :\n"
     ]
    },
    {
     "data": {
      "text/html": [
       "<html><script type=\"math/tex; mode=display\">\\newcommand{\\Bold}[1]{\\mathbf{#1}}4 \\, {\\delta}^{2} {\\mu_I}^{2} \\cos\\left({\\alpha}\\right) \\pi_1\\left(x\\right) \\sin\\left({\\alpha}\\right)</script></html>"
      ],
      "text/plain": [
       "4*d^2*mu^2*cos(a)*pi1(x)*sin(a)"
      ]
     },
     "metadata": {},
     "output_type": "display_data"
    },
    {
     "name": "stdout",
     "output_type": "stream",
     "text": [
      "e^2 :\n"
     ]
    },
    {
     "data": {
      "text/html": [
       "<html><script type=\"math/tex; mode=display\">\\newcommand{\\Bold}[1]{\\mathbf{#1}}2 \\, {\\left(2 \\, \\cos\\left({\\alpha}\\right)^{2} \\pi_1\\left(x\\right)^{2} + \\cos\\left({\\alpha}\\right)^{2} \\pi_2\\left(x\\right)^{2} + \\cos\\left({\\alpha}\\right)^{2} \\pi_3\\left(x\\right)^{2} - \\pi_1\\left(x\\right)^{2} - \\pi_3\\left(x\\right)^{2}\\right)} {\\delta}^{2} {\\mu_I}^{2}</script></html>"
      ],
      "text/plain": [
       "2*(2*cos(a)^2*pi1(x)^2 + cos(a)^2*pi2(x)^2 + cos(a)^2*pi3(x)^2 - pi1(x)^2 - pi3(x)^2)*d^2*mu^2"
      ]
     },
     "metadata": {},
     "output_type": "display_data"
    },
    {
     "name": "stdout",
     "output_type": "stream",
     "text": [
      "e^3 :\n"
     ]
    },
    {
     "data": {
      "text/html": [
       "<html><script type=\"math/tex; mode=display\">\\newcommand{\\Bold}[1]{\\mathbf{#1}}-\\frac{8}{3} \\, {\\left(\\pi_1\\left(x\\right)^{2} + \\pi_2\\left(x\\right)^{2} + \\pi_3\\left(x\\right)^{2}\\right)} {\\delta}^{2} {\\mu_I}^{2} \\cos\\left({\\alpha}\\right) \\pi_1\\left(x\\right) \\sin\\left({\\alpha}\\right)</script></html>"
      ],
      "text/plain": [
       "-8/3*(pi1(x)^2 + pi2(x)^2 + pi3(x)^2)*d^2*mu^2*cos(a)*pi1(x)*sin(a)"
      ]
     },
     "metadata": {},
     "output_type": "display_data"
    },
    {
     "name": "stdout",
     "output_type": "stream",
     "text": [
      "e^4 :\n"
     ]
    },
    {
     "data": {
      "text/html": [
       "<html><script type=\"math/tex; mode=display\">\\newcommand{\\Bold}[1]{\\mathbf{#1}}\\frac{2}{3} \\, {\\left(2 \\, \\pi_1\\left(x\\right)^{2} \\sin\\left({\\alpha}\\right)^{2} + \\pi_2\\left(x\\right)^{2} \\sin\\left({\\alpha}\\right)^{2} + \\pi_3\\left(x\\right)^{2} \\sin\\left({\\alpha}\\right)^{2} - \\pi_1\\left(x\\right)^{2} - \\pi_2\\left(x\\right)^{2}\\right)} {\\left(\\pi_1\\left(x\\right)^{2} + \\pi_2\\left(x\\right)^{2} + \\pi_3\\left(x\\right)^{2}\\right)} {\\delta}^{2} {\\mu_I}^{2}</script></html>"
      ],
      "text/plain": [
       "2/3*(2*pi1(x)^2*sin(a)^2 + pi2(x)^2*sin(a)^2 + pi3(x)^2*sin(a)^2 - pi1(x)^2 - pi2(x)^2)*(pi1(x)^2 + pi2(x)^2 + pi3(x)^2)*d^2*mu^2"
      ]
     },
     "metadata": {},
     "output_type": "display_data"
    },
    {
     "name": "stdout",
     "output_type": "stream",
     "text": [
      "term 4:\n",
      "1 :\n"
     ]
    },
    {
     "data": {
      "text/html": [
       "<html><script type=\"math/tex; mode=display\">\\newcommand{\\Bold}[1]{\\mathbf{#1}}4 \\, \\cos\\left({\\alpha}\\right)</script></html>"
      ],
      "text/plain": [
       "4*cos(a)"
      ]
     },
     "metadata": {},
     "output_type": "display_data"
    },
    {
     "name": "stdout",
     "output_type": "stream",
     "text": [
      "e :\n"
     ]
    },
    {
     "data": {
      "text/html": [
       "<html><script type=\"math/tex; mode=display\">\\newcommand{\\Bold}[1]{\\mathbf{#1}}-4 \\, \\pi_1\\left(x\\right) \\sin\\left({\\alpha}\\right)</script></html>"
      ],
      "text/plain": [
       "-4*pi1(x)*sin(a)"
      ]
     },
     "metadata": {},
     "output_type": "display_data"
    },
    {
     "name": "stdout",
     "output_type": "stream",
     "text": [
      "e^2 :\n"
     ]
    },
    {
     "data": {
      "text/html": [
       "<html><script type=\"math/tex; mode=display\">\\newcommand{\\Bold}[1]{\\mathbf{#1}}-2 \\, {\\left(\\pi_1\\left(x\\right)^{2} + \\pi_2\\left(x\\right)^{2} + \\pi_3\\left(x\\right)^{2}\\right)} \\cos\\left({\\alpha}\\right)</script></html>"
      ],
      "text/plain": [
       "-2*(pi1(x)^2 + pi2(x)^2 + pi3(x)^2)*cos(a)"
      ]
     },
     "metadata": {},
     "output_type": "display_data"
    },
    {
     "name": "stdout",
     "output_type": "stream",
     "text": [
      "e^3 :\n"
     ]
    },
    {
     "data": {
      "text/html": [
       "<html><script type=\"math/tex; mode=display\">\\newcommand{\\Bold}[1]{\\mathbf{#1}}\\frac{2}{3} \\, {\\left(\\pi_1\\left(x\\right)^{2} + \\pi_2\\left(x\\right)^{2} + \\pi_3\\left(x\\right)^{2}\\right)} \\pi_1\\left(x\\right) \\sin\\left({\\alpha}\\right)</script></html>"
      ],
      "text/plain": [
       "2/3*(pi1(x)^2 + pi2(x)^2 + pi3(x)^2)*pi1(x)*sin(a)"
      ]
     },
     "metadata": {},
     "output_type": "display_data"
    },
    {
     "name": "stdout",
     "output_type": "stream",
     "text": [
      "e^4 :\n"
     ]
    },
    {
     "data": {
      "text/html": [
       "<html><script type=\"math/tex; mode=display\">\\newcommand{\\Bold}[1]{\\mathbf{#1}}\\frac{1}{6} \\, {\\left(\\pi_1\\left(x\\right)^{2} + \\pi_2\\left(x\\right)^{2} + \\pi_3\\left(x\\right)^{2}\\right)}^{2} \\cos\\left({\\alpha}\\right)</script></html>"
      ],
      "text/plain": [
       "1/6*(pi1(x)^2 + pi2(x)^2 + pi3(x)^2)^2*cos(a)"
      ]
     },
     "metadata": {},
     "output_type": "display_data"
    }
   ],
   "source": [
    "terms = [t.trace().full_simplify() for t in terms_full]\n",
    "\n",
    "for i, t in enumerate(terms):\n",
    "    print(\"term {}:\".format(i+1))\n",
    "    print_e(t)"
   ]
  },
  {
   "cell_type": "code",
   "execution_count": 16,
   "metadata": {},
   "outputs": [],
   "source": [
    "var(\"m\", domain=\"real\")\n",
    "var(\"f\", domain=\"real\")\n",
    "\n",
    "L_LO = 1/4*(term1+term2+term3+m^2*term4).trace().full_simplify().trig_reduce()\n",
    "L_coeff = L_LO.coefficients(e)\n",
    "L_coeff = [c[0].full_simplify().trig_reduce() for c in L_coeff]"
   ]
  },
  {
   "cell_type": "markdown",
   "metadata": {},
   "source": [
    "# Leading order Lagrangian\n",
    "$\\mathcal{L}_4$ to $\\mathcal{O}(\\varepsilon^4)$, sorted by powers of $\\varepsilon$ and $\\mu_I$."
   ]
  },
  {
   "cell_type": "code",
   "execution_count": 17,
   "metadata": {},
   "outputs": [
    {
     "name": "stdout",
     "output_type": "stream",
     "text": [
      "1 :\n"
     ]
    },
    {
     "data": {
      "text/html": [
       "<html><script type=\"math/tex; mode=display\">\\newcommand{\\Bold}[1]{\\mathbf{#1}}m^{2} \\cos\\left({\\alpha}\\right)</script></html>"
      ],
      "text/plain": [
       "m^2*cos(a)"
      ]
     },
     "metadata": {},
     "output_type": "display_data"
    },
    {
     "data": {
      "text/html": [
       "<html><script type=\"math/tex; mode=display\">\\newcommand{\\Bold}[1]{\\mathbf{#1}}\\frac{1}{2} \\, {\\delta}^{2} {\\mu_I}^{2} \\sin\\left({\\alpha}\\right)^{2}</script></html>"
      ],
      "text/plain": [
       "1/2*d^2*mu^2*sin(a)^2"
      ]
     },
     "metadata": {},
     "output_type": "display_data"
    },
    {
     "name": "stdout",
     "output_type": "stream",
     "text": [
      "e :\n"
     ]
    },
    {
     "data": {
      "text/html": [
       "<html><script type=\"math/tex; mode=display\">\\newcommand{\\Bold}[1]{\\mathbf{#1}}-m^{2} \\pi_1\\left(x\\right) \\sin\\left({\\alpha}\\right)</script></html>"
      ],
      "text/plain": [
       "-m^2*pi1(x)*sin(a)"
      ]
     },
     "metadata": {},
     "output_type": "display_data"
    },
    {
     "data": {
      "text/html": [
       "<html><script type=\"math/tex; mode=display\">\\newcommand{\\Bold}[1]{\\mathbf{#1}}{\\delta} {\\mu_I} \\sin\\left({\\alpha}\\right) \\frac{\\partial}{\\partial x}\\pi_2\\left(x\\right)</script></html>"
      ],
      "text/plain": [
       "d*mu*sin(a)*diff(pi2(x), x)"
      ]
     },
     "metadata": {},
     "output_type": "display_data"
    },
    {
     "data": {
      "text/html": [
       "<html><script type=\"math/tex; mode=display\">\\newcommand{\\Bold}[1]{\\mathbf{#1}}{\\delta}^{2} {\\mu_I}^{2} \\cos\\left({\\alpha}\\right) \\pi_1\\left(x\\right) \\sin\\left({\\alpha}\\right)</script></html>"
      ],
      "text/plain": [
       "d^2*mu^2*cos(a)*pi1(x)*sin(a)"
      ]
     },
     "metadata": {},
     "output_type": "display_data"
    },
    {
     "name": "stdout",
     "output_type": "stream",
     "text": [
      "e^2 :\n"
     ]
    },
    {
     "data": {
      "text/html": [
       "<html><script type=\"math/tex; mode=display\">\\newcommand{\\Bold}[1]{\\mathbf{#1}}-\\frac{1}{2} \\, m^{2} \\cos\\left({\\alpha}\\right) \\pi_1\\left(x\\right)^{2} - \\frac{1}{2} \\, m^{2} \\cos\\left({\\alpha}\\right) \\pi_2\\left(x\\right)^{2} - \\frac{1}{2} \\, m^{2} \\cos\\left({\\alpha}\\right) \\pi_3\\left(x\\right)^{2} + \\frac{1}{2} \\, \\frac{\\partial}{\\partial x}\\pi_1\\left(x\\right)^{2} + \\frac{1}{2} \\, \\frac{\\partial}{\\partial x}\\pi_2\\left(x\\right)^{2} + \\frac{1}{2} \\, \\frac{\\partial}{\\partial x}\\pi_3\\left(x\\right)^{2}</script></html>"
      ],
      "text/plain": [
       "-1/2*m^2*cos(a)*pi1(x)^2 - 1/2*m^2*cos(a)*pi2(x)^2 - 1/2*m^2*cos(a)*pi3(x)^2 + 1/2*diff(pi1(x), x)^2 + 1/2*diff(pi2(x), x)^2 + 1/2*diff(pi3(x), x)^2"
      ]
     },
     "metadata": {},
     "output_type": "display_data"
    },
    {
     "data": {
      "text/html": [
       "<html><script type=\"math/tex; mode=display\">\\newcommand{\\Bold}[1]{\\mathbf{#1}}-{\\left(\\pi_2\\left(x\\right) \\frac{\\partial}{\\partial x}\\pi_1\\left(x\\right) - \\pi_1\\left(x\\right) \\frac{\\partial}{\\partial x}\\pi_2\\left(x\\right)\\right)} {\\delta} {\\mu_I} \\cos\\left({\\alpha}\\right)</script></html>"
      ],
      "text/plain": [
       "-(pi2(x)*diff(pi1(x), x) - pi1(x)*diff(pi2(x), x))*d*mu*cos(a)"
      ]
     },
     "metadata": {},
     "output_type": "display_data"
    },
    {
     "data": {
      "text/html": [
       "<html><script type=\"math/tex; mode=display\">\\newcommand{\\Bold}[1]{\\mathbf{#1}}\\frac{1}{2} \\, {\\left(2 \\, \\cos\\left({\\alpha}\\right)^{2} \\pi_1\\left(x\\right)^{2} + \\cos\\left({\\alpha}\\right)^{2} \\pi_2\\left(x\\right)^{2} + \\cos\\left({\\alpha}\\right)^{2} \\pi_3\\left(x\\right)^{2} - \\pi_1\\left(x\\right)^{2} - \\pi_3\\left(x\\right)^{2}\\right)} {\\delta}^{2} {\\mu_I}^{2}</script></html>"
      ],
      "text/plain": [
       "1/2*(2*cos(a)^2*pi1(x)^2 + cos(a)^2*pi2(x)^2 + cos(a)^2*pi3(x)^2 - pi1(x)^2 - pi3(x)^2)*d^2*mu^2"
      ]
     },
     "metadata": {},
     "output_type": "display_data"
    },
    {
     "name": "stdout",
     "output_type": "stream",
     "text": [
      "e^3 :\n"
     ]
    },
    {
     "data": {
      "text/html": [
       "<html><script type=\"math/tex; mode=display\">\\newcommand{\\Bold}[1]{\\mathbf{#1}}\\frac{1}{6} \\, {\\left(\\pi_1\\left(x\\right)^{2} + \\pi_2\\left(x\\right)^{2} + \\pi_3\\left(x\\right)^{2}\\right)} m^{2} \\pi_1\\left(x\\right) \\sin\\left({\\alpha}\\right)</script></html>"
      ],
      "text/plain": [
       "1/6*(pi1(x)^2 + pi2(x)^2 + pi3(x)^2)*m^2*pi1(x)*sin(a)"
      ]
     },
     "metadata": {},
     "output_type": "display_data"
    },
    {
     "data": {
      "text/html": [
       "<html><script type=\"math/tex; mode=display\">\\newcommand{\\Bold}[1]{\\mathbf{#1}}\\frac{2}{3} \\, {\\left(\\pi_1\\left(x\\right) \\pi_2\\left(x\\right) \\frac{\\partial}{\\partial x}\\pi_1\\left(x\\right) - \\pi_1\\left(x\\right)^{2} \\frac{\\partial}{\\partial x}\\pi_2\\left(x\\right) - \\pi_3\\left(x\\right)^{2} \\frac{\\partial}{\\partial x}\\pi_2\\left(x\\right) + \\pi_2\\left(x\\right) \\pi_3\\left(x\\right) \\frac{\\partial}{\\partial x}\\pi_3\\left(x\\right)\\right)} {\\delta} {\\mu_I} \\sin\\left({\\alpha}\\right)</script></html>"
      ],
      "text/plain": [
       "2/3*(pi1(x)*pi2(x)*diff(pi1(x), x) - pi1(x)^2*diff(pi2(x), x) - pi3(x)^2*diff(pi2(x), x) + pi2(x)*pi3(x)*diff(pi3(x), x))*d*mu*sin(a)"
      ]
     },
     "metadata": {},
     "output_type": "display_data"
    },
    {
     "data": {
      "text/html": [
       "<html><script type=\"math/tex; mode=display\">\\newcommand{\\Bold}[1]{\\mathbf{#1}}-\\frac{2}{3} \\, {\\left(\\pi_1\\left(x\\right)^{2} + \\pi_2\\left(x\\right)^{2} + \\pi_3\\left(x\\right)^{2}\\right)} {\\delta}^{2} {\\mu_I}^{2} \\cos\\left({\\alpha}\\right) \\pi_1\\left(x\\right) \\sin\\left({\\alpha}\\right)</script></html>"
      ],
      "text/plain": [
       "-2/3*(pi1(x)^2 + pi2(x)^2 + pi3(x)^2)*d^2*mu^2*cos(a)*pi1(x)*sin(a)"
      ]
     },
     "metadata": {},
     "output_type": "display_data"
    },
    {
     "name": "stdout",
     "output_type": "stream",
     "text": [
      "e^4 :\n"
     ]
    },
    {
     "data": {
      "text/html": [
       "<html><script type=\"math/tex; mode=display\">\\newcommand{\\Bold}[1]{\\mathbf{#1}}\\frac{1}{24} \\, m^{2} \\cos\\left({\\alpha}\\right) \\pi_1\\left(x\\right)^{4} + \\frac{1}{12} \\, m^{2} \\cos\\left({\\alpha}\\right) \\pi_1\\left(x\\right)^{2} \\pi_2\\left(x\\right)^{2} + \\frac{1}{24} \\, m^{2} \\cos\\left({\\alpha}\\right) \\pi_2\\left(x\\right)^{4} + \\frac{1}{12} \\, m^{2} \\cos\\left({\\alpha}\\right) \\pi_1\\left(x\\right)^{2} \\pi_3\\left(x\\right)^{2} + \\frac{1}{12} \\, m^{2} \\cos\\left({\\alpha}\\right) \\pi_2\\left(x\\right)^{2} \\pi_3\\left(x\\right)^{2} + \\frac{1}{24} \\, m^{2} \\cos\\left({\\alpha}\\right) \\pi_3\\left(x\\right)^{4} - \\frac{1}{6} \\, \\pi_2\\left(x\\right)^{2} \\frac{\\partial}{\\partial x}\\pi_1\\left(x\\right)^{2} - \\frac{1}{6} \\, \\pi_3\\left(x\\right)^{2} \\frac{\\partial}{\\partial x}\\pi_1\\left(x\\right)^{2} + \\frac{1}{3} \\, \\pi_1\\left(x\\right) \\pi_2\\left(x\\right) \\frac{\\partial}{\\partial x}\\pi_1\\left(x\\right) \\frac{\\partial}{\\partial x}\\pi_2\\left(x\\right) - \\frac{1}{6} \\, \\pi_1\\left(x\\right)^{2} \\frac{\\partial}{\\partial x}\\pi_2\\left(x\\right)^{2} - \\frac{1}{6} \\, \\pi_3\\left(x\\right)^{2} \\frac{\\partial}{\\partial x}\\pi_2\\left(x\\right)^{2} + \\frac{1}{3} \\, \\pi_1\\left(x\\right) \\pi_3\\left(x\\right) \\frac{\\partial}{\\partial x}\\pi_1\\left(x\\right) \\frac{\\partial}{\\partial x}\\pi_3\\left(x\\right) + \\frac{1}{3} \\, \\pi_2\\left(x\\right) \\pi_3\\left(x\\right) \\frac{\\partial}{\\partial x}\\pi_2\\left(x\\right) \\frac{\\partial}{\\partial x}\\pi_3\\left(x\\right) - \\frac{1}{6} \\, \\pi_1\\left(x\\right)^{2} \\frac{\\partial}{\\partial x}\\pi_3\\left(x\\right)^{2} - \\frac{1}{6} \\, \\pi_2\\left(x\\right)^{2} \\frac{\\partial}{\\partial x}\\pi_3\\left(x\\right)^{2}</script></html>"
      ],
      "text/plain": [
       "1/24*m^2*cos(a)*pi1(x)^4 + 1/12*m^2*cos(a)*pi1(x)^2*pi2(x)^2 + 1/24*m^2*cos(a)*pi2(x)^4 + 1/12*m^2*cos(a)*pi1(x)^2*pi3(x)^2 + 1/12*m^2*cos(a)*pi2(x)^2*pi3(x)^2 + 1/24*m^2*cos(a)*pi3(x)^4 - 1/6*pi2(x)^2*diff(pi1(x), x)^2 - 1/6*pi3(x)^2*diff(pi1(x), x)^2 + 1/3*pi1(x)*pi2(x)*diff(pi1(x), x)*diff(pi2(x), x) - 1/6*pi1(x)^2*diff(pi2(x), x)^2 - 1/6*pi3(x)^2*diff(pi2(x), x)^2 + 1/3*pi1(x)*pi3(x)*diff(pi1(x), x)*diff(pi3(x), x) + 1/3*pi2(x)*pi3(x)*diff(pi2(x), x)*diff(pi3(x), x) - 1/6*pi1(x)^2*diff(pi3(x), x)^2 - 1/6*pi2(x)^2*diff(pi3(x), x)^2"
      ]
     },
     "metadata": {},
     "output_type": "display_data"
    },
    {
     "data": {
      "text/html": [
       "<html><script type=\"math/tex; mode=display\">\\newcommand{\\Bold}[1]{\\mathbf{#1}}\\frac{1}{3} \\, {\\left(\\pi_1\\left(x\\right)^{2} + \\pi_2\\left(x\\right)^{2} + \\pi_3\\left(x\\right)^{2}\\right)} {\\left(\\pi_2\\left(x\\right) \\frac{\\partial}{\\partial x}\\pi_1\\left(x\\right) - \\pi_1\\left(x\\right) \\frac{\\partial}{\\partial x}\\pi_2\\left(x\\right)\\right)} {\\delta} {\\mu_I} \\cos\\left({\\alpha}\\right)</script></html>"
      ],
      "text/plain": [
       "1/3*(pi1(x)^2 + pi2(x)^2 + pi3(x)^2)*(pi2(x)*diff(pi1(x), x) - pi1(x)*diff(pi2(x), x))*d*mu*cos(a)"
      ]
     },
     "metadata": {},
     "output_type": "display_data"
    },
    {
     "data": {
      "text/html": [
       "<html><script type=\"math/tex; mode=display\">\\newcommand{\\Bold}[1]{\\mathbf{#1}}\\frac{1}{6} \\, {\\left(2 \\, \\pi_1\\left(x\\right)^{2} \\sin\\left({\\alpha}\\right)^{2} + \\pi_2\\left(x\\right)^{2} \\sin\\left({\\alpha}\\right)^{2} + \\pi_3\\left(x\\right)^{2} \\sin\\left({\\alpha}\\right)^{2} - \\pi_1\\left(x\\right)^{2} - \\pi_2\\left(x\\right)^{2}\\right)} {\\left(\\pi_1\\left(x\\right)^{2} + \\pi_2\\left(x\\right)^{2} + \\pi_3\\left(x\\right)^{2}\\right)} {\\delta}^{2} {\\mu_I}^{2}</script></html>"
      ],
      "text/plain": [
       "1/6*(2*pi1(x)^2*sin(a)^2 + pi2(x)^2*sin(a)^2 + pi3(x)^2*sin(a)^2 - pi1(x)^2 - pi2(x)^2)*(pi1(x)^2 + pi2(x)^2 + pi3(x)^2)*d^2*mu^2"
      ]
     },
     "metadata": {},
     "output_type": "display_data"
    }
   ],
   "source": [
    "print_e(L_LO)"
   ]
  },
  {
   "cell_type": "code",
   "execution_count": 18,
   "metadata": {},
   "outputs": [
    {
     "data": {
      "text/html": [
       "<html><script type=\"math/tex; mode=display\">\\newcommand{\\Bold}[1]{\\mathbf{#1}}\\frac{1}{24} \\, m^{2} \\cos\\left({\\alpha}\\right) \\pi_1\\left(x\\right)^{4} + \\frac{1}{12} \\, m^{2} \\cos\\left({\\alpha}\\right) \\pi_1\\left(x\\right)^{2} \\pi_2\\left(x\\right)^{2} + \\frac{1}{24} \\, m^{2} \\cos\\left({\\alpha}\\right) \\pi_2\\left(x\\right)^{4} + \\frac{1}{12} \\, m^{2} \\cos\\left({\\alpha}\\right) \\pi_1\\left(x\\right)^{2} \\pi_3\\left(x\\right)^{2} + \\frac{1}{12} \\, m^{2} \\cos\\left({\\alpha}\\right) \\pi_2\\left(x\\right)^{2} \\pi_3\\left(x\\right)^{2} + \\frac{1}{24} \\, m^{2} \\cos\\left({\\alpha}\\right) \\pi_3\\left(x\\right)^{4} - \\frac{1}{6} \\, \\pi_2\\left(x\\right)^{2} \\frac{\\partial}{\\partial x}\\pi_1\\left(x\\right)^{2} - \\frac{1}{6} \\, \\pi_3\\left(x\\right)^{2} \\frac{\\partial}{\\partial x}\\pi_1\\left(x\\right)^{2} + \\frac{1}{3} \\, \\pi_1\\left(x\\right) \\pi_2\\left(x\\right) \\frac{\\partial}{\\partial x}\\pi_1\\left(x\\right) \\frac{\\partial}{\\partial x}\\pi_2\\left(x\\right) - \\frac{1}{6} \\, \\pi_1\\left(x\\right)^{2} \\frac{\\partial}{\\partial x}\\pi_2\\left(x\\right)^{2} - \\frac{1}{6} \\, \\pi_3\\left(x\\right)^{2} \\frac{\\partial}{\\partial x}\\pi_2\\left(x\\right)^{2} + \\frac{1}{3} \\, \\pi_1\\left(x\\right) \\pi_3\\left(x\\right) \\frac{\\partial}{\\partial x}\\pi_1\\left(x\\right) \\frac{\\partial}{\\partial x}\\pi_3\\left(x\\right) + \\frac{1}{3} \\, \\pi_2\\left(x\\right) \\pi_3\\left(x\\right) \\frac{\\partial}{\\partial x}\\pi_2\\left(x\\right) \\frac{\\partial}{\\partial x}\\pi_3\\left(x\\right) - \\frac{1}{6} \\, \\pi_1\\left(x\\right)^{2} \\frac{\\partial}{\\partial x}\\pi_3\\left(x\\right)^{2} - \\frac{1}{6} \\, \\pi_2\\left(x\\right)^{2} \\frac{\\partial}{\\partial x}\\pi_3\\left(x\\right)^{2}</script></html>"
      ],
      "text/plain": [
       "1/24*m^2*cos(a)*pi1(x)^4 + 1/12*m^2*cos(a)*pi1(x)^2*pi2(x)^2 + 1/24*m^2*cos(a)*pi2(x)^4 + 1/12*m^2*cos(a)*pi1(x)^2*pi3(x)^2 + 1/12*m^2*cos(a)*pi2(x)^2*pi3(x)^2 + 1/24*m^2*cos(a)*pi3(x)^4 - 1/6*pi2(x)^2*diff(pi1(x), x)^2 - 1/6*pi3(x)^2*diff(pi1(x), x)^2 + 1/3*pi1(x)*pi2(x)*diff(pi1(x), x)*diff(pi2(x), x) - 1/6*pi1(x)^2*diff(pi2(x), x)^2 - 1/6*pi3(x)^2*diff(pi2(x), x)^2 + 1/3*pi1(x)*pi3(x)*diff(pi1(x), x)*diff(pi3(x), x) + 1/3*pi2(x)*pi3(x)*diff(pi2(x), x)*diff(pi3(x), x) - 1/6*pi1(x)^2*diff(pi3(x), x)^2 - 1/6*pi2(x)^2*diff(pi3(x), x)^2"
      ]
     },
     "execution_count": 18,
     "metadata": {},
     "output_type": "execute_result"
    }
   ],
   "source": [
    "L_coeff[4].coefficients(mu)[0][0].trig_reduce().factor()"
   ]
  },
  {
   "cell_type": "code",
   "execution_count": 19,
   "metadata": {},
   "outputs": [
    {
     "data": {
      "text/html": [
       "<html><script type=\"math/tex; mode=display\">\\newcommand{\\Bold}[1]{\\mathbf{#1}}\\frac{1}{24} \\, m^{2} \\cos\\left({\\alpha}\\right) \\pi_1\\left(x\\right)^{4} + \\frac{1}{12} \\, m^{2} \\cos\\left({\\alpha}\\right) \\pi_1\\left(x\\right)^{2} \\pi_2\\left(x\\right)^{2} + \\frac{1}{24} \\, m^{2} \\cos\\left({\\alpha}\\right) \\pi_2\\left(x\\right)^{4} + \\frac{1}{12} \\, m^{2} \\cos\\left({\\alpha}\\right) \\pi_1\\left(x\\right)^{2} \\pi_3\\left(x\\right)^{2} + \\frac{1}{12} \\, m^{2} \\cos\\left({\\alpha}\\right) \\pi_2\\left(x\\right)^{2} \\pi_3\\left(x\\right)^{2} + \\frac{1}{24} \\, m^{2} \\cos\\left({\\alpha}\\right) \\pi_3\\left(x\\right)^{4} - \\frac{1}{6} \\, \\pi_2\\left(x\\right)^{2} \\frac{\\partial}{\\partial x}\\pi_1\\left(x\\right)^{2} - \\frac{1}{6} \\, \\pi_3\\left(x\\right)^{2} \\frac{\\partial}{\\partial x}\\pi_1\\left(x\\right)^{2} + \\frac{1}{3} \\, \\pi_1\\left(x\\right) \\pi_2\\left(x\\right) \\frac{\\partial}{\\partial x}\\pi_1\\left(x\\right) \\frac{\\partial}{\\partial x}\\pi_2\\left(x\\right) - \\frac{1}{6} \\, \\pi_1\\left(x\\right)^{2} \\frac{\\partial}{\\partial x}\\pi_2\\left(x\\right)^{2} - \\frac{1}{6} \\, \\pi_3\\left(x\\right)^{2} \\frac{\\partial}{\\partial x}\\pi_2\\left(x\\right)^{2} + \\frac{1}{3} \\, \\pi_1\\left(x\\right) \\pi_3\\left(x\\right) \\frac{\\partial}{\\partial x}\\pi_1\\left(x\\right) \\frac{\\partial}{\\partial x}\\pi_3\\left(x\\right) + \\frac{1}{3} \\, \\pi_2\\left(x\\right) \\pi_3\\left(x\\right) \\frac{\\partial}{\\partial x}\\pi_2\\left(x\\right) \\frac{\\partial}{\\partial x}\\pi_3\\left(x\\right) - \\frac{1}{6} \\, \\pi_1\\left(x\\right)^{2} \\frac{\\partial}{\\partial x}\\pi_3\\left(x\\right)^{2} - \\frac{1}{6} \\, \\pi_2\\left(x\\right)^{2} \\frac{\\partial}{\\partial x}\\pi_3\\left(x\\right)^{2}</script></html>"
      ],
      "text/plain": [
       "1/24*m^2*cos(a)*pi1(x)^4 + 1/12*m^2*cos(a)*pi1(x)^2*pi2(x)^2 + 1/24*m^2*cos(a)*pi2(x)^4 + 1/12*m^2*cos(a)*pi1(x)^2*pi3(x)^2 + 1/12*m^2*cos(a)*pi2(x)^2*pi3(x)^2 + 1/24*m^2*cos(a)*pi3(x)^4 - 1/6*pi2(x)^2*diff(pi1(x), x)^2 - 1/6*pi3(x)^2*diff(pi1(x), x)^2 + 1/3*pi1(x)*pi2(x)*diff(pi1(x), x)*diff(pi2(x), x) - 1/6*pi1(x)^2*diff(pi2(x), x)^2 - 1/6*pi3(x)^2*diff(pi2(x), x)^2 + 1/3*pi1(x)*pi3(x)*diff(pi1(x), x)*diff(pi3(x), x) + 1/3*pi2(x)*pi3(x)*diff(pi2(x), x)*diff(pi3(x), x) - 1/6*pi1(x)^2*diff(pi3(x), x)^2 - 1/6*pi2(x)^2*diff(pi3(x), x)^2"
      ]
     },
     "execution_count": 19,
     "metadata": {},
     "output_type": "execute_result"
    }
   ],
   "source": [
    "(((p*p)**2*cos(a)/4*m**2 - ((p*p)*(diff(p, x)*diff(p, x) ) - (diff(p, x)*p)**2))/6).expand()"
   ]
  },
  {
   "cell_type": "markdown",
   "metadata": {},
   "source": [
    "### Next to leading order terms\n",
    "Expanded to $\\mathcal O (\\varepsilon^3)$"
   ]
  },
  {
   "cell_type": "code",
   "execution_count": 20,
   "metadata": {},
   "outputs": [
    {
     "data": {
      "text/html": [
       "<html><script type=\"math/tex; mode=display\">\\newcommand{\\Bold}[1]{\\mathbf{#1}}-\\frac{1}{2} \\, {\\varepsilon}^{2} \\cos\\left({\\alpha}\\right) \\pi_1\\left(x\\right)^{2} - \\frac{1}{2} \\, {\\varepsilon}^{2} \\cos\\left({\\alpha}\\right) \\pi_2\\left(x\\right)^{2} - \\frac{1}{2} \\, {\\varepsilon}^{2} \\cos\\left({\\alpha}\\right) \\pi_3\\left(x\\right)^{2} - {\\varepsilon} \\pi_1\\left(x\\right) \\sin\\left({\\alpha}\\right) + \\cos\\left({\\alpha}\\right)</script></html>"
      ],
      "text/plain": [
       "-1/2*e^2*cos(a)*pi1(x)^2 - 1/2*e^2*cos(a)*pi2(x)^2 - 1/2*e^2*cos(a)*pi3(x)^2 - e*pi1(x)*sin(a) + cos(a)"
      ]
     },
     "metadata": {},
     "output_type": "display_data"
    },
    {
     "data": {
      "text/html": [
       "<html><script type=\"math/tex; mode=display\">\\newcommand{\\Bold}[1]{\\mathbf{#1}}-\\frac{1}{2} i \\, {\\varepsilon}^{2} \\pi_1\\left(x\\right)^{2} \\sin\\left({\\alpha}\\right) - \\frac{1}{2} i \\, {\\varepsilon}^{2} \\pi_2\\left(x\\right)^{2} \\sin\\left({\\alpha}\\right) - \\frac{1}{2} i \\, {\\varepsilon}^{2} \\pi_3\\left(x\\right)^{2} \\sin\\left({\\alpha}\\right) + i \\, {\\varepsilon} \\cos\\left({\\alpha}\\right) \\pi_1\\left(x\\right) + i \\, \\sin\\left({\\alpha}\\right)</script></html>"
      ],
      "text/plain": [
       "-1/2*I*e^2*pi1(x)^2*sin(a) - 1/2*I*e^2*pi2(x)^2*sin(a) - 1/2*I*e^2*pi3(x)^2*sin(a) + I*e*cos(a)*pi1(x) + I*sin(a)"
      ]
     },
     "metadata": {},
     "output_type": "display_data"
    },
    {
     "data": {
      "text/html": [
       "<html><script type=\"math/tex; mode=display\">\\newcommand{\\Bold}[1]{\\mathbf{#1}}i \\, {\\varepsilon} \\pi_2\\left(x\\right)</script></html>"
      ],
      "text/plain": [
       "I*e*pi2(x)"
      ]
     },
     "metadata": {},
     "output_type": "display_data"
    },
    {
     "data": {
      "text/html": [
       "<html><script type=\"math/tex; mode=display\">\\newcommand{\\Bold}[1]{\\mathbf{#1}}i \\, {\\varepsilon} \\pi_3\\left(x\\right)</script></html>"
      ],
      "text/plain": [
       "I*e*pi3(x)"
      ]
     },
     "metadata": {},
     "output_type": "display_data"
    }
   ],
   "source": [
    "S = SIGMA(3)\n",
    "mat_prep(S, n=3)\n",
    "[pretty_print(t.factor()) for t in proj(S)];"
   ]
  },
  {
   "cell_type": "code",
   "execution_count": 21,
   "metadata": {},
   "outputs": [],
   "source": [
    "var(\"xmu\", latex_name=\"x_\\\\mu\")\n",
    "var(\"xnu\", latex_name=\"x_\\\\nu\")\n",
    "\n",
    "var(\"dm\", latex_name=\"\\\\Delta m\", domain=\"real\")\n",
    "var(\"mm\", latex_name=\"\\\\bar m\", domain=\"real\")\n",
    "var(\"B0\", latex_name=\"B_0\", domain=\"real\")\n",
    "\n",
    "chi = (mm^2 * one + dm^2 * s3)"
   ]
  },
  {
   "cell_type": "markdown",
   "metadata": {},
   "source": [
    "$\\chi \\Sigma^\\dagger -\\Sigma \\chi^\\dagger$"
   ]
  },
  {
   "cell_type": "code",
   "execution_count": 22,
   "metadata": {},
   "outputs": [
    {
     "data": {
      "text/html": [
       "<html><script type=\"math/tex; mode=display\">\\newcommand{\\Bold}[1]{\\mathbf{#1}}\\left[-2 i \\, {\\Delta m}^{2} {\\varepsilon} \\pi_3\\left(x\\right), i \\, {\\varepsilon}^{2} {\\bar m}^{2} \\pi_1\\left(x\\right)^{2} \\sin\\left({\\alpha}\\right) + i \\, {\\varepsilon}^{2} {\\bar m}^{2} \\pi_2\\left(x\\right)^{2} \\sin\\left({\\alpha}\\right) + i \\, {\\varepsilon}^{2} {\\bar m}^{2} \\pi_3\\left(x\\right)^{2} \\sin\\left({\\alpha}\\right) - 2 i \\, {\\varepsilon} {\\bar m}^{2} \\cos\\left({\\alpha}\\right) \\pi_1\\left(x\\right) - 2 i \\, {\\bar m}^{2} \\sin\\left({\\alpha}\\right), -2 i \\, {\\varepsilon} {\\bar m}^{2} \\pi_2\\left(x\\right), -2 i \\, {\\varepsilon} {\\bar m}^{2} \\pi_3\\left(x\\right)\\right]</script></html>"
      ],
      "text/plain": [
       "[-2*I*dm^2*e*pi3(x),\n",
       " I*e^2*mm^2*pi1(x)^2*sin(a) + I*e^2*mm^2*pi2(x)^2*sin(a) + I*e^2*mm^2*pi3(x)^2*sin(a) - 2*I*e*mm^2*cos(a)*pi1(x) - 2*I*mm^2*sin(a),\n",
       " -2*I*e*mm^2*pi2(x),\n",
       " -2*I*e*mm^2*pi3(x)]"
      ]
     },
     "execution_count": 22,
     "metadata": {},
     "output_type": "execute_result"
    }
   ],
   "source": [
    "chiSigmaMin = mat_prep(chi*S.C.T - S*chi.C.T, n=3)\n",
    "proj(chiSigmaMin)"
   ]
  },
  {
   "cell_type": "code",
   "execution_count": 23,
   "metadata": {},
   "outputs": [
    {
     "name": "stdout",
     "output_type": "stream",
     "text": [
      "e^2 :\n"
     ]
    },
    {
     "data": {
      "text/html": [
       "<html><script type=\"math/tex; mode=display\">\\newcommand{\\Bold}[1]{\\mathbf{#1}}-16 \\, {\\Delta m}^{4} \\pi_3\\left(x\\right)^{2}</script></html>"
      ],
      "text/plain": [
       "-16*dm^4*pi3(x)^2"
      ]
     },
     "metadata": {},
     "output_type": "display_data"
    }
   ],
   "source": [
    "res = (mat_prep(chiSigmaMin, n=3).trace()**2).series(e, 3).truncate()\n",
    "print_e(res)"
   ]
  },
  {
   "cell_type": "markdown",
   "metadata": {},
   "source": [
    "$\\chi \\Sigma^\\dagger + \\Sigma \\chi^\\dagger$"
   ]
  },
  {
   "cell_type": "code",
   "execution_count": 24,
   "metadata": {},
   "outputs": [
    {
     "data": {
      "text/html": [
       "<html><script type=\"math/tex; mode=display\">\\newcommand{\\Bold}[1]{\\mathbf{#1}}-{\\left({\\varepsilon}^{2} \\cos\\left({\\alpha}\\right) \\pi_1\\left(x\\right)^{2} + {\\varepsilon}^{2} \\cos\\left({\\alpha}\\right) \\pi_2\\left(x\\right)^{2} + {\\varepsilon}^{2} \\cos\\left({\\alpha}\\right) \\pi_3\\left(x\\right)^{2} + 2 \\, {\\varepsilon} \\pi_1\\left(x\\right) \\sin\\left({\\alpha}\\right) - 2 \\, \\cos\\left({\\alpha}\\right)\\right)} {\\bar m}^{2}</script></html>"
      ],
      "text/plain": [
       "-(e^2*cos(a)*pi1(x)^2 + e^2*cos(a)*pi2(x)^2 + e^2*cos(a)*pi3(x)^2 + 2*e*pi1(x)*sin(a) - 2*cos(a))*mm^2"
      ]
     },
     "metadata": {},
     "output_type": "display_data"
    },
    {
     "data": {
      "text/html": [
       "<html><script type=\"math/tex; mode=display\">\\newcommand{\\Bold}[1]{\\mathbf{#1}}-2 \\, {\\Delta m}^{2} {\\varepsilon} \\pi_2\\left(x\\right)</script></html>"
      ],
      "text/plain": [
       "-2*dm^2*e*pi2(x)"
      ]
     },
     "metadata": {},
     "output_type": "display_data"
    },
    {
     "data": {
      "text/html": [
       "<html><script type=\"math/tex; mode=display\">\\newcommand{\\Bold}[1]{\\mathbf{#1}}-{\\left({\\varepsilon}^{2} \\pi_1\\left(x\\right)^{2} \\sin\\left({\\alpha}\\right) + {\\varepsilon}^{2} \\pi_2\\left(x\\right)^{2} \\sin\\left({\\alpha}\\right) + {\\varepsilon}^{2} \\pi_3\\left(x\\right)^{2} \\sin\\left({\\alpha}\\right) - 2 \\, {\\varepsilon} \\cos\\left({\\alpha}\\right) \\pi_1\\left(x\\right) - 2 \\, \\sin\\left({\\alpha}\\right)\\right)} {\\Delta m}^{2}</script></html>"
      ],
      "text/plain": [
       "-(e^2*pi1(x)^2*sin(a) + e^2*pi2(x)^2*sin(a) + e^2*pi3(x)^2*sin(a) - 2*e*cos(a)*pi1(x) - 2*sin(a))*dm^2"
      ]
     },
     "metadata": {},
     "output_type": "display_data"
    },
    {
     "data": {
      "text/html": [
       "<html><script type=\"math/tex; mode=display\">\\newcommand{\\Bold}[1]{\\mathbf{#1}}-{\\left({\\varepsilon}^{2} \\cos\\left({\\alpha}\\right) \\pi_1\\left(x\\right)^{2} + {\\varepsilon}^{2} \\cos\\left({\\alpha}\\right) \\pi_2\\left(x\\right)^{2} + {\\varepsilon}^{2} \\cos\\left({\\alpha}\\right) \\pi_3\\left(x\\right)^{2} + 2 \\, {\\varepsilon} \\pi_1\\left(x\\right) \\sin\\left({\\alpha}\\right) - 2 \\, \\cos\\left({\\alpha}\\right)\\right)} {\\Delta m}^{2}</script></html>"
      ],
      "text/plain": [
       "-(e^2*cos(a)*pi1(x)^2 + e^2*cos(a)*pi2(x)^2 + e^2*cos(a)*pi3(x)^2 + 2*e*pi1(x)*sin(a) - 2*cos(a))*dm^2"
      ]
     },
     "metadata": {},
     "output_type": "display_data"
    },
    {
     "data": {
      "text/html": [
       "<html><script type=\"math/tex; mode=display\">\\newcommand{\\Bold}[1]{\\mathbf{#1}}-2 \\, {\\varepsilon}^{2} {\\bar m}^{2} \\cos\\left({\\alpha}\\right) \\pi_1\\left(x\\right)^{2} - 2 \\, {\\varepsilon}^{2} {\\bar m}^{2} \\cos\\left({\\alpha}\\right) \\pi_2\\left(x\\right)^{2} - 2 \\, {\\varepsilon}^{2} {\\bar m}^{2} \\cos\\left({\\alpha}\\right) \\pi_3\\left(x\\right)^{2} - 4 \\, {\\varepsilon} {\\bar m}^{2} \\pi_1\\left(x\\right) \\sin\\left({\\alpha}\\right) + 4 \\, {\\bar m}^{2} \\cos\\left({\\alpha}\\right)</script></html>"
      ],
      "text/plain": [
       "-2*e^2*mm^2*cos(a)*pi1(x)^2 - 2*e^2*mm^2*cos(a)*pi2(x)^2 - 2*e^2*mm^2*cos(a)*pi3(x)^2 - 4*e*mm^2*pi1(x)*sin(a) + 4*mm^2*cos(a)"
      ]
     },
     "execution_count": 24,
     "metadata": {},
     "output_type": "execute_result"
    }
   ],
   "source": [
    "chiSigmaPlus = mat_prep(chi*S.C.T + S*chi.T.C, n=3)\n",
    "[pretty_print(t.factor()) for t in proj(chiSigmaPlus)];\n",
    "chiSigmaPlus.trace()"
   ]
  },
  {
   "cell_type": "markdown",
   "metadata": {},
   "source": [
    "### Kinetic terms\n",
    "\n",
    "$\\nabla_\\mu \\Sigma \\nabla_\\nu \\Sigma^\\dagger$"
   ]
  },
  {
   "cell_type": "code",
   "execution_count": 25,
   "metadata": {},
   "outputs": [],
   "source": [
    "S2 = mat_prep(SIGMA(3), n=3)\n",
    "S2ct = S2.C.T\n",
    "dS = diff(S2, x)\n",
    "\n",
    "COM = v*S2 - S2*v\n",
    "term1 = mat_prep(dS*(dSct))\n",
    "term2 = -I*mat_prep(COM*dSct - dS*(COM.C.T))\n",
    "term3 = mat_prep(COM*COM.C.T)"
   ]
  },
  {
   "cell_type": "code",
   "execution_count": 26,
   "metadata": {},
   "outputs": [
    {
     "name": "stdout",
     "output_type": "stream",
     "text": [
      "e^2 :\n"
     ]
    },
    {
     "data": {
      "text/html": [
       "<html><script type=\"math/tex; mode=display\">\\newcommand{\\Bold}[1]{\\mathbf{#1}}2 \\, \\frac{\\partial}{\\partial x}\\pi_1\\left(x\\right)^{2} + 2 \\, \\frac{\\partial}{\\partial x}\\pi_2\\left(x\\right)^{2} + 2 \\, \\frac{\\partial}{\\partial x}\\pi_3\\left(x\\right)^{2}</script></html>"
      ],
      "text/plain": [
       "2*diff(pi1(x), x)^2 + 2*diff(pi2(x), x)^2 + 2*diff(pi3(x), x)^2"
      ]
     },
     "metadata": {},
     "output_type": "display_data"
    },
    {
     "name": "stdout",
     "output_type": "stream",
     "text": [
      "e :\n"
     ]
    },
    {
     "data": {
      "text/html": [
       "<html><script type=\"math/tex; mode=display\">\\newcommand{\\Bold}[1]{\\mathbf{#1}}4 \\, {\\delta} {\\mu_I} \\sin\\left({\\alpha}\\right) \\frac{\\partial}{\\partial x}\\pi_2\\left(x\\right)</script></html>"
      ],
      "text/plain": [
       "4*d*mu*sin(a)*diff(pi2(x), x)"
      ]
     },
     "metadata": {},
     "output_type": "display_data"
    },
    {
     "name": "stdout",
     "output_type": "stream",
     "text": [
      "e^2 :\n"
     ]
    },
    {
     "data": {
      "text/html": [
       "<html><script type=\"math/tex; mode=display\">\\newcommand{\\Bold}[1]{\\mathbf{#1}}-4 \\, {\\left(\\pi_2\\left(x\\right) \\frac{\\partial}{\\partial x}\\pi_1\\left(x\\right) - \\pi_1\\left(x\\right) \\frac{\\partial}{\\partial x}\\pi_2\\left(x\\right)\\right)} {\\delta} {\\mu_I} \\cos\\left({\\alpha}\\right)</script></html>"
      ],
      "text/plain": [
       "-4*(pi2(x)*diff(pi1(x), x) - pi1(x)*diff(pi2(x), x))*d*mu*cos(a)"
      ]
     },
     "metadata": {},
     "output_type": "display_data"
    },
    {
     "name": "stdout",
     "output_type": "stream",
     "text": [
      "1 :\n"
     ]
    },
    {
     "data": {
      "text/html": [
       "<html><script type=\"math/tex; mode=display\">\\newcommand{\\Bold}[1]{\\mathbf{#1}}2 \\, {\\delta}^{2} {\\mu_I}^{2} \\sin\\left({\\alpha}\\right)^{2}</script></html>"
      ],
      "text/plain": [
       "2*d^2*mu^2*sin(a)^2"
      ]
     },
     "metadata": {},
     "output_type": "display_data"
    },
    {
     "name": "stdout",
     "output_type": "stream",
     "text": [
      "e :\n"
     ]
    },
    {
     "data": {
      "text/html": [
       "<html><script type=\"math/tex; mode=display\">\\newcommand{\\Bold}[1]{\\mathbf{#1}}4 \\, {\\delta}^{2} {\\mu_I}^{2} \\cos\\left({\\alpha}\\right) \\pi_1\\left(x\\right) \\sin\\left({\\alpha}\\right)</script></html>"
      ],
      "text/plain": [
       "4*d^2*mu^2*cos(a)*pi1(x)*sin(a)"
      ]
     },
     "metadata": {},
     "output_type": "display_data"
    },
    {
     "name": "stdout",
     "output_type": "stream",
     "text": [
      "e^2 :\n"
     ]
    },
    {
     "data": {
      "text/html": [
       "<html><script type=\"math/tex; mode=display\">\\newcommand{\\Bold}[1]{\\mathbf{#1}}2 \\, {\\left(2 \\, \\cos\\left({\\alpha}\\right)^{2} \\pi_1\\left(x\\right)^{2} + \\cos\\left({\\alpha}\\right)^{2} \\pi_2\\left(x\\right)^{2} + \\cos\\left({\\alpha}\\right)^{2} \\pi_3\\left(x\\right)^{2} - \\pi_1\\left(x\\right)^{2} - \\pi_3\\left(x\\right)^{2}\\right)} {\\delta}^{2} {\\mu_I}^{2}</script></html>"
      ],
      "text/plain": [
       "2*(2*cos(a)^2*pi1(x)^2 + cos(a)^2*pi2(x)^2 + cos(a)^2*pi3(x)^2 - pi1(x)^2 - pi3(x)^2)*d^2*mu^2"
      ]
     },
     "metadata": {},
     "output_type": "display_data"
    }
   ],
   "source": [
    "print_e(term1.trace().series(e, 3).truncate().full_simplify().factor())\n",
    "print_e(term2.trace().series(e, 3).truncate().full_simplify().factor())\n",
    "print_e(term3.trace().series(e, 3).truncate().full_simplify().factor())\n",
    "\n",
    "kin = term1 + term2 + term3"
   ]
  },
  {
   "cell_type": "markdown",
   "metadata": {},
   "source": [
    "Hack needed to get answer with free indices"
   ]
  },
  {
   "cell_type": "code",
   "execution_count": 27,
   "metadata": {},
   "outputs": [],
   "source": [
    "dp = diff(p, x); dp\n",
    "dpmu = vector([\n",
    "    function(\n",
    "        \"pimu\"+str(i), \n",
    "        latex_name=\"\\\\partial_\\\\mu \\\\pi_\"+str(i), \n",
    "        conjugate_func=Id)(x) for i  in range(1, 4)\n",
    "])\n",
    "\n",
    "dpnu = vector([\n",
    "    function(\n",
    "        \"pinu\"+str(i), \n",
    "        latex_name=\"\\\\partial_\\\\nu \\\\pi_\"+str(i), \n",
    "        conjugate_func=Id)(x) for i  in range(1, 4)\n",
    "])\n",
    "\n",
    "dprho = vector([\n",
    "    function(\n",
    "        \"pirho\"+str(i), \n",
    "        latex_name=\"\\\\partial_\\\\rho \\\\pi_\"+str(i), \n",
    "        conjugate_func=Id)(x) for i  in range(1, 4)\n",
    "])"
   ]
  },
  {
   "cell_type": "code",
   "execution_count": 28,
   "metadata": {},
   "outputs": [],
   "source": [
    "dSct = diff(S2ct, x)\n",
    "\n",
    "dSmu = copy(dS)\n",
    "dSrho = copy(dS)\n",
    "dSnuct = copy(dSct)\n",
    "dSmuct = copy(dSct)\n",
    "dSrhoct = copy(dSct)\n",
    "for i, dpi in enumerate(dp):\n",
    "    dSmu = dSmu.subs(dpi==dpmu[i])\n",
    "    dSrho = dSrho.subs(dpi==dprho[i])\n",
    "    dSnuct = dSnuct.subs(dpi==dpnu[i])\n",
    "    dSmuct = dSmuct.subs(dpi==dpmu[i])\n",
    "    dSrhoct = dSrhoct.subs(dpi==dprho[i])"
   ]
  },
  {
   "cell_type": "code",
   "execution_count": 29,
   "metadata": {},
   "outputs": [],
   "source": [
    "var(\"dmu\", latex_name=\"\\\\delta_\\\\mu\", domain=\"real\")\n",
    "var(\"dnu\", latex_name=\"\\\\delta_\\\\nu\", domain=\"real\")\n",
    "var(\"drho\", latex_name=\"\\\\delta_\\\\rho\", domain=\"real\")\n",
    "\n",
    "vmu = 1/2*dmu*mu*s3\n",
    "vnu = 1/2*dnu*mu*s3\n",
    "vrho = 1/2*drho*mu*s3\n",
    "\n",
    "COMmu = -(vmu*S2 - S2*vmu)      # [v_mu, Sigma]\n",
    "COMmuct = vmu*S2ct - S2ct*vmu  # [v_nu, Sigma^\\dagger]\n",
    "\n",
    "COMnu = vnu*S2ct - S2ct*vnu  # [v_nu, Sigma^\\dagger]\n",
    "COMrho = -(vrho*S2 - S2*vrho)      # [v_mu, Sigma]\n",
    "COMrhoct = vrho*S2ct - S2ct*vrho      # [v_mu, Sigma]"
   ]
  },
  {
   "cell_type": "code",
   "execution_count": 30,
   "metadata": {},
   "outputs": [],
   "source": [
    "term1a = mat_prep(dSmu*(dSmuct), n=3)\n",
    "term2a = -I*mat_prep(dSmu*COMmuct - COMmu*dSmuct, n=3)\n",
    "term3a = mat_prep(COMmu*COMmuct, n=3)\n",
    "kin_mumu = term1a + term2a + term3a\n",
    "\n",
    "term1 = mat_prep(dSrho*(dSrhoct), n=3)\n",
    "term2 = -I*mat_prep(dSrho*COMrhoct - COMrho*dSrhoct, n=3)\n",
    "term3 = mat_prep(COMrho*COMrhoct, n=3)\n",
    "kin_rhorho = term1 + term2 + term3\n",
    "\n",
    "term1 = mat_prep(dSmu*(dSnuct), n=3)\n",
    "term2 = -I*mat_prep(dSmu*COMnu - COMmu*dSnuct, n=3)\n",
    "term3 = mat_prep(COMmu*COMnu, n=3)\n",
    "kin_munu = term1 + term2 + term3"
   ]
  },
  {
   "cell_type": "markdown",
   "metadata": {},
   "source": [
    "# Constitutive terms for NLO Lagrangian\n",
    "\n",
    "term_l1:\n",
    "\n",
    "$\\mathrm{Tr}\\{ \\nabla_\\mu \\Sigma \\nabla^\\mu \\Sigma^\\dagger \\}^2$"
   ]
  },
  {
   "cell_type": "code",
   "execution_count": 31,
   "metadata": {},
   "outputs": [
    {
     "name": "stdout",
     "output_type": "stream",
     "text": [
      "1 :\n"
     ]
    },
    {
     "data": {
      "text/html": [
       "<html><script type=\"math/tex; mode=display\">\\newcommand{\\Bold}[1]{\\mathbf{#1}}4 \\, {\\delta_\\mu}^{2} {\\delta_\\rho}^{2} {\\mu_I}^{4} \\sin\\left({\\alpha}\\right)^{4}</script></html>"
      ],
      "text/plain": [
       "4*dmu^2*drho^2*mu^4*sin(a)^4"
      ]
     },
     "metadata": {},
     "output_type": "display_data"
    },
    {
     "name": "stdout",
     "output_type": "stream",
     "text": [
      "e :\n"
     ]
    },
    {
     "data": {
      "text/html": [
       "<html><script type=\"math/tex; mode=display\">\\newcommand{\\Bold}[1]{\\mathbf{#1}}8 \\, {\\left({\\delta_\\rho} \\partial_\\mu \\pi_2\\left(x\\right) + {\\delta_\\mu} \\partial_\\rho \\pi_2\\left(x\\right)\\right)} {\\delta_\\mu} {\\delta_\\rho} {\\mu_I}^{3} \\sin\\left({\\alpha}\\right)^{3}</script></html>"
      ],
      "text/plain": [
       "8*(drho*pimu2(x) + dmu*pirho2(x))*dmu*drho*mu^3*sin(a)^3"
      ]
     },
     "metadata": {},
     "output_type": "display_data"
    },
    {
     "data": {
      "text/html": [
       "<html><script type=\"math/tex; mode=display\">\\newcommand{\\Bold}[1]{\\mathbf{#1}}16 \\, {\\delta_\\mu}^{2} {\\delta_\\rho}^{2} {\\mu_I}^{4} \\cos\\left({\\alpha}\\right) \\pi_1\\left(x\\right) \\sin\\left({\\alpha}\\right)^{3}</script></html>"
      ],
      "text/plain": [
       "16*dmu^2*drho^2*mu^4*cos(a)*pi1(x)*sin(a)^3"
      ]
     },
     "metadata": {},
     "output_type": "display_data"
    },
    {
     "name": "stdout",
     "output_type": "stream",
     "text": [
      "e^2 :\n"
     ]
    },
    {
     "data": {
      "text/html": [
       "<html><script type=\"math/tex; mode=display\">\\newcommand{\\Bold}[1]{\\mathbf{#1}}4 \\, {\\left({\\delta_\\rho}^{2} \\partial_\\mu \\pi_1\\left(x\\right)^{2} + {\\delta_\\rho}^{2} \\partial_\\mu \\pi_2\\left(x\\right)^{2} + {\\delta_\\rho}^{2} \\partial_\\mu \\pi_3\\left(x\\right)^{2} + {\\delta_\\mu}^{2} \\partial_\\rho \\pi_1\\left(x\\right)^{2} + 4 \\, {\\delta_\\mu} {\\delta_\\rho} \\partial_\\mu \\pi_2\\left(x\\right) \\partial_\\rho \\pi_2\\left(x\\right) + {\\delta_\\mu}^{2} \\partial_\\rho \\pi_2\\left(x\\right)^{2} + {\\delta_\\mu}^{2} \\partial_\\rho \\pi_3\\left(x\\right)^{2}\\right)} {\\mu_I}^{2} \\sin\\left({\\alpha}\\right)^{2}</script></html>"
      ],
      "text/plain": [
       "4*(drho^2*pimu1(x)^2 + drho^2*pimu2(x)^2 + drho^2*pimu3(x)^2 + dmu^2*pirho1(x)^2 + 4*dmu*drho*pimu2(x)*pirho2(x) + dmu^2*pirho2(x)^2 + dmu^2*pirho3(x)^2)*mu^2*sin(a)^2"
      ]
     },
     "metadata": {},
     "output_type": "display_data"
    },
    {
     "data": {
      "text/html": [
       "<html><script type=\"math/tex; mode=display\">\\newcommand{\\Bold}[1]{\\mathbf{#1}}-8 \\, {\\left({\\delta_\\rho} \\pi_2\\left(x\\right) \\partial_\\mu \\pi_1\\left(x\\right) - 3 \\, {\\delta_\\rho} \\pi_1\\left(x\\right) \\partial_\\mu \\pi_2\\left(x\\right) + {\\delta_\\mu} \\pi_2\\left(x\\right) \\partial_\\rho \\pi_1\\left(x\\right) - 3 \\, {\\delta_\\mu} \\pi_1\\left(x\\right) \\partial_\\rho \\pi_2\\left(x\\right)\\right)} {\\delta_\\mu} {\\delta_\\rho} {\\mu_I}^{3} \\cos\\left({\\alpha}\\right) \\sin\\left({\\alpha}\\right)^{2}</script></html>"
      ],
      "text/plain": [
       "-8*(drho*pi2(x)*pimu1(x) - 3*drho*pi1(x)*pimu2(x) + dmu*pi2(x)*pirho1(x) - 3*dmu*pi1(x)*pirho2(x))*dmu*drho*mu^3*cos(a)*sin(a)^2"
      ]
     },
     "metadata": {},
     "output_type": "display_data"
    },
    {
     "data": {
      "text/html": [
       "<html><script type=\"math/tex; mode=display\">\\newcommand{\\Bold}[1]{\\mathbf{#1}}-8 \\, {\\left(4 \\, \\pi_1\\left(x\\right)^{2} \\sin\\left({\\alpha}\\right)^{2} + \\pi_2\\left(x\\right)^{2} \\sin\\left({\\alpha}\\right)^{2} + \\pi_3\\left(x\\right)^{2} \\sin\\left({\\alpha}\\right)^{2} - 3 \\, \\pi_1\\left(x\\right)^{2} - \\pi_2\\left(x\\right)^{2}\\right)} {\\delta_\\mu}^{2} {\\delta_\\rho}^{2} {\\mu_I}^{4} \\sin\\left({\\alpha}\\right)^{2}</script></html>"
      ],
      "text/plain": [
       "-8*(4*pi1(x)^2*sin(a)^2 + pi2(x)^2*sin(a)^2 + pi3(x)^2*sin(a)^2 - 3*pi1(x)^2 - pi2(x)^2)*dmu^2*drho^2*mu^4*sin(a)^2"
      ]
     },
     "metadata": {},
     "output_type": "display_data"
    }
   ],
   "source": [
    "term_l1 = (kin_mumu.trace()*kin_rhorho.trace()).series(e, 3).truncate()\n",
    "print_e(term_l1)"
   ]
  },
  {
   "cell_type": "markdown",
   "metadata": {},
   "source": [
    "term_l2:\n",
    "\n",
    "$\\mathrm{Tr}\\{ \\nabla_\\mu \\Sigma \\nabla_\\nu \\Sigma^\\dagger \\}\n",
    "\\mathrm{Tr}\\{ \\nabla^\\mu \\Sigma \\nabla^\\nu \\Sigma^\\dagger \\}$"
   ]
  },
  {
   "cell_type": "code",
   "execution_count": 32,
   "metadata": {},
   "outputs": [
    {
     "name": "stdout",
     "output_type": "stream",
     "text": [
      "1 :\n"
     ]
    },
    {
     "data": {
      "text/html": [
       "<html><script type=\"math/tex; mode=display\">\\newcommand{\\Bold}[1]{\\mathbf{#1}}4 \\, {\\delta_\\mu}^{2} {\\delta_\\nu}^{2} {\\mu_I}^{4} \\sin\\left({\\alpha}\\right)^{4}</script></html>"
      ],
      "text/plain": [
       "4*dmu^2*dnu^2*mu^4*sin(a)^4"
      ]
     },
     "metadata": {},
     "output_type": "display_data"
    },
    {
     "name": "stdout",
     "output_type": "stream",
     "text": [
      "e :\n"
     ]
    },
    {
     "data": {
      "text/html": [
       "<html><script type=\"math/tex; mode=display\">\\newcommand{\\Bold}[1]{\\mathbf{#1}}8 \\, {\\left({\\delta_\\nu} \\partial_\\mu \\pi_2\\left(x\\right) + {\\delta_\\mu} \\partial_\\nu \\pi_2\\left(x\\right)\\right)} {\\delta_\\mu} {\\delta_\\nu} {\\mu_I}^{3} \\sin\\left({\\alpha}\\right)^{3}</script></html>"
      ],
      "text/plain": [
       "8*(dnu*pimu2(x) + dmu*pinu2(x))*dmu*dnu*mu^3*sin(a)^3"
      ]
     },
     "metadata": {},
     "output_type": "display_data"
    },
    {
     "data": {
      "text/html": [
       "<html><script type=\"math/tex; mode=display\">\\newcommand{\\Bold}[1]{\\mathbf{#1}}16 \\, {\\delta_\\mu}^{2} {\\delta_\\nu}^{2} {\\mu_I}^{4} \\cos\\left({\\alpha}\\right) \\pi_1\\left(x\\right) \\sin\\left({\\alpha}\\right)^{3}</script></html>"
      ],
      "text/plain": [
       "16*dmu^2*dnu^2*mu^4*cos(a)*pi1(x)*sin(a)^3"
      ]
     },
     "metadata": {},
     "output_type": "display_data"
    },
    {
     "name": "stdout",
     "output_type": "stream",
     "text": [
      "e^2 :\n"
     ]
    },
    {
     "data": {
      "text/html": [
       "<html><script type=\"math/tex; mode=display\">\\newcommand{\\Bold}[1]{\\mathbf{#1}}4 \\, {\\left({\\delta_\\nu}^{2} \\partial_\\mu \\pi_2\\left(x\\right)^{2} + 2 \\, {\\delta_\\mu} {\\delta_\\nu} \\partial_\\mu \\pi_1\\left(x\\right) \\partial_\\nu \\pi_1\\left(x\\right) + 4 \\, {\\delta_\\mu} {\\delta_\\nu} \\partial_\\mu \\pi_2\\left(x\\right) \\partial_\\nu \\pi_2\\left(x\\right) + {\\delta_\\mu}^{2} \\partial_\\nu \\pi_2\\left(x\\right)^{2} + 2 \\, {\\delta_\\mu} {\\delta_\\nu} \\partial_\\mu \\pi_3\\left(x\\right) \\partial_\\nu \\pi_3\\left(x\\right)\\right)} {\\mu_I}^{2} \\sin\\left({\\alpha}\\right)^{2}</script></html>"
      ],
      "text/plain": [
       "4*(dnu^2*pimu2(x)^2 + 2*dmu*dnu*pimu1(x)*pinu1(x) + 4*dmu*dnu*pimu2(x)*pinu2(x) + dmu^2*pinu2(x)^2 + 2*dmu*dnu*pimu3(x)*pinu3(x))*mu^2*sin(a)^2"
      ]
     },
     "metadata": {},
     "output_type": "display_data"
    },
    {
     "data": {
      "text/html": [
       "<html><script type=\"math/tex; mode=display\">\\newcommand{\\Bold}[1]{\\mathbf{#1}}-8 \\, {\\left({\\delta_\\nu} \\pi_2\\left(x\\right) \\partial_\\mu \\pi_1\\left(x\\right) - 3 \\, {\\delta_\\nu} \\pi_1\\left(x\\right) \\partial_\\mu \\pi_2\\left(x\\right) + {\\delta_\\mu} \\pi_2\\left(x\\right) \\partial_\\nu \\pi_1\\left(x\\right) - 3 \\, {\\delta_\\mu} \\pi_1\\left(x\\right) \\partial_\\nu \\pi_2\\left(x\\right)\\right)} {\\delta_\\mu} {\\delta_\\nu} {\\mu_I}^{3} \\cos\\left({\\alpha}\\right) \\sin\\left({\\alpha}\\right)^{2}</script></html>"
      ],
      "text/plain": [
       "-8*(dnu*pi2(x)*pimu1(x) - 3*dnu*pi1(x)*pimu2(x) + dmu*pi2(x)*pinu1(x) - 3*dmu*pi1(x)*pinu2(x))*dmu*dnu*mu^3*cos(a)*sin(a)^2"
      ]
     },
     "metadata": {},
     "output_type": "display_data"
    },
    {
     "data": {
      "text/html": [
       "<html><script type=\"math/tex; mode=display\">\\newcommand{\\Bold}[1]{\\mathbf{#1}}-8 \\, {\\left(4 \\, \\pi_1\\left(x\\right)^{2} \\sin\\left({\\alpha}\\right)^{2} + \\pi_2\\left(x\\right)^{2} \\sin\\left({\\alpha}\\right)^{2} + \\pi_3\\left(x\\right)^{2} \\sin\\left({\\alpha}\\right)^{2} - 3 \\, \\pi_1\\left(x\\right)^{2} - \\pi_2\\left(x\\right)^{2}\\right)} {\\delta_\\mu}^{2} {\\delta_\\nu}^{2} {\\mu_I}^{4} \\sin\\left({\\alpha}\\right)^{2}</script></html>"
      ],
      "text/plain": [
       "-8*(4*pi1(x)^2*sin(a)^2 + pi2(x)^2*sin(a)^2 + pi3(x)^2*sin(a)^2 - 3*pi1(x)^2 - pi2(x)^2)*dmu^2*dnu^2*mu^4*sin(a)^2"
      ]
     },
     "metadata": {},
     "output_type": "display_data"
    }
   ],
   "source": [
    "term_l2 = (kin_munu.trace()**2).series(e, 3).truncate()\n",
    "print_e(term_l2)"
   ]
  },
  {
   "cell_type": "markdown",
   "metadata": {},
   "source": [
    "term_l3\n",
    "\n",
    "$\\mathrm{Tr}\\{ \\chi \\Sigma^\\dagger + \\Sigma \\chi^\\dagger \\}^2$"
   ]
  },
  {
   "cell_type": "code",
   "execution_count": 33,
   "metadata": {},
   "outputs": [
    {
     "name": "stdout",
     "output_type": "stream",
     "text": [
      "1 :\n"
     ]
    },
    {
     "data": {
      "text/html": [
       "<html><script type=\"math/tex; mode=display\">\\newcommand{\\Bold}[1]{\\mathbf{#1}}16 \\, {\\bar m}^{4} \\cos\\left({\\alpha}\\right)^{2}</script></html>"
      ],
      "text/plain": [
       "16*mm^4*cos(a)^2"
      ]
     },
     "metadata": {},
     "output_type": "display_data"
    },
    {
     "name": "stdout",
     "output_type": "stream",
     "text": [
      "e :\n"
     ]
    },
    {
     "data": {
      "text/html": [
       "<html><script type=\"math/tex; mode=display\">\\newcommand{\\Bold}[1]{\\mathbf{#1}}-32 \\, {\\bar m}^{4} \\cos\\left({\\alpha}\\right) \\pi_1\\left(x\\right) \\sin\\left({\\alpha}\\right)</script></html>"
      ],
      "text/plain": [
       "-32*mm^4*cos(a)*pi1(x)*sin(a)"
      ]
     },
     "metadata": {},
     "output_type": "display_data"
    },
    {
     "name": "stdout",
     "output_type": "stream",
     "text": [
      "e^2 :\n"
     ]
    },
    {
     "data": {
      "text/html": [
       "<html><script type=\"math/tex; mode=display\">\\newcommand{\\Bold}[1]{\\mathbf{#1}}-16 \\, {\\left(2 \\, \\cos\\left({\\alpha}\\right)^{2} \\pi_1\\left(x\\right)^{2} + \\cos\\left({\\alpha}\\right)^{2} \\pi_2\\left(x\\right)^{2} + \\cos\\left({\\alpha}\\right)^{2} \\pi_3\\left(x\\right)^{2} - \\pi_1\\left(x\\right)^{2}\\right)} {\\bar m}^{4}</script></html>"
      ],
      "text/plain": [
       "-16*(2*cos(a)^2*pi1(x)^2 + cos(a)^2*pi2(x)^2 + cos(a)^2*pi3(x)^2 - pi1(x)^2)*mm^4"
      ]
     },
     "metadata": {},
     "output_type": "display_data"
    }
   ],
   "source": [
    "term_l3 = (chiSigmaPlus.trace()**2).series(e, 3).truncate().factor()\n",
    "print_e(term_l3)"
   ]
  },
  {
   "cell_type": "markdown",
   "metadata": {},
   "source": [
    "term_l4\n",
    "\n",
    "$\\mathrm{Tr}\\{ \\nabla_\\mu \\Sigma \\nabla_\\nu \\Sigma^\\dagger \\}\n",
    "\\mathrm{Tr}\\{ \\chi \\Sigma^\\dagger + \\Sigma \\chi^\\dagger \\}$"
   ]
  },
  {
   "cell_type": "code",
   "execution_count": 34,
   "metadata": {},
   "outputs": [
    {
     "name": "stdout",
     "output_type": "stream",
     "text": [
      "1 :\n"
     ]
    },
    {
     "data": {
      "text/html": [
       "<html><script type=\"math/tex; mode=display\">\\newcommand{\\Bold}[1]{\\mathbf{#1}}8 \\, {\\delta}^{2} {\\bar m}^{2} {\\mu_I}^{2} \\cos\\left({\\alpha}\\right) \\sin\\left({\\alpha}\\right)^{2}</script></html>"
      ],
      "text/plain": [
       "8*d^2*mm^2*mu^2*cos(a)*sin(a)^2"
      ]
     },
     "metadata": {},
     "output_type": "display_data"
    },
    {
     "name": "stdout",
     "output_type": "stream",
     "text": [
      "e :\n"
     ]
    },
    {
     "data": {
      "text/html": [
       "<html><script type=\"math/tex; mode=display\">\\newcommand{\\Bold}[1]{\\mathbf{#1}}16 \\, {\\delta} {\\bar m}^{2} {\\mu_I} \\cos\\left({\\alpha}\\right) \\sin\\left({\\alpha}\\right) \\frac{\\partial}{\\partial x}\\pi_2\\left(x\\right)</script></html>"
      ],
      "text/plain": [
       "16*d*mm^2*mu*cos(a)*sin(a)*diff(pi2(x), x)"
      ]
     },
     "metadata": {},
     "output_type": "display_data"
    },
    {
     "data": {
      "text/html": [
       "<html><script type=\"math/tex; mode=display\">\\newcommand{\\Bold}[1]{\\mathbf{#1}}8 \\, {\\left(3 \\, \\cos\\left({\\alpha}\\right)^{2} - 1\\right)} {\\delta}^{2} {\\bar m}^{2} {\\mu_I}^{2} \\pi_1\\left(x\\right) \\sin\\left({\\alpha}\\right)</script></html>"
      ],
      "text/plain": [
       "8*(3*cos(a)^2 - 1)*d^2*mm^2*mu^2*pi1(x)*sin(a)"
      ]
     },
     "metadata": {},
     "output_type": "display_data"
    },
    {
     "name": "stdout",
     "output_type": "stream",
     "text": [
      "e^2 :\n"
     ]
    },
    {
     "data": {
      "text/html": [
       "<html><script type=\"math/tex; mode=display\">\\newcommand{\\Bold}[1]{\\mathbf{#1}}8 \\, {\\left(\\frac{\\partial}{\\partial x}\\pi_1\\left(x\\right)^{2} + \\frac{\\partial}{\\partial x}\\pi_2\\left(x\\right)^{2} + \\frac{\\partial}{\\partial x}\\pi_3\\left(x\\right)^{2}\\right)} {\\bar m}^{2} \\cos\\left({\\alpha}\\right)</script></html>"
      ],
      "text/plain": [
       "8*(diff(pi1(x), x)^2 + diff(pi2(x), x)^2 + diff(pi3(x), x)^2)*mm^2*cos(a)"
      ]
     },
     "metadata": {},
     "output_type": "display_data"
    },
    {
     "data": {
      "text/html": [
       "<html><script type=\"math/tex; mode=display\">\\newcommand{\\Bold}[1]{\\mathbf{#1}}-16 \\, {\\left(\\cos\\left({\\alpha}\\right)^{2} \\pi_2\\left(x\\right) \\frac{\\partial}{\\partial x}\\pi_1\\left(x\\right) - 2 \\, \\cos\\left({\\alpha}\\right)^{2} \\pi_1\\left(x\\right) \\frac{\\partial}{\\partial x}\\pi_2\\left(x\\right) + \\pi_1\\left(x\\right) \\frac{\\partial}{\\partial x}\\pi_2\\left(x\\right)\\right)} {\\delta} {\\bar m}^{2} {\\mu_I}</script></html>"
      ],
      "text/plain": [
       "-16*(cos(a)^2*pi2(x)*diff(pi1(x), x) - 2*cos(a)^2*pi1(x)*diff(pi2(x), x) + pi1(x)*diff(pi2(x), x))*d*mm^2*mu"
      ]
     },
     "metadata": {},
     "output_type": "display_data"
    },
    {
     "data": {
      "text/html": [
       "<html><script type=\"math/tex; mode=display\">\\newcommand{\\Bold}[1]{\\mathbf{#1}}-4 \\, {\\left(9 \\, \\pi_1\\left(x\\right)^{2} \\sin\\left({\\alpha}\\right)^{2} + 3 \\, \\pi_2\\left(x\\right)^{2} \\sin\\left({\\alpha}\\right)^{2} + 3 \\, \\pi_3\\left(x\\right)^{2} \\sin\\left({\\alpha}\\right)^{2} - 2 \\, \\pi_1\\left(x\\right)^{2} - 2 \\, \\pi_2\\left(x\\right)^{2}\\right)} {\\delta}^{2} {\\bar m}^{2} {\\mu_I}^{2} \\cos\\left({\\alpha}\\right)</script></html>"
      ],
      "text/plain": [
       "-4*(9*pi1(x)^2*sin(a)^2 + 3*pi2(x)^2*sin(a)^2 + 3*pi3(x)^2*sin(a)^2 - 2*pi1(x)^2 - 2*pi2(x)^2)*d^2*mm^2*mu^2*cos(a)"
      ]
     },
     "metadata": {},
     "output_type": "display_data"
    }
   ],
   "source": [
    "term_l4 = (kin.trace()*chiSigmaPlus.trace()).series(e, 3).truncate()\n",
    "print_e(term_l4)"
   ]
  },
  {
   "cell_type": "markdown",
   "metadata": {},
   "source": [
    "term_l7\n",
    "\n",
    "$\\mathrm{Tr}\\{ \\chi \\Sigma^\\dagger - \\Sigma \\chi^\\dagger \\}^2$"
   ]
  },
  {
   "cell_type": "code",
   "execution_count": 35,
   "metadata": {},
   "outputs": [
    {
     "name": "stdout",
     "output_type": "stream",
     "text": [
      "e^2 :\n"
     ]
    },
    {
     "data": {
      "text/html": [
       "<html><script type=\"math/tex; mode=display\">\\newcommand{\\Bold}[1]{\\mathbf{#1}}-16 \\, {\\Delta m}^{4} \\pi_3\\left(x\\right)^{2}</script></html>"
      ],
      "text/plain": [
       "-16*dm^4*pi3(x)^2"
      ]
     },
     "metadata": {},
     "output_type": "display_data"
    }
   ],
   "source": [
    "term_l7 = (mat_prep(chiSigmaMin, n=3).trace()**2).series(e, 3).truncate()\n",
    "print_e(term_l7)"
   ]
  },
  {
   "cell_type": "markdown",
   "metadata": {},
   "source": [
    "term chisq\n",
    "\n",
    "$\\mathrm{Tr}\\{\\chi^\\dagger \\chi\\}$"
   ]
  },
  {
   "cell_type": "code",
   "execution_count": 36,
   "metadata": {},
   "outputs": [
    {
     "name": "stdout",
     "output_type": "stream",
     "text": [
      "1 :\n"
     ]
    },
    {
     "data": {
      "text/html": [
       "<html><script type=\"math/tex; mode=display\">\\newcommand{\\Bold}[1]{\\mathbf{#1}}2 \\, {\\Delta m}^{4} + 2 \\, {\\bar m}^{4}</script></html>"
      ],
      "text/plain": [
       "2*dm^4 + 2*mm^4"
      ]
     },
     "metadata": {},
     "output_type": "display_data"
    }
   ],
   "source": [
    "term_chisq = (chi*chi).trace().series(e, 3).truncate()\n",
    "print_e(term_chisq)"
   ]
  },
  {
   "cell_type": "markdown",
   "metadata": {},
   "source": [
    "last_term\n",
    "\n",
    "$\\mathrm{Tr}\\{ (\\chi \\Sigma^\\dagger)^2 + (\\Sigma \\chi^\\dagger)^2 \\}$"
   ]
  },
  {
   "cell_type": "code",
   "execution_count": 37,
   "metadata": {},
   "outputs": [
    {
     "name": "stdout",
     "output_type": "stream",
     "text": [
      "1 :\n"
     ]
    },
    {
     "data": {
      "text/html": [
       "<html><script type=\"math/tex; mode=display\">\\newcommand{\\Bold}[1]{\\mathbf{#1}}8 \\, {\\bar m}^{4} \\cos\\left({\\alpha}\\right)^{2} + 4 \\, {\\Delta m}^{4} - 4 \\, {\\bar m}^{4}</script></html>"
      ],
      "text/plain": [
       "8*mm^4*cos(a)^2 + 4*dm^4 - 4*mm^4"
      ]
     },
     "metadata": {},
     "output_type": "display_data"
    },
    {
     "name": "stdout",
     "output_type": "stream",
     "text": [
      "e :\n"
     ]
    },
    {
     "data": {
      "text/html": [
       "<html><script type=\"math/tex; mode=display\">\\newcommand{\\Bold}[1]{\\mathbf{#1}}-16 \\, {\\bar m}^{4} \\cos\\left({\\alpha}\\right) \\pi_1\\left(x\\right) \\sin\\left({\\alpha}\\right)</script></html>"
      ],
      "text/plain": [
       "-16*mm^4*cos(a)*pi1(x)*sin(a)"
      ]
     },
     "metadata": {},
     "output_type": "display_data"
    },
    {
     "name": "stdout",
     "output_type": "stream",
     "text": [
      "e^2 :\n"
     ]
    },
    {
     "data": {
      "text/html": [
       "<html><script type=\"math/tex; mode=display\">\\newcommand{\\Bold}[1]{\\mathbf{#1}}-16 \\, {\\bar m}^{4} \\cos\\left({\\alpha}\\right)^{2} \\pi_1\\left(x\\right)^{2} - 8 \\, {\\bar m}^{4} \\cos\\left({\\alpha}\\right)^{2} \\pi_2\\left(x\\right)^{2} - 8 \\, {\\bar m}^{4} \\cos\\left({\\alpha}\\right)^{2} \\pi_3\\left(x\\right)^{2} + 8 \\, {\\bar m}^{4} \\pi_1\\left(x\\right)^{2} - 8 \\, {\\Delta m}^{4} \\pi_3\\left(x\\right)^{2}</script></html>"
      ],
      "text/plain": [
       "-16*mm^4*cos(a)^2*pi1(x)^2 - 8*mm^4*cos(a)^2*pi2(x)^2 - 8*mm^4*cos(a)^2*pi3(x)^2 + 8*mm^4*pi1(x)^2 - 8*dm^4*pi3(x)^2"
      ]
     },
     "metadata": {},
     "output_type": "display_data"
    }
   ],
   "source": [
    "term_last = ((chi*S2ct)**2 + (S2*chi)**2).trace().series(e, 3)\n",
    "print_e(term_last)"
   ]
  },
  {
   "cell_type": "markdown",
   "metadata": {},
   "source": [
    "term_l1:\n",
    "\n",
    "$\\mathrm{Tr}\\{ \\nabla_\\mu \\Sigma \\nabla^\\mu \\Sigma^\\dagger \\}^2$\n",
    "\n",
    "term_l2:\n",
    "\n",
    "$\\mathrm{Tr}\\{ \\nabla_\\mu \\Sigma \\nabla_\\nu \\Sigma^\\dagger \\}\n",
    "\\mathrm{Tr}\\{ \\nabla^\\mu \\Sigma \\nabla^\\nu \\Sigma^\\dagger \\}$\n",
    "\n",
    "term_l3\n",
    "\n",
    "$\\mathrm{Tr}\\{ \\chi \\Sigma^\\dagger + \\Sigma \\chi^\\dagger \\}^2$\n",
    "\n",
    "term_l4\n",
    "\n",
    "$\\mathrm{Tr}\\{ \\nabla_\\mu \\Sigma \\nabla_\\nu \\Sigma^\\dagger \\}\n",
    "\\mathrm{Tr}\\{ \\chi \\Sigma^\\dagger + \\Sigma \\chi^\\dagger \\}$\n",
    "\n",
    "term_l7\n",
    "\n",
    "$\\mathrm{Tr}\\{ \\chi \\Sigma^\\dagger - \\Sigma \\chi^\\dagger \\}^2$\n",
    "\n",
    "term chisq\n",
    "\n",
    "$\\mathrm{Tr}\\{\\chi^\\dagger \\chi\\}$\n",
    "\n",
    "term_last\n",
    "\n",
    "$\\mathrm{Tr}\\{ (\\chi \\Sigma^\\dagger)^2 + (\\Sigma \\chi^\\dagger)^2 \\}$"
   ]
  },
  {
   "cell_type": "markdown",
   "metadata": {},
   "source": [
    "## NLO Lagrangian"
   ]
  },
  {
   "cell_type": "code",
   "execution_count": 38,
   "metadata": {},
   "outputs": [],
   "source": [
    "ls = [var(\"l{}\".format(i), latex_name = \"l_{}\".format(i)) for i in range(1, 8)]\n",
    "hs = [var(\"h{}\".format(i), latex_name = \"h_{}\".format(i)) for i in range(1, 8)]"
   ]
  },
  {
   "cell_type": "code",
   "execution_count": 39,
   "metadata": {},
   "outputs": [
    {
     "name": "stdout",
     "output_type": "stream",
     "text": [
      "1 :\n"
     ]
    },
    {
     "data": {
      "text/html": [
       "<html><script type=\"math/tex; mode=display\">\\newcommand{\\Bold}[1]{\\mathbf{#1}}{l_3} {\\bar m}^{4} \\cos\\left({\\alpha}\\right)^{2} + {l_4} {\\bar m}^{4} \\cos\\left({\\alpha}\\right)^{2} + {\\Delta m}^{4} {h_3} + {h_1} {\\bar m}^{4} - {l_4} {\\bar m}^{4}</script></html>"
      ],
      "text/plain": [
       "l3*mm^4*cos(a)^2 + l4*mm^4*cos(a)^2 + dm^4*h3 + h1*mm^4 - l4*mm^4"
      ]
     },
     "metadata": {},
     "output_type": "display_data"
    },
    {
     "data": {
      "text/html": [
       "<html><script type=\"math/tex; mode=display\">\\newcommand{\\Bold}[1]{\\mathbf{#1}}{\\delta}^{2} {l_4} {\\bar m}^{2} {\\mu_I}^{2} \\cos\\left({\\alpha}\\right) \\sin\\left({\\alpha}\\right)^{2}</script></html>"
      ],
      "text/plain": [
       "d^2*l4*mm^2*mu^2*cos(a)*sin(a)^2"
      ]
     },
     "metadata": {},
     "output_type": "display_data"
    },
    {
     "data": {
      "text/html": [
       "<html><script type=\"math/tex; mode=display\">\\newcommand{\\Bold}[1]{\\mathbf{#1}}{\\left({\\delta_\\rho}^{2} {l_1} + {\\delta_\\nu}^{2} {l_2}\\right)} {\\delta_\\mu}^{2} {\\mu_I}^{4} \\sin\\left({\\alpha}\\right)^{4}</script></html>"
      ],
      "text/plain": [
       "(drho^2*l1 + dnu^2*l2)*dmu^2*mu^4*sin(a)^4"
      ]
     },
     "metadata": {},
     "output_type": "display_data"
    },
    {
     "name": "stdout",
     "output_type": "stream",
     "text": [
      "e :\n"
     ]
    },
    {
     "data": {
      "text/html": [
       "<html><script type=\"math/tex; mode=display\">\\newcommand{\\Bold}[1]{\\mathbf{#1}}-2 \\, {\\left({l_3} + {l_4}\\right)} {\\bar m}^{4} \\cos\\left({\\alpha}\\right) \\pi_1\\left(x\\right) \\sin\\left({\\alpha}\\right)</script></html>"
      ],
      "text/plain": [
       "-2*(l3 + l4)*mm^4*cos(a)*pi1(x)*sin(a)"
      ]
     },
     "metadata": {},
     "output_type": "display_data"
    },
    {
     "data": {
      "text/html": [
       "<html><script type=\"math/tex; mode=display\">\\newcommand{\\Bold}[1]{\\mathbf{#1}}2 \\, {\\delta} {l_4} {\\bar m}^{2} {\\mu_I} \\cos\\left({\\alpha}\\right) \\sin\\left({\\alpha}\\right) \\frac{\\partial}{\\partial x}\\pi_2\\left(x\\right)</script></html>"
      ],
      "text/plain": [
       "2*d*l4*mm^2*mu*cos(a)*sin(a)*diff(pi2(x), x)"
      ]
     },
     "metadata": {},
     "output_type": "display_data"
    },
    {
     "data": {
      "text/html": [
       "<html><script type=\"math/tex; mode=display\">\\newcommand{\\Bold}[1]{\\mathbf{#1}}{\\left(3 \\, \\cos\\left({\\alpha}\\right)^{2} - 1\\right)} {\\delta}^{2} {l_4} {\\bar m}^{2} {\\mu_I}^{2} \\pi_1\\left(x\\right) \\sin\\left({\\alpha}\\right)</script></html>"
      ],
      "text/plain": [
       "(3*cos(a)^2 - 1)*d^2*l4*mm^2*mu^2*pi1(x)*sin(a)"
      ]
     },
     "metadata": {},
     "output_type": "display_data"
    },
    {
     "data": {
      "text/html": [
       "<html><script type=\"math/tex; mode=display\">\\newcommand{\\Bold}[1]{\\mathbf{#1}}2 \\, {\\left({\\delta_\\rho}^{2} {l_1} \\partial_\\mu \\pi_2\\left(x\\right) + {\\delta_\\nu}^{2} {l_2} \\partial_\\mu \\pi_2\\left(x\\right) + {\\delta_\\mu} {\\delta_\\nu} {l_2} \\partial_\\nu \\pi_2\\left(x\\right) + {\\delta_\\mu} {\\delta_\\rho} {l_1} \\partial_\\rho \\pi_2\\left(x\\right)\\right)} {\\delta_\\mu} {\\mu_I}^{3} \\sin\\left({\\alpha}\\right)^{3}</script></html>"
      ],
      "text/plain": [
       "2*(drho^2*l1*pimu2(x) + dnu^2*l2*pimu2(x) + dmu*dnu*l2*pinu2(x) + dmu*drho*l1*pirho2(x))*dmu*mu^3*sin(a)^3"
      ]
     },
     "metadata": {},
     "output_type": "display_data"
    },
    {
     "data": {
      "text/html": [
       "<html><script type=\"math/tex; mode=display\">\\newcommand{\\Bold}[1]{\\mathbf{#1}}4 \\, {\\left({\\delta_\\rho}^{2} {l_1} + {\\delta_\\nu}^{2} {l_2}\\right)} {\\delta_\\mu}^{2} {\\mu_I}^{4} \\cos\\left({\\alpha}\\right) \\pi_1\\left(x\\right) \\sin\\left({\\alpha}\\right)^{3}</script></html>"
      ],
      "text/plain": [
       "4*(drho^2*l1 + dnu^2*l2)*dmu^2*mu^4*cos(a)*pi1(x)*sin(a)^3"
      ]
     },
     "metadata": {},
     "output_type": "display_data"
    },
    {
     "name": "stdout",
     "output_type": "stream",
     "text": [
      "e^2 :\n"
     ]
    },
    {
     "data": {
      "text/html": [
       "<html><script type=\"math/tex; mode=display\">\\newcommand{\\Bold}[1]{\\mathbf{#1}}-2 \\, {l_3} {\\bar m}^{4} \\cos\\left({\\alpha}\\right)^{2} \\pi_1\\left(x\\right)^{2} - 2 \\, {l_4} {\\bar m}^{4} \\cos\\left({\\alpha}\\right)^{2} \\pi_1\\left(x\\right)^{2} - {l_3} {\\bar m}^{4} \\cos\\left({\\alpha}\\right)^{2} \\pi_2\\left(x\\right)^{2} - {l_4} {\\bar m}^{4} \\cos\\left({\\alpha}\\right)^{2} \\pi_2\\left(x\\right)^{2} - {l_3} {\\bar m}^{4} \\cos\\left({\\alpha}\\right)^{2} \\pi_3\\left(x\\right)^{2} - {l_4} {\\bar m}^{4} \\cos\\left({\\alpha}\\right)^{2} \\pi_3\\left(x\\right)^{2} + {l_3} {\\bar m}^{4} \\pi_1\\left(x\\right)^{2} + {l_4} {\\bar m}^{4} \\pi_1\\left(x\\right)^{2} + {\\Delta m}^{4} {l_7} \\pi_3\\left(x\\right)^{2} + {l_4} {\\bar m}^{2} \\cos\\left({\\alpha}\\right) \\frac{\\partial}{\\partial x}\\pi_1\\left(x\\right)^{2} + {l_4} {\\bar m}^{2} \\cos\\left({\\alpha}\\right) \\frac{\\partial}{\\partial x}\\pi_2\\left(x\\right)^{2} + {l_4} {\\bar m}^{2} \\cos\\left({\\alpha}\\right) \\frac{\\partial}{\\partial x}\\pi_3\\left(x\\right)^{2}</script></html>"
      ],
      "text/plain": [
       "-2*l3*mm^4*cos(a)^2*pi1(x)^2 - 2*l4*mm^4*cos(a)^2*pi1(x)^2 - l3*mm^4*cos(a)^2*pi2(x)^2 - l4*mm^4*cos(a)^2*pi2(x)^2 - l3*mm^4*cos(a)^2*pi3(x)^2 - l4*mm^4*cos(a)^2*pi3(x)^2 + l3*mm^4*pi1(x)^2 + l4*mm^4*pi1(x)^2 + dm^4*l7*pi3(x)^2 + l4*mm^2*cos(a)*diff(pi1(x), x)^2 + l4*mm^2*cos(a)*diff(pi2(x), x)^2 + l4*mm^2*cos(a)*diff(pi3(x), x)^2"
      ]
     },
     "metadata": {},
     "output_type": "display_data"
    },
    {
     "data": {
      "text/html": [
       "<html><script type=\"math/tex; mode=display\">\\newcommand{\\Bold}[1]{\\mathbf{#1}}-2 \\, {\\left(\\cos\\left({\\alpha}\\right)^{2} \\pi_2\\left(x\\right) \\frac{\\partial}{\\partial x}\\pi_1\\left(x\\right) - 2 \\, \\cos\\left({\\alpha}\\right)^{2} \\pi_1\\left(x\\right) \\frac{\\partial}{\\partial x}\\pi_2\\left(x\\right) + \\pi_1\\left(x\\right) \\frac{\\partial}{\\partial x}\\pi_2\\left(x\\right)\\right)} {\\delta} {l_4} {\\bar m}^{2} {\\mu_I}</script></html>"
      ],
      "text/plain": [
       "-2*(cos(a)^2*pi2(x)*diff(pi1(x), x) - 2*cos(a)^2*pi1(x)*diff(pi2(x), x) + pi1(x)*diff(pi2(x), x))*d*l4*mm^2*mu"
      ]
     },
     "metadata": {},
     "output_type": "display_data"
    },
    {
     "data": {
      "text/html": [
       "<html><script type=\"math/tex; mode=display\">\\newcommand{\\Bold}[1]{\\mathbf{#1}}-\\frac{1}{2} \\, {\\left(9 \\, {\\delta}^{2} {l_4} {\\bar m}^{2} \\cos\\left({\\alpha}\\right) \\pi_1\\left(x\\right)^{2} \\sin\\left({\\alpha}\\right)^{2} + 3 \\, {\\delta}^{2} {l_4} {\\bar m}^{2} \\cos\\left({\\alpha}\\right) \\pi_2\\left(x\\right)^{2} \\sin\\left({\\alpha}\\right)^{2} + 3 \\, {\\delta}^{2} {l_4} {\\bar m}^{2} \\cos\\left({\\alpha}\\right) \\pi_3\\left(x\\right)^{2} \\sin\\left({\\alpha}\\right)^{2} - 2 \\, {\\delta}^{2} {l_4} {\\bar m}^{2} \\cos\\left({\\alpha}\\right) \\pi_1\\left(x\\right)^{2} - 2 \\, {\\delta}^{2} {l_4} {\\bar m}^{2} \\cos\\left({\\alpha}\\right) \\pi_2\\left(x\\right)^{2} - 2 \\, {\\delta_\\rho}^{2} {l_1} \\partial_\\mu \\pi_1\\left(x\\right)^{2} \\sin\\left({\\alpha}\\right)^{2} - 2 \\, {\\delta_\\rho}^{2} {l_1} \\partial_\\mu \\pi_2\\left(x\\right)^{2} \\sin\\left({\\alpha}\\right)^{2} - 2 \\, {\\delta_\\nu}^{2} {l_2} \\partial_\\mu \\pi_2\\left(x\\right)^{2} \\sin\\left({\\alpha}\\right)^{2} - 2 \\, {\\delta_\\rho}^{2} {l_1} \\partial_\\mu \\pi_3\\left(x\\right)^{2} \\sin\\left({\\alpha}\\right)^{2} - 4 \\, {\\delta_\\mu} {\\delta_\\nu} {l_2} \\partial_\\mu \\pi_1\\left(x\\right) \\partial_\\nu \\pi_1\\left(x\\right) \\sin\\left({\\alpha}\\right)^{2} - 8 \\, {\\delta_\\mu} {\\delta_\\nu} {l_2} \\partial_\\mu \\pi_2\\left(x\\right) \\partial_\\nu \\pi_2\\left(x\\right) \\sin\\left({\\alpha}\\right)^{2} - 2 \\, {\\delta_\\mu}^{2} {l_2} \\partial_\\nu \\pi_2\\left(x\\right)^{2} \\sin\\left({\\alpha}\\right)^{2} - 4 \\, {\\delta_\\mu} {\\delta_\\nu} {l_2} \\partial_\\mu \\pi_3\\left(x\\right) \\partial_\\nu \\pi_3\\left(x\\right) \\sin\\left({\\alpha}\\right)^{2} - 2 \\, {\\delta_\\mu}^{2} {l_1} \\partial_\\rho \\pi_1\\left(x\\right)^{2} \\sin\\left({\\alpha}\\right)^{2} - 8 \\, {\\delta_\\mu} {\\delta_\\rho} {l_1} \\partial_\\mu \\pi_2\\left(x\\right) \\partial_\\rho \\pi_2\\left(x\\right) \\sin\\left({\\alpha}\\right)^{2} - 2 \\, {\\delta_\\mu}^{2} {l_1} \\partial_\\rho \\pi_2\\left(x\\right)^{2} \\sin\\left({\\alpha}\\right)^{2} - 2 \\, {\\delta_\\mu}^{2} {l_1} \\partial_\\rho \\pi_3\\left(x\\right)^{2} \\sin\\left({\\alpha}\\right)^{2}\\right)} {\\mu_I}^{2}</script></html>"
      ],
      "text/plain": [
       "-1/2*(9*d^2*l4*mm^2*cos(a)*pi1(x)^2*sin(a)^2 + 3*d^2*l4*mm^2*cos(a)*pi2(x)^2*sin(a)^2 + 3*d^2*l4*mm^2*cos(a)*pi3(x)^2*sin(a)^2 - 2*d^2*l4*mm^2*cos(a)*pi1(x)^2 - 2*d^2*l4*mm^2*cos(a)*pi2(x)^2 - 2*drho^2*l1*pimu1(x)^2*sin(a)^2 - 2*drho^2*l1*pimu2(x)^2*sin(a)^2 - 2*dnu^2*l2*pimu2(x)^2*sin(a)^2 - 2*drho^2*l1*pimu3(x)^2*sin(a)^2 - 4*dmu*dnu*l2*pimu1(x)*pinu1(x)*sin(a)^2 - 8*dmu*dnu*l2*pimu2(x)*pinu2(x)*sin(a)^2 - 2*dmu^2*l2*pinu2(x)^2*sin(a)^2 - 4*dmu*dnu*l2*pimu3(x)*pinu3(x)*sin(a)^2 - 2*dmu^2*l1*pirho1(x)^2*sin(a)^2 - 8*dmu*drho*l1*pimu2(x)*pirho2(x)*sin(a)^2 - 2*dmu^2*l1*pirho2(x)^2*sin(a)^2 - 2*dmu^2*l1*pirho3(x)^2*sin(a)^2)*mu^2"
      ]
     },
     "metadata": {},
     "output_type": "display_data"
    },
    {
     "data": {
      "text/html": [
       "<html><script type=\"math/tex; mode=display\">\\newcommand{\\Bold}[1]{\\mathbf{#1}}-2 \\, {\\left({\\delta_\\rho}^{2} {l_1} \\pi_2\\left(x\\right) \\partial_\\mu \\pi_1\\left(x\\right) + {\\delta_\\nu}^{2} {l_2} \\pi_2\\left(x\\right) \\partial_\\mu \\pi_1\\left(x\\right) - 3 \\, {\\delta_\\rho}^{2} {l_1} \\pi_1\\left(x\\right) \\partial_\\mu \\pi_2\\left(x\\right) - 3 \\, {\\delta_\\nu}^{2} {l_2} \\pi_1\\left(x\\right) \\partial_\\mu \\pi_2\\left(x\\right) + {\\delta_\\mu} {\\delta_\\nu} {l_2} \\pi_2\\left(x\\right) \\partial_\\nu \\pi_1\\left(x\\right) - 3 \\, {\\delta_\\mu} {\\delta_\\nu} {l_2} \\pi_1\\left(x\\right) \\partial_\\nu \\pi_2\\left(x\\right) + {\\delta_\\mu} {\\delta_\\rho} {l_1} \\pi_2\\left(x\\right) \\partial_\\rho \\pi_1\\left(x\\right) - 3 \\, {\\delta_\\mu} {\\delta_\\rho} {l_1} \\pi_1\\left(x\\right) \\partial_\\rho \\pi_2\\left(x\\right)\\right)} {\\delta_\\mu} {\\mu_I}^{3} \\cos\\left({\\alpha}\\right) \\sin\\left({\\alpha}\\right)^{2}</script></html>"
      ],
      "text/plain": [
       "-2*(drho^2*l1*pi2(x)*pimu1(x) + dnu^2*l2*pi2(x)*pimu1(x) - 3*drho^2*l1*pi1(x)*pimu2(x) - 3*dnu^2*l2*pi1(x)*pimu2(x) + dmu*dnu*l2*pi2(x)*pinu1(x) - 3*dmu*dnu*l2*pi1(x)*pinu2(x) + dmu*drho*l1*pi2(x)*pirho1(x) - 3*dmu*drho*l1*pi1(x)*pirho2(x))*dmu*mu^3*cos(a)*sin(a)^2"
      ]
     },
     "metadata": {},
     "output_type": "display_data"
    },
    {
     "data": {
      "text/html": [
       "<html><script type=\"math/tex; mode=display\">\\newcommand{\\Bold}[1]{\\mathbf{#1}}-2 \\, {\\left(4 \\, \\pi_1\\left(x\\right)^{2} \\sin\\left({\\alpha}\\right)^{2} + \\pi_2\\left(x\\right)^{2} \\sin\\left({\\alpha}\\right)^{2} + \\pi_3\\left(x\\right)^{2} \\sin\\left({\\alpha}\\right)^{2} - 3 \\, \\pi_1\\left(x\\right)^{2} - \\pi_2\\left(x\\right)^{2}\\right)} {\\left({\\delta_\\rho}^{2} {l_1} + {\\delta_\\nu}^{2} {l_2}\\right)} {\\delta_\\mu}^{2} {\\mu_I}^{4} \\sin\\left({\\alpha}\\right)^{2}</script></html>"
      ],
      "text/plain": [
       "-2*(4*pi1(x)^2*sin(a)^2 + pi2(x)^2*sin(a)^2 + pi3(x)^2*sin(a)^2 - 3*pi1(x)^2 - pi2(x)^2)*(drho^2*l1 + dnu^2*l2)*dmu^2*mu^4*sin(a)^2"
      ]
     },
     "metadata": {},
     "output_type": "display_data"
    }
   ],
   "source": [
    "LNLO = (\n",
    "    l1 / 4 * term_l1\n",
    "    + l2 / 4 * term_l2\n",
    "    + (l3 + h1 - h3) / 16 * term_l3\n",
    "    + l4 / 8 * term_l4\n",
    "    + (h1 - h3 - l4 - l7) / 16 * term_l7\n",
    "    + (h1 + h3 - l4) / 4 * term_chisq\n",
    "    - (h1 - h3 - l4) / 8 * term_last\n",
    ")\n",
    "print_e(LNLO)"
   ]
  },
  {
   "cell_type": "code",
   "execution_count": 40,
   "metadata": {},
   "outputs": [
    {
     "name": "stdout",
     "output_type": "stream",
     "text": [
      "coeff:  l2\n",
      "mu to the power:  2\n"
     ]
    },
    {
     "data": {
      "text/html": [
       "<html><script type=\"math/tex; mode=display\">\\newcommand{\\Bold}[1]{\\mathbf{#1}}{\\left({\\delta_\\nu}^{2} \\partial_\\mu \\pi_2\\left(x\\right)^{2} + 2 \\, {\\delta_\\mu} {\\delta_\\nu} \\partial_\\mu \\pi_1\\left(x\\right) \\partial_\\nu \\pi_1\\left(x\\right) + 4 \\, {\\delta_\\mu} {\\delta_\\nu} \\partial_\\mu \\pi_2\\left(x\\right) \\partial_\\nu \\pi_2\\left(x\\right) + {\\delta_\\mu}^{2} \\partial_\\nu \\pi_2\\left(x\\right)^{2} + 2 \\, {\\delta_\\mu} {\\delta_\\nu} \\partial_\\mu \\pi_3\\left(x\\right) \\partial_\\nu \\pi_3\\left(x\\right)\\right)} \\sin\\left({\\alpha}\\right)^{2}</script></html>"
      ],
      "text/plain": [
       "(dnu^2*pimu2(x)^2 + 2*dmu*dnu*pimu1(x)*pinu1(x) + 4*dmu*dnu*pimu2(x)*pinu2(x) + dmu^2*pinu2(x)^2 + 2*dmu*dnu*pimu3(x)*pinu3(x))*sin(a)^2"
      ]
     },
     "execution_count": 40,
     "metadata": {},
     "output_type": "execute_result"
    }
   ],
   "source": [
    "# Check one term at a time\n",
    "coeff = l2\n",
    "power = 2\n",
    "a = LNLO.coefficients(e)[power][0].expand().coefficients(coeff)[1][0].coefficients(mu)\n",
    "print(\"coeff: \", coeff)\n",
    "print(\"mu to the power: \", a[0][1])\n",
    "a[0][0].full_simplify().factor()"
   ]
  },
  {
   "cell_type": "code",
   "execution_count": 41,
   "metadata": {},
   "outputs": [
    {
     "name": "stdout",
     "output_type": "stream",
     "text": [
      "coeff:  l1\n",
      "mu to the power:  2\n"
     ]
    },
    {
     "data": {
      "text/html": [
       "<html><script type=\"math/tex; mode=display\">\\newcommand{\\Bold}[1]{\\mathbf{#1}}{\\left({\\delta_\\rho}^{2} \\partial_\\mu \\pi_1\\left(x\\right)^{2} + {\\delta_\\rho}^{2} \\partial_\\mu \\pi_2\\left(x\\right)^{2} + {\\delta_\\rho}^{2} \\partial_\\mu \\pi_3\\left(x\\right)^{2} + {\\delta_\\mu}^{2} \\partial_\\rho \\pi_1\\left(x\\right)^{2} + 4 \\, {\\delta_\\mu} {\\delta_\\rho} \\partial_\\mu \\pi_2\\left(x\\right) \\partial_\\rho \\pi_2\\left(x\\right) + {\\delta_\\mu}^{2} \\partial_\\rho \\pi_2\\left(x\\right)^{2} + {\\delta_\\mu}^{2} \\partial_\\rho \\pi_3\\left(x\\right)^{2}\\right)} \\sin\\left({\\alpha}\\right)^{2}</script></html>"
      ],
      "text/plain": [
       "(drho^2*pimu1(x)^2 + drho^2*pimu2(x)^2 + drho^2*pimu3(x)^2 + dmu^2*pirho1(x)^2 + 4*dmu*drho*pimu2(x)*pirho2(x) + dmu^2*pirho2(x)^2 + dmu^2*pirho3(x)^2)*sin(a)^2"
      ]
     },
     "execution_count": 41,
     "metadata": {},
     "output_type": "execute_result"
    }
   ],
   "source": [
    "coeff = l1\n",
    "power = 2\n",
    "a = LNLO.coefficients(e)[power][0].expand().coefficients(coeff)[1][0].coefficients(mu)\n",
    "print(\"coeff: \", coeff)\n",
    "print(\"mu to the power: \", a[0][1])\n",
    "a[0][0].full_simplify().factor()"
   ]
  },
  {
   "cell_type": "code",
   "execution_count": 42,
   "metadata": {},
   "outputs": [
    {
     "data": {
      "text/html": [
       "<html><script type=\"math/tex; mode=display\">\\newcommand{\\Bold}[1]{\\mathbf{#1}}{h_1'}</script></html>"
      ],
      "text/plain": [
       "h1n"
      ]
     },
     "execution_count": 42,
     "metadata": {},
     "output_type": "execute_result"
    }
   ],
   "source": [
    "var(\"h1n\", latex_name=\"h_1'\")\n",
    "h1n"
   ]
  },
  {
   "cell_type": "code",
   "execution_count": 43,
   "metadata": {},
   "outputs": [
    {
     "name": "stdout",
     "output_type": "stream",
     "text": [
      "1 :\n"
     ]
    },
    {
     "data": {
      "text/html": [
       "<html><script type=\"math/tex; mode=display\">\\newcommand{\\Bold}[1]{\\mathbf{#1}}{\\Delta m}^{4} {h_3} + {\\left({l_3} \\cos\\left({\\alpha}\\right)^{2} + {l_4} \\cos\\left({\\alpha}\\right)^{2} + {h_1'}\\right)} {\\bar m}^{4}</script></html>"
      ],
      "text/plain": [
       "dm^4*h3 + (l3*cos(a)^2 + l4*cos(a)^2 + h1n)*mm^4"
      ]
     },
     "metadata": {},
     "output_type": "display_data"
    },
    {
     "data": {
      "text/html": [
       "<html><script type=\"math/tex; mode=display\">\\newcommand{\\Bold}[1]{\\mathbf{#1}}{\\delta}^{2} {l_4} {\\bar m}^{2} {\\mu_I}^{2} \\cos\\left({\\alpha}\\right) \\sin\\left({\\alpha}\\right)^{2}</script></html>"
      ],
      "text/plain": [
       "d^2*l4*mm^2*mu^2*cos(a)*sin(a)^2"
      ]
     },
     "metadata": {},
     "output_type": "display_data"
    },
    {
     "data": {
      "text/html": [
       "<html><script type=\"math/tex; mode=display\">\\newcommand{\\Bold}[1]{\\mathbf{#1}}{\\left({\\delta_\\rho}^{2} {l_1} \\sin\\left({\\alpha}\\right)^{4} + {l_2} \\sin\\left({\\alpha}\\right)^{4}\\right)} {\\mu_I}^{4}</script></html>"
      ],
      "text/plain": [
       "(drho^2*l1*sin(a)^4 + l2*sin(a)^4)*mu^4"
      ]
     },
     "metadata": {},
     "output_type": "display_data"
    },
    {
     "name": "stdout",
     "output_type": "stream",
     "text": [
      "e :\n"
     ]
    },
    {
     "data": {
      "text/html": [
       "<html><script type=\"math/tex; mode=display\">\\newcommand{\\Bold}[1]{\\mathbf{#1}}-2 \\, {\\left({l_3} \\cos\\left({\\alpha}\\right) \\sin\\left({\\alpha}\\right) + {l_4} \\cos\\left({\\alpha}\\right) \\sin\\left({\\alpha}\\right)\\right)} {\\bar m}^{4} \\pi_1\\left(x\\right)</script></html>"
      ],
      "text/plain": [
       "-2*(l3*cos(a)*sin(a) + l4*cos(a)*sin(a))*mm^4*pi1(x)"
      ]
     },
     "metadata": {},
     "output_type": "display_data"
    },
    {
     "data": {
      "text/html": [
       "<html><script type=\"math/tex; mode=display\">\\newcommand{\\Bold}[1]{\\mathbf{#1}}2 \\, {\\delta} {l_4} {\\bar m}^{2} {\\mu_I} \\cos\\left({\\alpha}\\right) \\sin\\left({\\alpha}\\right) \\frac{\\partial}{\\partial x}\\pi_2\\left(x\\right)</script></html>"
      ],
      "text/plain": [
       "2*d*l4*mm^2*mu*cos(a)*sin(a)*diff(pi2(x), x)"
      ]
     },
     "metadata": {},
     "output_type": "display_data"
    },
    {
     "data": {
      "text/html": [
       "<html><script type=\"math/tex; mode=display\">\\newcommand{\\Bold}[1]{\\mathbf{#1}}{\\left(3 \\, \\cos\\left({\\alpha}\\right)^{2} - 1\\right)} {\\delta}^{2} {l_4} {\\bar m}^{2} {\\mu_I}^{2} \\pi_1\\left(x\\right) \\sin\\left({\\alpha}\\right)</script></html>"
      ],
      "text/plain": [
       "(3*cos(a)^2 - 1)*d^2*l4*mm^2*mu^2*pi1(x)*sin(a)"
      ]
     },
     "metadata": {},
     "output_type": "display_data"
    },
    {
     "data": {
      "text/html": [
       "<html><script type=\"math/tex; mode=display\">\\newcommand{\\Bold}[1]{\\mathbf{#1}}2 \\, {\\delta_\\nu} {l_2} {\\mu_I}^{3} \\partial_\\nu \\pi_2\\left(x\\right) \\sin\\left({\\alpha}\\right)^{3} + 2 \\, {\\delta_\\rho} {l_1} {\\mu_I}^{3} \\partial_\\rho \\pi_2\\left(x\\right) \\sin\\left({\\alpha}\\right)^{3} + 2 \\, {\\left({\\delta_\\mu} {\\delta_\\rho}^{2} {l_1} \\sin\\left({\\alpha}\\right)^{3} + {\\delta_\\mu} {l_2} \\sin\\left({\\alpha}\\right)^{3}\\right)} {\\mu_I}^{3} \\partial_\\mu \\pi_2\\left(x\\right)</script></html>"
      ],
      "text/plain": [
       "2*dnu*l2*mu^3*pinu2(x)*sin(a)^3 + 2*drho*l1*mu^3*pirho2(x)*sin(a)^3 + 2*(dmu*drho^2*l1*sin(a)^3 + dmu*l2*sin(a)^3)*mu^3*pimu2(x)"
      ]
     },
     "metadata": {},
     "output_type": "display_data"
    },
    {
     "data": {
      "text/html": [
       "<html><script type=\"math/tex; mode=display\">\\newcommand{\\Bold}[1]{\\mathbf{#1}}4 \\, {\\left({\\delta_\\rho}^{2} {l_1} \\cos\\left({\\alpha}\\right) \\sin\\left({\\alpha}\\right)^{3} + {l_2} \\cos\\left({\\alpha}\\right) \\sin\\left({\\alpha}\\right)^{3}\\right)} {\\mu_I}^{4} \\pi_1\\left(x\\right)</script></html>"
      ],
      "text/plain": [
       "4*(drho^2*l1*cos(a)*sin(a)^3 + l2*cos(a)*sin(a)^3)*mu^4*pi1(x)"
      ]
     },
     "metadata": {},
     "output_type": "display_data"
    },
    {
     "name": "stdout",
     "output_type": "stream",
     "text": [
      "e^2 :\n"
     ]
    },
    {
     "data": {
      "text/html": [
       "<html><script type=\"math/tex; mode=display\">\\newcommand{\\Bold}[1]{\\mathbf{#1}}-{\\left({\\left(2 \\, \\cos\\left({\\alpha}\\right)^{2} - 1\\right)} {l_3} + {\\left(2 \\, \\cos\\left({\\alpha}\\right)^{2} - 1\\right)} {l_4}\\right)} {\\bar m}^{4} \\pi_1\\left(x\\right)^{2} - {\\left({l_3} \\cos\\left({\\alpha}\\right)^{2} + {l_4} \\cos\\left({\\alpha}\\right)^{2}\\right)} {\\bar m}^{4} \\pi_2\\left(x\\right)^{2} - {\\left({l_3} \\cos\\left({\\alpha}\\right)^{2} + {l_4} \\cos\\left({\\alpha}\\right)^{2}\\right)} {\\bar m}^{4} \\pi_3\\left(x\\right)^{2} + {l_4} {\\bar m}^{2} \\cos\\left({\\alpha}\\right) \\frac{\\partial}{\\partial x}\\pi_1\\left(x\\right)^{2} + {l_4} {\\bar m}^{2} \\cos\\left({\\alpha}\\right) \\frac{\\partial}{\\partial x}\\pi_2\\left(x\\right)^{2} + {l_4} {\\bar m}^{2} \\cos\\left({\\alpha}\\right) \\frac{\\partial}{\\partial x}\\pi_3\\left(x\\right)^{2}</script></html>"
      ],
      "text/plain": [
       "-((2*cos(a)^2 - 1)*l3 + (2*cos(a)^2 - 1)*l4)*mm^4*pi1(x)^2 - (l3*cos(a)^2 + l4*cos(a)^2)*mm^4*pi2(x)^2 - (l3*cos(a)^2 + l4*cos(a)^2)*mm^4*pi3(x)^2 + l4*mm^2*cos(a)*diff(pi1(x), x)^2 + l4*mm^2*cos(a)*diff(pi2(x), x)^2 + l4*mm^2*cos(a)*diff(pi3(x), x)^2"
      ]
     },
     "metadata": {},
     "output_type": "display_data"
    },
    {
     "data": {
      "text/html": [
       "<html><script type=\"math/tex; mode=display\">\\newcommand{\\Bold}[1]{\\mathbf{#1}}-2 \\, {\\delta} {l_4} {\\bar m}^{2} {\\mu_I} \\cos\\left({\\alpha}\\right)^{2} \\pi_2\\left(x\\right) \\frac{\\partial}{\\partial x}\\pi_1\\left(x\\right) + 2 \\, {\\left(2 \\, \\cos\\left({\\alpha}\\right)^{2} - 1\\right)} {\\delta} {l_4} {\\bar m}^{2} {\\mu_I} \\pi_1\\left(x\\right) \\frac{\\partial}{\\partial x}\\pi_2\\left(x\\right)</script></html>"
      ],
      "text/plain": [
       "-2*d*l4*mm^2*mu*cos(a)^2*pi2(x)*diff(pi1(x), x) + 2*(2*cos(a)^2 - 1)*d*l4*mm^2*mu*pi1(x)*diff(pi2(x), x)"
      ]
     },
     "metadata": {},
     "output_type": "display_data"
    },
    {
     "data": {
      "text/html": [
       "<html><script type=\"math/tex; mode=display\">\\newcommand{\\Bold}[1]{\\mathbf{#1}}-\\frac{3}{2} \\, {\\delta}^{2} {l_4} {\\bar m}^{2} {\\mu_I}^{2} \\cos\\left({\\alpha}\\right) \\pi_3\\left(x\\right)^{2} \\sin\\left({\\alpha}\\right)^{2} - \\frac{1}{2} \\, {\\left(9 \\, \\cos\\left({\\alpha}\\right) \\sin\\left({\\alpha}\\right)^{2} - 2 \\, \\cos\\left({\\alpha}\\right)\\right)} {\\delta}^{2} {l_4} {\\bar m}^{2} {\\mu_I}^{2} \\pi_1\\left(x\\right)^{2} - \\frac{1}{2} \\, {\\left(3 \\, \\cos\\left({\\alpha}\\right) \\sin\\left({\\alpha}\\right)^{2} - 2 \\, \\cos\\left({\\alpha}\\right)\\right)} {\\delta}^{2} {l_4} {\\bar m}^{2} {\\mu_I}^{2} \\pi_2\\left(x\\right)^{2} + {\\delta_\\rho}^{2} {l_1} {\\mu_I}^{2} \\partial_\\mu \\pi_1\\left(x\\right)^{2} \\sin\\left({\\alpha}\\right)^{2} + {\\delta_\\rho}^{2} {l_1} {\\mu_I}^{2} \\partial_\\mu \\pi_3\\left(x\\right)^{2} \\sin\\left({\\alpha}\\right)^{2} + 2 \\, {\\delta_\\mu} {\\delta_\\nu} {l_2} {\\mu_I}^{2} \\partial_\\mu \\pi_1\\left(x\\right) \\partial_\\nu \\pi_1\\left(x\\right) \\sin\\left({\\alpha}\\right)^{2} + 4 \\, {\\delta_\\mu} {\\delta_\\nu} {l_2} {\\mu_I}^{2} \\partial_\\mu \\pi_2\\left(x\\right) \\partial_\\nu \\pi_2\\left(x\\right) \\sin\\left({\\alpha}\\right)^{2} + 2 \\, {\\delta_\\mu} {\\delta_\\nu} {l_2} {\\mu_I}^{2} \\partial_\\mu \\pi_3\\left(x\\right) \\partial_\\nu \\pi_3\\left(x\\right) \\sin\\left({\\alpha}\\right)^{2} + 4 \\, {\\delta_\\mu} {\\delta_\\rho} {l_1} {\\mu_I}^{2} \\partial_\\mu \\pi_2\\left(x\\right) \\partial_\\rho \\pi_2\\left(x\\right) \\sin\\left({\\alpha}\\right)^{2} + {l_2} {\\mu_I}^{2} \\partial_\\nu \\pi_2\\left(x\\right)^{2} \\sin\\left({\\alpha}\\right)^{2} + {l_1} {\\mu_I}^{2} \\partial_\\rho \\pi_1\\left(x\\right)^{2} \\sin\\left({\\alpha}\\right)^{2} + {l_1} {\\mu_I}^{2} \\partial_\\rho \\pi_2\\left(x\\right)^{2} \\sin\\left({\\alpha}\\right)^{2} + {l_1} {\\mu_I}^{2} \\partial_\\rho \\pi_3\\left(x\\right)^{2} \\sin\\left({\\alpha}\\right)^{2} + {\\left({\\delta_\\rho}^{2} {l_1} \\sin\\left({\\alpha}\\right)^{2} + {l_2} \\sin\\left({\\alpha}\\right)^{2}\\right)} {\\mu_I}^{2} \\partial_\\mu \\pi_2\\left(x\\right)^{2}</script></html>"
      ],
      "text/plain": [
       "-3/2*d^2*l4*mm^2*mu^2*cos(a)*pi3(x)^2*sin(a)^2 - 1/2*(9*cos(a)*sin(a)^2 - 2*cos(a))*d^2*l4*mm^2*mu^2*pi1(x)^2 - 1/2*(3*cos(a)*sin(a)^2 - 2*cos(a))*d^2*l4*mm^2*mu^2*pi2(x)^2 + drho^2*l1*mu^2*pimu1(x)^2*sin(a)^2 + drho^2*l1*mu^2*pimu3(x)^2*sin(a)^2 + 2*dmu*dnu*l2*mu^2*pimu1(x)*pinu1(x)*sin(a)^2 + 4*dmu*dnu*l2*mu^2*pimu2(x)*pinu2(x)*sin(a)^2 + 2*dmu*dnu*l2*mu^2*pimu3(x)*pinu3(x)*sin(a)^2 + 4*dmu*drho*l1*mu^2*pimu2(x)*pirho2(x)*sin(a)^2 + l2*mu^2*pinu2(x)^2*sin(a)^2 + l1*mu^2*pirho1(x)^2*sin(a)^2 + l1*mu^2*pirho2(x)^2*sin(a)^2 + l1*mu^2*pirho3(x)^2*sin(a)^2 + (drho^2*l1*sin(a)^2 + l2*sin(a)^2)*mu^2*pimu2(x)^2"
      ]
     },
     "metadata": {},
     "output_type": "display_data"
    },
    {
     "data": {
      "text/html": [
       "<html><script type=\"math/tex; mode=display\">\\newcommand{\\Bold}[1]{\\mathbf{#1}}-2 \\, {\\delta_\\nu} {l_2} {\\mu_I}^{3} \\cos\\left({\\alpha}\\right) \\pi_2\\left(x\\right) \\partial_\\nu \\pi_1\\left(x\\right) \\sin\\left({\\alpha}\\right)^{2} + 6 \\, {\\delta_\\nu} {l_2} {\\mu_I}^{3} \\cos\\left({\\alpha}\\right) \\pi_1\\left(x\\right) \\partial_\\nu \\pi_2\\left(x\\right) \\sin\\left({\\alpha}\\right)^{2} - 2 \\, {\\delta_\\rho} {l_1} {\\mu_I}^{3} \\cos\\left({\\alpha}\\right) \\pi_2\\left(x\\right) \\partial_\\rho \\pi_1\\left(x\\right) \\sin\\left({\\alpha}\\right)^{2} + 6 \\, {\\delta_\\rho} {l_1} {\\mu_I}^{3} \\cos\\left({\\alpha}\\right) \\pi_1\\left(x\\right) \\partial_\\rho \\pi_2\\left(x\\right) \\sin\\left({\\alpha}\\right)^{2} - 2 \\, {\\left({\\delta_\\mu} {\\delta_\\rho}^{2} {l_1} \\cos\\left({\\alpha}\\right) \\sin\\left({\\alpha}\\right)^{2} + {\\delta_\\mu} {l_2} \\cos\\left({\\alpha}\\right) \\sin\\left({\\alpha}\\right)^{2}\\right)} {\\mu_I}^{3} \\pi_2\\left(x\\right) \\partial_\\mu \\pi_1\\left(x\\right) + 6 \\, {\\left({\\delta_\\mu} {\\delta_\\rho}^{2} {l_1} \\cos\\left({\\alpha}\\right) \\sin\\left({\\alpha}\\right)^{2} + {\\delta_\\mu} {l_2} \\cos\\left({\\alpha}\\right) \\sin\\left({\\alpha}\\right)^{2}\\right)} {\\mu_I}^{3} \\pi_1\\left(x\\right) \\partial_\\mu \\pi_2\\left(x\\right)</script></html>"
      ],
      "text/plain": [
       "-2*dnu*l2*mu^3*cos(a)*pi2(x)*pinu1(x)*sin(a)^2 + 6*dnu*l2*mu^3*cos(a)*pi1(x)*pinu2(x)*sin(a)^2 - 2*drho*l1*mu^3*cos(a)*pi2(x)*pirho1(x)*sin(a)^2 + 6*drho*l1*mu^3*cos(a)*pi1(x)*pirho2(x)*sin(a)^2 - 2*(dmu*drho^2*l1*cos(a)*sin(a)^2 + dmu*l2*cos(a)*sin(a)^2)*mu^3*pi2(x)*pimu1(x) + 6*(dmu*drho^2*l1*cos(a)*sin(a)^2 + dmu*l2*cos(a)*sin(a)^2)*mu^3*pi1(x)*pimu2(x)"
      ]
     },
     "metadata": {},
     "output_type": "display_data"
    },
    {
     "data": {
      "text/html": [
       "<html><script type=\"math/tex; mode=display\">\\newcommand{\\Bold}[1]{\\mathbf{#1}}-2 \\, {\\left({\\left(4 \\, \\sin\\left({\\alpha}\\right)^{4} - 3 \\, \\sin\\left({\\alpha}\\right)^{2}\\right)} {\\delta_\\rho}^{2} {l_1} + {\\left(4 \\, \\sin\\left({\\alpha}\\right)^{4} - 3 \\, \\sin\\left({\\alpha}\\right)^{2}\\right)} {l_2}\\right)} {\\mu_I}^{4} \\pi_1\\left(x\\right)^{2} - 2 \\, {\\left({\\left(\\sin\\left({\\alpha}\\right)^{4} - \\sin\\left({\\alpha}\\right)^{2}\\right)} {\\delta_\\rho}^{2} {l_1} + {\\left(\\sin\\left({\\alpha}\\right)^{4} - \\sin\\left({\\alpha}\\right)^{2}\\right)} {l_2}\\right)} {\\mu_I}^{4} \\pi_2\\left(x\\right)^{2} - 2 \\, {\\left({\\delta_\\rho}^{2} {l_1} \\sin\\left({\\alpha}\\right)^{4} + {l_2} \\sin\\left({\\alpha}\\right)^{4}\\right)} {\\mu_I}^{4} \\pi_3\\left(x\\right)^{2}</script></html>"
      ],
      "text/plain": [
       "-2*((4*sin(a)^4 - 3*sin(a)^2)*drho^2*l1 + (4*sin(a)^4 - 3*sin(a)^2)*l2)*mu^4*pi1(x)^2 - 2*((sin(a)^4 - sin(a)^2)*drho^2*l1 + (sin(a)^4 - sin(a)^2)*l2)*mu^4*pi2(x)^2 - 2*(drho^2*l1*sin(a)^4 + l2*sin(a)^4)*mu^4*pi3(x)^2"
      ]
     },
     "metadata": {},
     "output_type": "display_data"
    }
   ],
   "source": [
    "LNLOn = LNLO.subs(h1 == h1n+l4).subs(l7=0)\n",
    "print_e2(LNLOn.subs(dmu^2==1).subs(dnu^2==1))"
   ]
  },
  {
   "cell_type": "code",
   "execution_count": 44,
   "metadata": {},
   "outputs": [
    {
     "data": {
      "text/html": [
       "<html><script type=\"math/tex; mode=display\">\\newcommand{\\Bold}[1]{\\mathbf{#1}}{\\Delta m}^{4} {h_3} + {\\left({l_3} \\cos\\left({\\alpha}\\right)^{2} + {l_4} \\cos\\left({\\alpha}\\right)^{2} + {h_1'}\\right)} {\\bar m}^{4}</script></html>"
      ],
      "text/plain": [
       "dm^4*h3 + (l3*cos(a)^2 + l4*cos(a)^2 + h1n)*mm^4"
      ]
     },
     "execution_count": 44,
     "metadata": {},
     "output_type": "execute_result"
    }
   ],
   "source": [
    "a = LNLOn.coefficients(e)[0][0].coefficients(mu)[0][0]\n",
    "a.subs(h1==h1n+l4).full_simplify()"
   ]
  },
  {
   "cell_type": "code",
   "execution_count": null,
   "metadata": {},
   "outputs": [],
   "source": []
  }
 ],
 "metadata": {
  "kernelspec": {
   "display_name": "SageMath 9.0",
   "language": "sage",
   "name": "sagemath"
  },
  "language_info": {
   "codemirror_mode": {
    "name": "ipython",
    "version": 3
   },
   "file_extension": ".py",
   "mimetype": "text/x-python",
   "name": "python",
   "nbconvert_exporter": "python",
   "pygments_lexer": "ipython3",
   "version": "3.8.10"
  }
 },
 "nbformat": 4,
 "nbformat_minor": 4
}
