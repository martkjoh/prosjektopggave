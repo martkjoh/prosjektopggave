{
 "cells": [
  {
   "cell_type": "code",
   "execution_count": null,
   "source": [
    "import sympy as sp\n",
    "import numpy as np\n",
    "\n",
    "from sympy import I, det, cos, sin"
   ],
   "outputs": [],
   "metadata": {}
  },
  {
   "cell_type": "markdown",
   "source": [
    "# Finding the spectrum of the pions"
   ],
   "metadata": {}
  },
  {
   "cell_type": "code",
   "execution_count": null,
   "source": [
    "q = sp.Symbol(\"q\")\n",
    "p0 = sp.Symbol(\"p0\")\n",
    "K12 = sp.Symbol(\"K12\")\n",
    "M = [sp.Symbol(\"M{}{}^2\".format(i, i)) for i in range(1, 3+1)]\n",
    "M[1]"
   ],
   "outputs": [],
   "metadata": {}
  },
  {
   "cell_type": "code",
   "execution_count": null,
   "source": [
    "A = sp.Matrix([\n",
    "    [p0**2 - q**2 - M[0], - 2 * p0 * I * K12, 0],\n",
    "    [2 * p0 * I * K12, p0**2 - q**2 - M[1], 0],\n",
    "    [0, 0, p0**2 - q**2 - M[2]]\n",
    "])\n",
    "A"
   ],
   "outputs": [],
   "metadata": {}
  },
  {
   "cell_type": "code",
   "execution_count": null,
   "source": [
    "sol = sp.solve(det(A), p0**2)"
   ],
   "outputs": [],
   "metadata": {}
  },
  {
   "cell_type": "code",
   "execution_count": null,
   "source": [
    "sol[0]"
   ],
   "outputs": [],
   "metadata": {}
  },
  {
   "cell_type": "code",
   "execution_count": null,
   "source": [
    "sp.simplify(sol[1])"
   ],
   "outputs": [],
   "metadata": {}
  },
  {
   "cell_type": "code",
   "execution_count": null,
   "source": [
    "sp.simplify(sol[2])"
   ],
   "outputs": [],
   "metadata": {}
  },
  {
   "cell_type": "code",
   "execution_count": null,
   "source": [
    "m = sp.Symbol(\"m\")\n",
    "a = sp.Symbol(\"alpha\")\n",
    "mu = sp.Symbol(\"mu_I\")\n",
    "B0 = sp.Symbol(\"B0\")"
   ],
   "outputs": [],
   "metadata": {}
  },
  {
   "cell_type": "code",
   "execution_count": null,
   "source": [
    "for i in range(3):\n",
    "    sol[i] = sol[i].subs(M[0], 2*B0*m*cos(a) - mu**2 * cos(2*a))\n",
    "    sol[i] = sol[i].subs(M[1], 2*B0*m*cos(a) - mu**2 * cos(a)**2)\n",
    "    sol[i] = sol[i].subs(M[2], 2*B0*m*cos(a) + mu**2 * sin(2*a))\n",
    "    sol[i] = sol[i].subs(K12, mu * cos(a))\n",
    "    sol[i] = sp.simplify(sol[i])\n"
   ],
   "outputs": [],
   "metadata": {}
  },
  {
   "cell_type": "code",
   "execution_count": null,
   "source": [
    "\n",
    "sol[0]"
   ],
   "outputs": [],
   "metadata": {}
  },
  {
   "cell_type": "code",
   "execution_count": null,
   "source": [
    "sol[1]"
   ],
   "outputs": [],
   "metadata": {}
  },
  {
   "cell_type": "code",
   "execution_count": null,
   "source": [
    "sol[2]"
   ],
   "outputs": [],
   "metadata": {}
  }
 ],
 "metadata": {
  "orig_nbformat": 4,
  "language_info": {
   "name": "python",
   "version": "3.8.10",
   "mimetype": "text/x-python",
   "codemirror_mode": {
    "name": "ipython",
    "version": 3
   },
   "pygments_lexer": "ipython3",
   "nbconvert_exporter": "python",
   "file_extension": ".py"
  },
  "kernelspec": {
   "name": "python3",
   "display_name": "Python 3.8.10 64-bit"
  },
  "interpreter": {
   "hash": "31f2aee4e71d21fbe5cf8b01ff0e069b9275f58929596ceb00d14d90e3e16cd6"
  }
 },
 "nbformat": 4,
 "nbformat_minor": 2
}